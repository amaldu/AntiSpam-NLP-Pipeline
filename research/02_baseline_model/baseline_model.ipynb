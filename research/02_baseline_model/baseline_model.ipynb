{
 "cells": [
  {
   "cell_type": "markdown",
   "id": "ce7a404a",
   "metadata": {
    "papermill": {
     "duration": 0.002594,
     "end_time": "2024-12-26T16:07:10.383037",
     "exception": false,
     "start_time": "2024-12-26T16:07:10.380443",
     "status": "completed"
    },
    "tags": []
   },
   "source": [
    "The objective of this notebook is to run BOW and Multinomial Naive Bayes as our baseline model to have a reference in our experimentation\n"
   ]
  },
  {
   "cell_type": "markdown",
   "id": "d6d4891e",
   "metadata": {
    "papermill": {
     "duration": 0.001915,
     "end_time": "2024-12-26T16:07:10.387375",
     "exception": false,
     "start_time": "2024-12-26T16:07:10.385460",
     "status": "completed"
    },
    "tags": []
   },
   "source": [
    "## Datasets"
   ]
  },
  {
   "cell_type": "code",
   "execution_count": null,
   "id": "21a9e08c",
   "metadata": {},
   "outputs": [],
   "source": [
    "%load_ext autoreload\n",
    "%autoreload 2"
   ]
  },
  {
   "cell_type": "code",
   "execution_count": 1,
   "id": "2967f1cf",
   "metadata": {
    "execution": {
     "iopub.execute_input": "2024-12-26T16:07:10.392123Z",
     "iopub.status.busy": "2024-12-26T16:07:10.391888Z",
     "iopub.status.idle": "2024-12-26T16:07:11.872675Z",
     "shell.execute_reply": "2024-12-26T16:07:11.872085Z"
    },
    "papermill": {
     "duration": 1.484575,
     "end_time": "2024-12-26T16:07:11.873802",
     "exception": false,
     "start_time": "2024-12-26T16:07:10.389227",
     "status": "completed"
    },
    "tags": []
   },
   "outputs": [],
   "source": [
    "import pandas as pd\n",
    "from mlflow.models import infer_signature\n",
    "import warnings\n",
    "warnings.filterwarnings('ignore')\n",
    "\n",
    "\n",
    "train = pd.read_csv(\"../../data/gold/train.csv\")\n",
    "test = pd.read_csv(\"../../data/gold/test.csv\")\n",
    "val = pd.read_csv(\"../../data/gold/validation.csv\")\n",
    "\n",
    "X_train = train['features']\n",
    "y_train = train['target']\n",
    "X_test = test['features']\n",
    "y_test = test['target']\n",
    "\n",
    "\n",
    "signature = infer_signature(X_train, y_train)"
   ]
  },
  {
   "cell_type": "markdown",
   "id": "0b72a069",
   "metadata": {
    "papermill": {
     "duration": 0.001942,
     "end_time": "2024-12-26T16:07:11.877977",
     "exception": false,
     "start_time": "2024-12-26T16:07:11.876035",
     "status": "completed"
    },
    "tags": []
   },
   "source": [
    "## Pipeline"
   ]
  },
  {
   "cell_type": "code",
   "execution_count": 2,
   "id": "2889f423",
   "metadata": {
    "execution": {
     "iopub.execute_input": "2024-12-26T16:07:11.882268Z",
     "iopub.status.busy": "2024-12-26T16:07:11.882088Z",
     "iopub.status.idle": "2024-12-26T16:07:12.448175Z",
     "shell.execute_reply": "2024-12-26T16:07:12.447679Z"
    },
    "papermill": {
     "duration": 0.569549,
     "end_time": "2024-12-26T16:07:12.449241",
     "exception": false,
     "start_time": "2024-12-26T16:07:11.879692",
     "status": "completed"
    },
    "tags": []
   },
   "outputs": [],
   "source": [
    "import matplotlib.pyplot as plt\n",
    "from sklearn.feature_extraction.text import CountVectorizer\n",
    "from sklearn.naive_bayes import MultinomialNB\n",
    "from sklearn.pipeline import Pipeline\n",
    "from sklearn.metrics import (\n",
    "    fbeta_score,\n",
    "    classification_report,\n",
    "    confusion_matrix,\n",
    "    ConfusionMatrixDisplay,\n",
    "    precision_recall_curve,\n",
    "    auc,\n",
    "    balanced_accuracy_score,\n",
    "    roc_curve\n",
    ")\n",
    "\n",
    "\n",
    "pipeline = Pipeline([\n",
    "        ('vectorizer', CountVectorizer(ngram_range=(1, 1), max_features=None)),\n",
    "        ('classifier', MultinomialNB())\n",
    "    ])\n",
    "    \n",
    "pipeline.fit(X_train, y_train)\n",
    "y_train_pred = pipeline.predict(X_train)\n",
    "y_test_pred = pipeline.predict(X_test)\n",
    "\n",
    "\n"
   ]
  },
  {
   "cell_type": "markdown",
   "id": "049e583e",
   "metadata": {
    "papermill": {
     "duration": 0.004097,
     "end_time": "2024-12-26T16:07:12.456191",
     "exception": false,
     "start_time": "2024-12-26T16:07:12.452094",
     "status": "completed"
    },
    "tags": []
   },
   "source": [
    "### Metrics"
   ]
  },
  {
   "cell_type": "code",
   "execution_count": 3,
   "id": "b231ad84",
   "metadata": {
    "execution": {
     "iopub.execute_input": "2024-12-26T16:07:12.463401Z",
     "iopub.status.busy": "2024-12-26T16:07:12.462794Z",
     "iopub.status.idle": "2024-12-26T16:07:12.485733Z",
     "shell.execute_reply": "2024-12-26T16:07:12.485093Z"
    },
    "papermill": {
     "duration": 0.027886,
     "end_time": "2024-12-26T16:07:12.486807",
     "exception": false,
     "start_time": "2024-12-26T16:07:12.458921",
     "status": "completed"
    },
    "tags": []
   },
   "outputs": [
    {
     "name": "stdout",
     "output_type": "stream",
     "text": [
      "Classification Report (Train Data):\n",
      "              precision    recall  f1-score   support\n",
      "\n",
      "         ham      0.995     0.995     0.995      3606\n",
      "        spam      0.967     0.967     0.967       517\n",
      "\n",
      "    accuracy                          0.992      4123\n",
      "   macro avg      0.981     0.981     0.981      4123\n",
      "weighted avg      0.992     0.992     0.992      4123\n",
      "\n",
      "Classification Report (Test Data):\n",
      "              precision    recall  f1-score   support\n",
      "\n",
      "         ham      0.993     0.982     0.988       453\n",
      "        spam      0.882     0.952     0.916        63\n",
      "\n",
      "    accuracy                          0.979       516\n",
      "   macro avg      0.938     0.967     0.952       516\n",
      "weighted avg      0.980     0.979     0.979       516\n",
      "\n"
     ]
    }
   ],
   "source": [
    "train_report = classification_report(y_train, y_train_pred, target_names = ['ham', 'spam'], digits=3)\n",
    "print(\"Classification Report (Train Data):\")\n",
    "print(train_report)\n",
    "\n",
    "test_report = classification_report(y_test, y_test_pred, target_names = ['ham', 'spam'], digits=3)\n",
    "print(\"Classification Report (Test Data):\")\n",
    "print(test_report)"
   ]
  },
  {
   "cell_type": "code",
   "execution_count": 4,
   "id": "67f66dfa",
   "metadata": {
    "execution": {
     "iopub.execute_input": "2024-12-26T16:07:12.529793Z",
     "iopub.status.busy": "2024-12-26T16:07:12.529510Z",
     "iopub.status.idle": "2024-12-26T16:07:12.708288Z",
     "shell.execute_reply": "2024-12-26T16:07:12.707685Z"
    },
    "papermill": {
     "duration": 0.219437,
     "end_time": "2024-12-26T16:07:12.709089",
     "exception": false,
     "start_time": "2024-12-26T16:07:12.489652",
     "status": "completed"
    },
    "tags": []
   },
   "outputs": [
    {
     "data": {
      "image/png": "[encoded data removed]",
      "text/plain": [
       "<Figure size 800x600 with 1 Axes>"
      ]
     },
     "metadata": {},
     "output_type": "display_data"
    }
   ],
   "source": [
    "y_test_prob = pipeline.predict_proba(X_test)[:, 1]\n",
    "y_train_prob = pipeline.predict_proba(X_train)[:, 1]\n",
    "\n",
    "fpr_train, tpr_train, _ = roc_curve(y_train, y_train_prob)\n",
    "fpr_test, tpr_test, _ = roc_curve(y_test, y_test_prob)\n",
    "\n",
    "auc_train = auc(fpr_train, tpr_train)\n",
    "auc_test = auc(fpr_test, tpr_test)\n",
    "\n",
    "plt.figure(figsize=(8, 6))\n",
    "plt.plot(fpr_train, tpr_train, label=f'Train ROC (AUC = {auc_train:.3f})', color='blue', linewidth=2)\n",
    "plt.plot(fpr_test, tpr_test, label=f'Test ROC (AUC = {auc_test:.3f})', color='red', linestyle='--', linewidth=2)\n",
    "plt.plot([0, 1], [0, 1], color='gray', linestyle='--', linewidth=1, label='Random classifier')\n",
    "plt.title('ROC Curve', fontsize=16)\n",
    "plt.xlabel('False Positive Rate (FPR)', fontsize=12)\n",
    "plt.ylabel('True Positive Rate (TPR)', fontsize=12)\n",
    "plt.legend(loc='lower right', fontsize=12)\n",
    "plt.grid(alpha=0.3)\n",
    "plt.tight_layout()\n",
    "plt.show()\n"
   ]
  },
  {
   "cell_type": "markdown",
   "id": "dda40702",
   "metadata": {
    "papermill": {
     "duration": 0.003118,
     "end_time": "2024-12-26T16:07:12.715908",
     "exception": false,
     "start_time": "2024-12-26T16:07:12.712790",
     "status": "completed"
    },
    "tags": []
   },
   "source": [
    "Notes:\n",
    "\n",
    "- Accuracy: can be ignored for the evaluation of the model in the original datasets. Related to the performance having high train/test/val accuracy means that the model is not overfitting but it can be that the dataset is small and the rows are similar enough. It would be nice to perform CV, find more data or increase model complexity to check if the performance of the test set decreases. \n",
    "\n",
    "- Precision on test: 88% of the predicted positives are true positives. Good performance.\n",
    "\n",
    "- Recall on test: 95% of the real positives are true positives. Good performance.\n",
    "\n",
    "- F1-score: the model is doing a decent job with a 92% but since the dataset is imbalanced and I want to focus on the false positives, I take it with a grain of salt. \n",
    "\n",
    "- Weighted avgs: they also look good.\n",
    "\n",
    "- Macro-averaged Precision/Recall/F1 can be ignored.\n",
    "\n",
    "The similar metrics of train and test let us understand that the model is not overfitting and is taking into consideration every class."
   ]
  },
  {
   "cell_type": "code",
   "execution_count": 5,
   "id": "55e526c9",
   "metadata": {
    "execution": {
     "iopub.execute_input": "2024-12-26T16:07:12.723795Z",
     "iopub.status.busy": "2024-12-26T16:07:12.723571Z",
     "iopub.status.idle": "2024-12-26T16:07:12.730722Z",
     "shell.execute_reply": "2024-12-26T16:07:12.730226Z"
    },
    "papermill": {
     "duration": 0.012478,
     "end_time": "2024-12-26T16:07:12.731566",
     "exception": false,
     "start_time": "2024-12-26T16:07:12.719088",
     "status": "completed"
    },
    "tags": []
   },
   "outputs": [
    {
     "name": "stdout",
     "output_type": "stream",
     "text": [
      "Balanced Test Accuracy: 0.967\n",
      "F0.5-Score: 0.896\n"
     ]
    }
   ],
   "source": [
    "balanced_accuracy = balanced_accuracy_score(y_test, y_test_pred)\n",
    "print(f\"Balanced Test Accuracy: {balanced_accuracy:.3f}\")\n",
    "\n",
    "f0_5_score = fbeta_score(y_test, y_test_pred, beta=0.5)\n",
    "print(f\"F0.5-Score: {f0_5_score:.3f}\")"
   ]
  },
  {
   "cell_type": "markdown",
   "id": "421db600",
   "metadata": {
    "papermill": {
     "duration": 0.003388,
     "end_time": "2024-12-26T16:07:12.738812",
     "exception": false,
     "start_time": "2024-12-26T16:07:12.735424",
     "status": "completed"
    },
    "tags": []
   },
   "source": [
    "Notes: \n",
    "\n",
    "- Balanced accuracy: 97% is a good performance.\n",
    "\n",
    "- f0.5-score: the metric chosen since I want to give more important to the false positives. A value of 0.896 indicates good performance of the model. \n"
   ]
  },
  {
   "cell_type": "code",
   "execution_count": 6,
   "id": "eddbda4a",
   "metadata": {
    "execution": {
     "iopub.execute_input": "2024-12-26T16:07:12.746420Z",
     "iopub.status.busy": "2024-12-26T16:07:12.746104Z",
     "iopub.status.idle": "2024-12-26T16:07:12.863879Z",
     "shell.execute_reply": "2024-12-26T16:07:12.863089Z"
    },
    "papermill": {
     "duration": 0.122953,
     "end_time": "2024-12-26T16:07:12.864948",
     "exception": false,
     "start_time": "2024-12-26T16:07:12.741995",
     "status": "completed"
    },
    "tags": []
   },
   "outputs": [
    {
     "data": {
      "image/png": "[encoded data removed]",
      "text/plain": [
       "<Figure size 800x600 with 2 Axes>"
      ]
     },
     "metadata": {},
     "output_type": "display_data"
    }
   ],
   "source": [
    "test_conf_matrix = confusion_matrix(y_test, y_test_pred)\n",
    "matrix_fig, ax = plt.subplots(figsize=(8, 6))\n",
    "cm_display = ConfusionMatrixDisplay(confusion_matrix=test_conf_matrix, display_labels=['Ham', 'Spam'])\n",
    "cm_display.plot(cmap='Blues', ax=ax)\n",
    "plt.title(\"Confusion Matrix\")\n",
    "plt.show()"
   ]
  },
  {
   "cell_type": "markdown",
   "id": "dbbf8414",
   "metadata": {
    "papermill": {
     "duration": 0.004999,
     "end_time": "2024-12-26T16:07:12.874810",
     "exception": false,
     "start_time": "2024-12-26T16:07:12.869811",
     "status": "completed"
    },
    "tags": []
   },
   "source": [
    "Notes:\n",
    "\n",
    "The confusion matrix looks very good.\n",
    "- 8 e-mails were predicted as SPAM but they were HAM. (these are the ones I will try to minimize)\n",
    "- 3 e-mails were predicted as HAM but they were SPAM."
   ]
  },
  {
   "cell_type": "code",
   "execution_count": 7,
   "id": "97677213",
   "metadata": {
    "execution": {
     "iopub.execute_input": "2024-12-26T16:07:12.887377Z",
     "iopub.status.busy": "2024-12-26T16:07:12.886634Z",
     "iopub.status.idle": "2024-12-26T16:07:13.061252Z",
     "shell.execute_reply": "2024-12-26T16:07:13.060749Z"
    },
    "papermill": {
     "duration": 0.1824,
     "end_time": "2024-12-26T16:07:13.062110",
     "exception": false,
     "start_time": "2024-12-26T16:07:12.879710",
     "status": "completed"
    },
    "tags": []
   },
   "outputs": [
    {
     "data": {
      "image/png": "[encoded data removed]",
      "text/plain": [
       "<Figure size 800x600 with 1 Axes>"
      ]
     },
     "metadata": {},
     "output_type": "display_data"
    }
   ],
   "source": [
    "y_test_pred_prob = pipeline.predict_proba(X_test)[:, 1]\n",
    "\n",
    "precision, recall, _ = precision_recall_curve(y_test, y_test_pred_prob)\n",
    "pr_auc = auc(recall, precision)\n",
    "\n",
    "pr_fig, ax = plt.subplots(figsize=(8, 6))  \n",
    "ax.plot(recall, precision, color='b', label=f'PR AUC = {pr_auc:.3f}')\n",
    "ax.set_xlabel('Recall')\n",
    "ax.set_ylabel('Precision')\n",
    "ax.set_title('Precision-Recall Curve')\n",
    "ax.legend(loc=\"best\")\n",
    "ax.grid(True)\n",
    "plt.show()\n"
   ]
  },
  {
   "cell_type": "markdown",
   "id": "46f0f14c",
   "metadata": {
    "papermill": {
     "duration": 0.004559,
     "end_time": "2024-12-26T16:07:13.071632",
     "exception": false,
     "start_time": "2024-12-26T16:07:13.067073",
     "status": "completed"
    },
    "tags": []
   },
   "source": [
    "Notes: \n",
    "\n",
    "The area under the curve is 0.96 so the model strikes a strong balance between precision and recall across thresholds. The model identifies spam effectively without producing excessive false positives."
   ]
  },
  {
   "cell_type": "markdown",
   "id": "710a1611",
   "metadata": {
    "papermill": {
     "duration": 0.004734,
     "end_time": "2024-12-26T16:07:13.080896",
     "exception": false,
     "start_time": "2024-12-26T16:07:13.076162",
     "status": "completed"
    },
    "tags": []
   },
   "source": [
    "## MLFlow config\n"
   ]
  },
  {
   "cell_type": "code",
   "execution_count": 8,
   "id": "a20a87e5",
   "metadata": {
    "execution": {
     "iopub.execute_input": "2024-12-26T16:07:13.091294Z",
     "iopub.status.busy": "2024-12-26T16:07:13.090953Z"
    },
    "papermill": {
     "duration": 55.49897,
     "end_time": "2024-12-26T16:08:08.584231",
     "exception": false,
     "start_time": "2024-12-26T16:07:13.085261",
     "status": "completed"
    },
    "tags": []
   },
   "outputs": [
    {
     "name": "stderr",
     "output_type": "stream",
     "text": [
      "2024-12-26 17:07:13,093 - INFO - Loading configuration from: /home/maldu/dscience/projects/spam_detector/research/02_baseline_model/../utils/experiments_config.yaml\n"
     ]
    },
    {
     "name": "stderr",
     "output_type": "stream",
     "text": [
      "2024-12-26 17:07:13,095 - INFO - Configuration successfully loaded.\n"
     ]
    },
    {
     "name": "stderr",
     "output_type": "stream",
     "text": [
      "2024-12-26 17:07:13,109 - DEBUG - Starting new HTTP connection (1): ec2-3-72-255-44.eu-central-1.compute.amazonaws.com:5000\n"
     ]
    }
   ],
   "source": [
    "import sys \n",
    "sys.path.append(\"../utils\")\n",
    "import os\n",
    "import mlflow\n",
    "from experiments_utils import experiment_status\n",
    "\n",
    "mlflow_tracking_uri = os.getenv(\"MLFLOW_TRACKING_URI\")\n",
    "aws_access_key_id = os.getenv(\"AWS_ACCESS_KEY_ID\")\n",
    "aws_secret_access_key = os.getenv(\"AWS_SECRET_ACCESS_KEY\")\n",
    "aws_default_region = os.getenv(\"AWS_DEFAULT_REGION\")\n",
    "\n",
    "mlflow.set_tracking_uri(mlflow_tracking_uri)\n",
    "\n",
    "import boto3\n",
    "boto3.client('s3', aws_access_key_id=aws_access_key_id, aws_secret_access_key=aws_secret_access_key, region_name=aws_default_region)\n",
    "\n",
    "\n",
    "experiment_name, _, _ = experiment_status()\n",
    "mlflow.set_experiment(experiment_name)"
   ]
  },
  {
   "cell_type": "markdown",
   "id": "671381b0",
   "metadata": {
    "papermill": {
     "duration": null,
     "end_time": null,
     "exception": null,
     "start_time": null,
     "status": "completed"
    },
    "tags": []
   },
   "source": [
    "## MlFlow tracking"
   ]
  },
  {
   "cell_type": "code",
   "execution_count": null,
   "id": "2253df4a",
   "metadata": {
    "papermill": {
     "duration": null,
     "end_time": null,
     "exception": null,
     "start_time": null,
     "status": "completed"
    },
    "tags": []
   },
   "outputs": [],
   "source": [
    "   \n",
    "with mlflow.start_run(run_name=\"baseline-model\", log_system_metrics=True) as run:\n",
    "    \n",
    "    # Tags\n",
    "    mlflow.set_tag(\"dataset\", \"Spam detection\")\n",
    "    mlflow.set_tag(\"task\", \"classification\")\n",
    "    mlflow.set_tag(\"vectorizer\", \"CountVectorizer\")\n",
    "    mlflow.set_tag(\"algorithm\", \"Multinomial Naive Bayes\")\n",
    "    mlflow.set_tag(\"framework\", \"Scikit-learn\")\n",
    "    mlflow.set_tag(\"language\", \"Python\")\n",
    "    mlflow.set_tag(\"environment\", \"Local\")\n",
    "    mlflow.set_tag(\"dataset_version\", \"1.0.0\")\n",
    "    mlflow.set_tag(\"preprocessing_version\", \"1.0.0\")\n",
    "    mlflow.set_tag(\"model_version\", \"0.0.1\")\n",
    "    mlflow.set_tag(\"developer\", \"Mldu\")\n",
    "    mlflow.set_tag(\"project_stage\", \"testing\")\n",
    "\n",
    "\n",
    "    #Datasets\n",
    "    mlflow.log_input(mlflow.data.from_pandas(train, name=\"train dataset\", targets=\"target\"))\n",
    "    mlflow.log_input(mlflow.data.from_pandas(test, name=\"test dataset\", targets=\"target\"))\n",
    "    mlflow.log_input(mlflow.data.from_pandas(val, name=\"validation dataset\", targets=\"target\"))\n",
    "    mlflow.log_artifact(\"../../data/gold/train.csv\")\n",
    "    mlflow.log_artifact(\"../../data/gold/test.csv\")\n",
    "    mlflow.log_artifact(\"../../data/gold/validation.csv\")\n",
    "\n",
    "    \n",
    "    #BOW and model\n",
    "    mlflow.log_param(\"vectorizer_type\", \"CountVectorizer\")\n",
    "    mlflow.log_param(\"model_type\", \"MultinomialNB\")\n",
    "    \n",
    "    # Metrics\n",
    "    mlflow.log_metric(\"balanced_accuracy\", balanced_accuracy)\n",
    "    mlflow.log_metric(\"f0_5_score\", f0_5_score)\n",
    "    cr = classification_report(y_test, y_test_pred, output_dict=True)\n",
    "    mlflow.log_metric(\"accuracy\", cr.pop(\"accuracy\"))\n",
    "    for class_or_avg, metrics_dict in cr.items():\n",
    "        for metric, value in metrics_dict.items():\n",
    "            mlflow.log_metric(class_or_avg + '_' + metric,value)\n",
    "    \n",
    "    # Figures\n",
    "    mlflow.log_figure(matrix_fig, \"confusion-matrix.png\")\n",
    "    mlflow.log_figure(pr_fig, \"precision-recall-curve.png\")\n",
    "    \n",
    "    # CountVectorizer and MNB\n",
    "    mlflow.sklearn.log_model(pipeline, \"pipeline\",signature=signature)\n",
    "\n",
    "\n",
    "    print(f\"Pipeline logged to MLflow under run ID {run.info.run_id}\")"
   ]
  },
  {
   "cell_type": "code",
   "execution_count": null,
   "id": "c81d5331",
   "metadata": {
    "papermill": {
     "duration": null,
     "end_time": null,
     "exception": null,
     "start_time": null,
     "status": "completed"
    },
    "tags": []
   },
   "outputs": [],
   "source": []
  }
 ],
 "metadata": {
  "kernelspec": {
   "display_name": "spam-detector-P2ybB3t6-py3.10",
   "language": "python",
   "name": "python3"
  },
  "language_info": {
   "codemirror_mode": {
    "name": "ipython",
    "version": 3
   },
   "file_extension": ".py",
   "mimetype": "text/x-python",
   "name": "python",
   "nbconvert_exporter": "python",
   "pygments_lexer": "ipython3",
   "version": "3.10.12"
  },
  "papermill": {
   "default_parameters": {},
   "duration": 59.20579,
   "end_time": "2024-12-26T16:08:08.788159",
   "environment_variables": {},
   "exception": null,
   "input_path": "./baseline_model.ipynb",
   "output_path": "./baseline_model.ipynb",
   "parameters": {},
   "start_time": "2024-12-26T16:07:09.582369",
   "version": "2.6.0"
  }
 },
 "nbformat": 4,
 "nbformat_minor": 5
}
