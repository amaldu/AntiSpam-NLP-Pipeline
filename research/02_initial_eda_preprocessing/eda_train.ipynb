{
 "cells": [
  {
   "cell_type": "markdown",
   "id": "8495b5d4",
   "metadata": {},
   "source": [
    "The objective of this notebook is to do an first basic exploratory analysis of the training part of the dataset and check its characteristics"
   ]
  },
  {
   "cell_type": "markdown",
   "id": "e158e213",
   "metadata": {},
   "source": [
    "## Libraries"
   ]
  },
  {
   "cell_type": "code",
   "execution_count": 1,
   "id": "c845b383",
   "metadata": {},
   "outputs": [],
   "source": [
    "%load_ext autoreload\n",
    "%autoreload 2"
   ]
  },
  {
   "cell_type": "code",
   "execution_count": 2,
   "id": "02f92a15",
   "metadata": {},
   "outputs": [],
   "source": [
    "import pandas as pd \n",
    "import matplotlib.pyplot as plt \n",
    "import seaborn as sns\n"
   ]
  },
  {
   "cell_type": "code",
   "execution_count": 3,
   "id": "c3d43590",
   "metadata": {},
   "outputs": [
    {
     "data": {
      "text/html": [
       "<div>\n",
       "<style scoped>\n",
       "    .dataframe tbody tr th:only-of-type {\n",
       "        vertical-align: middle;\n",
       "    }\n",
       "\n",
       "    .dataframe tbody tr th {\n",
       "        vertical-align: top;\n",
       "    }\n",
       "\n",
       "    .dataframe thead th {\n",
       "        text-align: right;\n",
       "    }\n",
       "</style>\n",
       "<table border=\"1\" class=\"dataframe\">\n",
       "  <thead>\n",
       "    <tr style=\"text-align: right;\">\n",
       "      <th></th>\n",
       "      <th>email</th>\n",
       "      <th>label</th>\n",
       "    </tr>\n",
       "  </thead>\n",
       "  <tbody>\n",
       "    <tr>\n",
       "      <th>0</th>\n",
       "      <td>get up to escapenumber escapenumber emergency ...</td>\n",
       "      <td>spam</td>\n",
       "    </tr>\n",
       "    <tr>\n",
       "      <th>1</th>\n",
       "      <td>dear customer the pharmacy you shop at got too...</td>\n",
       "      <td>spam</td>\n",
       "    </tr>\n",
       "    <tr>\n",
       "      <th>2</th>\n",
       "      <td>please find below the gtv project status updat...</td>\n",
       "      <td>ham</td>\n",
       "    </tr>\n",
       "    <tr>\n",
       "      <th>3</th>\n",
       "      <td>fuller harder\\nerectionsthe same as the one fr...</td>\n",
       "      <td>spam</td>\n",
       "    </tr>\n",
       "    <tr>\n",
       "      <th>4</th>\n",
       "      <td>thinking of breathing new life into your busin...</td>\n",
       "      <td>spam</td>\n",
       "    </tr>\n",
       "    <tr>\n",
       "      <th>...</th>\n",
       "      <td>...</td>\n",
       "      <td>...</td>\n",
       "    </tr>\n",
       "    <tr>\n",
       "      <th>75936</th>\n",
       "      <td>we are grateful to all our devoted customers a...</td>\n",
       "      <td>spam</td>\n",
       "    </tr>\n",
       "    <tr>\n",
       "      <th>75937</th>\n",
       "      <td>You have registered Sinco as Payee. Log in at ...</td>\n",
       "      <td>ham</td>\n",
       "    </tr>\n",
       "    <tr>\n",
       "      <th>75938</th>\n",
       "      <td>seize the opportunity escapenumber anatrim esc...</td>\n",
       "      <td>spam</td>\n",
       "    </tr>\n",
       "    <tr>\n",
       "      <th>75939</th>\n",
       "      <td>hi all attached is a patch that minimally enab...</td>\n",
       "      <td>ham</td>\n",
       "    </tr>\n",
       "    <tr>\n",
       "      <th>75940</th>\n",
       "      <td>hi i am working on conjoint analysis how i can...</td>\n",
       "      <td>ham</td>\n",
       "    </tr>\n",
       "  </tbody>\n",
       "</table>\n",
       "<p>75941 rows × 2 columns</p>\n",
       "</div>"
      ],
      "text/plain": [
       "                                                   email label\n",
       "0      get up to escapenumber escapenumber emergency ...  spam\n",
       "1      dear customer the pharmacy you shop at got too...  spam\n",
       "2      please find below the gtv project status updat...   ham\n",
       "3      fuller harder\\nerectionsthe same as the one fr...  spam\n",
       "4      thinking of breathing new life into your busin...  spam\n",
       "...                                                  ...   ...\n",
       "75936  we are grateful to all our devoted customers a...  spam\n",
       "75937  You have registered Sinco as Payee. Log in at ...   ham\n",
       "75938  seize the opportunity escapenumber anatrim esc...  spam\n",
       "75939  hi all attached is a patch that minimally enab...   ham\n",
       "75940  hi i am working on conjoint analysis how i can...   ham\n",
       "\n",
       "[75941 rows x 2 columns]"
      ]
     },
     "execution_count": 3,
     "metadata": {},
     "output_type": "execute_result"
    }
   ],
   "source": [
    "df = pd.read_csv(\"../../data/bronze/raw_train.csv\", )\n",
    "df"
   ]
  },
  {
   "cell_type": "code",
   "execution_count": 4,
   "id": "10519b87",
   "metadata": {},
   "outputs": [
    {
     "name": "stdout",
     "output_type": "stream",
     "text": [
      "<class 'pandas.core.frame.DataFrame'>\n",
      "RangeIndex: 75941 entries, 0 to 75940\n",
      "Data columns (total 2 columns):\n",
      " #   Column  Non-Null Count  Dtype \n",
      "---  ------  --------------  ----- \n",
      " 0   email   75941 non-null  object\n",
      " 1   label   75941 non-null  object\n",
      "dtypes: object(2)\n",
      "memory usage: 1.2+ MB\n"
     ]
    }
   ],
   "source": [
    "df.info()"
   ]
  },
  {
   "cell_type": "code",
   "execution_count": 5,
   "id": "f4a45340",
   "metadata": {},
   "outputs": [
    {
     "data": {
      "text/html": [
       "<div>\n",
       "<style scoped>\n",
       "    .dataframe tbody tr th:only-of-type {\n",
       "        vertical-align: middle;\n",
       "    }\n",
       "\n",
       "    .dataframe tbody tr th {\n",
       "        vertical-align: top;\n",
       "    }\n",
       "\n",
       "    .dataframe thead th {\n",
       "        text-align: right;\n",
       "    }\n",
       "</style>\n",
       "<table border=\"1\" class=\"dataframe\">\n",
       "  <thead>\n",
       "    <tr style=\"text-align: right;\">\n",
       "      <th></th>\n",
       "      <th>email</th>\n",
       "      <th>label</th>\n",
       "    </tr>\n",
       "  </thead>\n",
       "  <tbody>\n",
       "    <tr>\n",
       "      <th>count</th>\n",
       "      <td>75941</td>\n",
       "      <td>75941</td>\n",
       "    </tr>\n",
       "    <tr>\n",
       "      <th>unique</th>\n",
       "      <td>75604</td>\n",
       "      <td>2</td>\n",
       "    </tr>\n",
       "    <tr>\n",
       "      <th>top</th>\n",
       "      <td>Sorry, I'll call later</td>\n",
       "      <td>ham</td>\n",
       "    </tr>\n",
       "    <tr>\n",
       "      <th>freq</th>\n",
       "      <td>23</td>\n",
       "      <td>39058</td>\n",
       "    </tr>\n",
       "  </tbody>\n",
       "</table>\n",
       "</div>"
      ],
      "text/plain": [
       "                         email  label\n",
       "count                    75941  75941\n",
       "unique                   75604      2\n",
       "top     Sorry, I'll call later    ham\n",
       "freq                        23  39058"
      ]
     },
     "execution_count": 5,
     "metadata": {},
     "output_type": "execute_result"
    }
   ],
   "source": [
    "df.describe()\n"
   ]
  },
  {
   "cell_type": "markdown",
   "id": "c1adb1c1",
   "metadata": {},
   "source": [
    "- We have a dataset with total amount of 75941 rows\n",
    "- There are two unique categories: \"ham\" and \"spam\" and 75604 unique messages\n",
    "- The most common category is \"ham\" that appears 39058 times and the most common message is \"Sorry, I'll call later\", a total of 23 times? wow, this sounds like whatsapp!"
   ]
  },
  {
   "cell_type": "code",
   "execution_count": 6,
   "id": "40cc0096",
   "metadata": {},
   "outputs": [
    {
     "name": "stdout",
     "output_type": "stream",
     "text": [
      "<class 'pandas.core.frame.DataFrame'>\n",
      "RangeIndex: 75941 entries, 0 to 75940\n",
      "Data columns (total 2 columns):\n",
      " #   Column  Non-Null Count  Dtype \n",
      "---  ------  --------------  ----- \n",
      " 0   email   75941 non-null  object\n",
      " 1   label   75941 non-null  object\n",
      "dtypes: object(2)\n",
      "memory usage: 1.2+ MB\n"
     ]
    }
   ],
   "source": [
    "df.info()"
   ]
  },
  {
   "cell_type": "markdown",
   "id": "c27f02a8",
   "metadata": {},
   "source": [
    "## Change data types"
   ]
  },
  {
   "cell_type": "markdown",
   "id": "70a691da",
   "metadata": {},
   "source": [
    "More specific data types consume less memory and allow more efficient data manipulation, etc. email column type is worthless since pandas uses \"object\" for strings too"
   ]
  },
  {
   "cell_type": "code",
   "execution_count": 7,
   "id": "a551a55b",
   "metadata": {},
   "outputs": [],
   "source": [
    "df['label'] = df['label'].map({\"ham\": 0, \"spam\": 1}).astype(int)\n"
   ]
  },
  {
   "cell_type": "code",
   "execution_count": 8,
   "id": "dc80f714",
   "metadata": {},
   "outputs": [
    {
     "name": "stdout",
     "output_type": "stream",
     "text": [
      "object\n"
     ]
    }
   ],
   "source": [
    "print(df['email'].dtype)\n"
   ]
  },
  {
   "cell_type": "code",
   "execution_count": 9,
   "id": "60ab8ccc",
   "metadata": {},
   "outputs": [
    {
     "name": "stdout",
     "output_type": "stream",
     "text": [
      "<class 'pandas.core.frame.DataFrame'>\n",
      "RangeIndex: 75941 entries, 0 to 75940\n",
      "Data columns (total 2 columns):\n",
      " #   Column  Non-Null Count  Dtype \n",
      "---  ------  --------------  ----- \n",
      " 0   email   75941 non-null  object\n",
      " 1   label   75941 non-null  int64 \n",
      "dtypes: int64(1), object(1)\n",
      "memory usage: 1.2+ MB\n"
     ]
    }
   ],
   "source": [
    "df.info()"
   ]
  },
  {
   "cell_type": "markdown",
   "id": "a371f90a",
   "metadata": {},
   "source": [
    "## Duplicated rows analysis\n",
    "\n",
    "What is the amount of duplicated emails? And its percentage?"
   ]
  },
  {
   "cell_type": "code",
   "execution_count": 10,
   "id": "e27613ee",
   "metadata": {},
   "outputs": [
    {
     "data": {
      "text/html": [
       "<div>\n",
       "<style scoped>\n",
       "    .dataframe tbody tr th:only-of-type {\n",
       "        vertical-align: middle;\n",
       "    }\n",
       "\n",
       "    .dataframe tbody tr th {\n",
       "        vertical-align: top;\n",
       "    }\n",
       "\n",
       "    .dataframe thead th {\n",
       "        text-align: right;\n",
       "    }\n",
       "</style>\n",
       "<table border=\"1\" class=\"dataframe\">\n",
       "  <thead>\n",
       "    <tr style=\"text-align: right;\">\n",
       "      <th></th>\n",
       "      <th>label</th>\n",
       "      <th>duplicated_by_label</th>\n",
       "      <th>total_rows_label</th>\n",
       "      <th>total_rows_data</th>\n",
       "      <th>percent_duplicates_label</th>\n",
       "    </tr>\n",
       "  </thead>\n",
       "  <tbody>\n",
       "    <tr>\n",
       "      <th>0</th>\n",
       "      <td>0</td>\n",
       "      <td>422</td>\n",
       "      <td>39058</td>\n",
       "      <td>75941</td>\n",
       "      <td>0.56</td>\n",
       "    </tr>\n",
       "    <tr>\n",
       "      <th>1</th>\n",
       "      <td>1</td>\n",
       "      <td>166</td>\n",
       "      <td>36883</td>\n",
       "      <td>75941</td>\n",
       "      <td>0.22</td>\n",
       "    </tr>\n",
       "  </tbody>\n",
       "</table>\n",
       "</div>"
      ],
      "text/plain": [
       "   label  duplicated_by_label  total_rows_label  total_rows_data  \\\n",
       "0      0                  422             39058            75941   \n",
       "1      1                  166             36883            75941   \n",
       "\n",
       "   percent_duplicates_label  \n",
       "0                      0.56  \n",
       "1                      0.22  "
      ]
     },
     "execution_count": 10,
     "metadata": {},
     "output_type": "execute_result"
    }
   ],
   "source": [
    "# create a dataframe with the duplicated rows grouped by label\n",
    "duplicated_by_label = df[df.duplicated(keep=False)].groupby('label').size().rename(\"duplicated_by_label\").reset_index()\n",
    "\n",
    "# create a dataframe with the sum of rows of each label and change its name with total_rows\n",
    "category_counts = df['label'].value_counts().reset_index()\n",
    "category_counts.columns = ['label', 'total_rows_label']\n",
    "\n",
    "#merge both dataframes\n",
    "duplicated_by_label = duplicated_by_label.merge(category_counts, on='label')\n",
    "\n",
    "#add a column with the percentage of duplicated per class\n",
    "duplicated_by_label['total_rows_data'] = df.value_counts().sum()\n",
    "duplicated_by_label['percent_duplicates_label'] = round(duplicated_by_label['duplicated_by_label'] / duplicated_by_label['total_rows_data'] * 100, 2)\n",
    "\n",
    "duplicated_by_label"
   ]
  },
  {
   "cell_type": "markdown",
   "id": "9f526a9e",
   "metadata": {},
   "source": [
    "Oh wow, I expected the duplicates to be more present in the spam emails and the experience tells me that spam emails are generical and sent to everyone. This means that our dataset has been trimmed before published.\n",
    "\n",
    "It would be interesting to find those repeated emails or understand the way these datasets were created and which sources they use for further analysis.\n",
    "\n",
    "-----------\n",
    "\n",
    "Are there emails that belong to both categories? I assume they are mistakes but in case we have them, we should check what's their origin\n"
   ]
  },
  {
   "cell_type": "code",
   "execution_count": 11,
   "id": "6f15bb06",
   "metadata": {},
   "outputs": [
    {
     "data": {
      "text/html": [
       "<div>\n",
       "<style scoped>\n",
       "    .dataframe tbody tr th:only-of-type {\n",
       "        vertical-align: middle;\n",
       "    }\n",
       "\n",
       "    .dataframe tbody tr th {\n",
       "        vertical-align: top;\n",
       "    }\n",
       "\n",
       "    .dataframe thead th {\n",
       "        text-align: right;\n",
       "    }\n",
       "</style>\n",
       "<table border=\"1\" class=\"dataframe\">\n",
       "  <thead>\n",
       "    <tr style=\"text-align: right;\">\n",
       "      <th></th>\n",
       "      <th>email</th>\n",
       "      <th>label</th>\n",
       "    </tr>\n",
       "  </thead>\n",
       "  <tbody>\n",
       "  </tbody>\n",
       "</table>\n",
       "</div>"
      ],
      "text/plain": [
       "Empty DataFrame\n",
       "Columns: [email, label]\n",
       "Index: []"
      ]
     },
     "execution_count": 11,
     "metadata": {},
     "output_type": "execute_result"
    }
   ],
   "source": [
    "# create a dataframe with the duplicated emails grouped by email and filter them by unique value of label > 1, so one 0 label and one 1 label\n",
    "emails_with_conflicting_labels = df[df.duplicated(keep=False)].groupby('email').filter(lambda x: x['label'].nunique() > 1)\n",
    "emails_with_conflicting_labels"
   ]
  },
  {
   "cell_type": "markdown",
   "id": "73639597",
   "metadata": {},
   "source": [
    "There are none, that is a good symptom"
   ]
  },
  {
   "cell_type": "markdown",
   "id": "b82f1d6b",
   "metadata": {},
   "source": [
    "## Distribution of unique HAM VS. SPAM messages"
   ]
  },
  {
   "cell_type": "code",
   "execution_count": 12,
   "id": "eb7c06a8",
   "metadata": {},
   "outputs": [
    {
     "data": {
      "image/png": "[encoded data removed]",
      "text/plain": [
       "<Figure size 600x600 with 1 Axes>"
      ]
     },
     "metadata": {},
     "output_type": "display_data"
    }
   ],
   "source": [
    "category_counts = df['label'].value_counts()\n",
    "category_labels = [\"Ham (0)\", \"Spam (1)\"]\n",
    "\n",
    "viridis_colors = sns.color_palette(\"viridis\", len(category_counts))\n",
    "\n",
    "plt.figure(figsize=(6, 6))\n",
    "plt.pie(\n",
    "    category_counts,\n",
    "    labels=[f\"{label}: {count}\" for label, count in zip(category_labels, category_counts)], \n",
    "    autopct=lambda p: f\"{p:.2f}%\",  \n",
    "    colors=viridis_colors,  \n",
    "    startangle=90,  \n",
    ")\n",
    "plt.title(\"Class Distribution (Ham vs Spam)\")\n",
    "plt.show()\n"
   ]
  },
  {
   "cell_type": "markdown",
   "id": "bec56c67",
   "metadata": {},
   "source": [
    "The train dataset contains the same proportion of classes than the raw dataset. Good."
   ]
  },
  {
   "cell_type": "markdown",
   "id": "29a8a039",
   "metadata": {},
   "source": [
    "## Word count distribution\n",
    "\n",
    "What is the distribution of the word count?"
   ]
  },
  {
   "cell_type": "code",
   "execution_count": 13,
   "id": "86521d23",
   "metadata": {},
   "outputs": [
    {
     "data": {
      "text/html": [
       "<div>\n",
       "<style scoped>\n",
       "    .dataframe tbody tr th:only-of-type {\n",
       "        vertical-align: middle;\n",
       "    }\n",
       "\n",
       "    .dataframe tbody tr th {\n",
       "        vertical-align: top;\n",
       "    }\n",
       "\n",
       "    .dataframe thead th {\n",
       "        text-align: right;\n",
       "    }\n",
       "</style>\n",
       "<table border=\"1\" class=\"dataframe\">\n",
       "  <thead>\n",
       "    <tr style=\"text-align: right;\">\n",
       "      <th></th>\n",
       "      <th>word_count</th>\n",
       "      <th>label</th>\n",
       "      <th>count</th>\n",
       "    </tr>\n",
       "  </thead>\n",
       "  <tbody>\n",
       "    <tr>\n",
       "      <th>0</th>\n",
       "      <td>1</td>\n",
       "      <td>0</td>\n",
       "      <td>49</td>\n",
       "    </tr>\n",
       "    <tr>\n",
       "      <th>1</th>\n",
       "      <td>1</td>\n",
       "      <td>1</td>\n",
       "      <td>53</td>\n",
       "    </tr>\n",
       "    <tr>\n",
       "      <th>2</th>\n",
       "      <td>2</td>\n",
       "      <td>0</td>\n",
       "      <td>37</td>\n",
       "    </tr>\n",
       "    <tr>\n",
       "      <th>3</th>\n",
       "      <td>2</td>\n",
       "      <td>1</td>\n",
       "      <td>29</td>\n",
       "    </tr>\n",
       "    <tr>\n",
       "      <th>4</th>\n",
       "      <td>3</td>\n",
       "      <td>0</td>\n",
       "      <td>83</td>\n",
       "    </tr>\n",
       "    <tr>\n",
       "      <th>...</th>\n",
       "      <td>...</td>\n",
       "      <td>...</td>\n",
       "      <td>...</td>\n",
       "    </tr>\n",
       "    <tr>\n",
       "      <th>3564</th>\n",
       "      <td>28001</td>\n",
       "      <td>0</td>\n",
       "      <td>1</td>\n",
       "    </tr>\n",
       "    <tr>\n",
       "      <th>3565</th>\n",
       "      <td>33037</td>\n",
       "      <td>0</td>\n",
       "      <td>1</td>\n",
       "    </tr>\n",
       "    <tr>\n",
       "      <th>3566</th>\n",
       "      <td>34898</td>\n",
       "      <td>0</td>\n",
       "      <td>1</td>\n",
       "    </tr>\n",
       "    <tr>\n",
       "      <th>3567</th>\n",
       "      <td>45448</td>\n",
       "      <td>0</td>\n",
       "      <td>1</td>\n",
       "    </tr>\n",
       "    <tr>\n",
       "      <th>3568</th>\n",
       "      <td>101984</td>\n",
       "      <td>0</td>\n",
       "      <td>1</td>\n",
       "    </tr>\n",
       "  </tbody>\n",
       "</table>\n",
       "<p>3569 rows × 3 columns</p>\n",
       "</div>"
      ],
      "text/plain": [
       "      word_count  label  count\n",
       "0              1      0     49\n",
       "1              1      1     53\n",
       "2              2      0     37\n",
       "3              2      1     29\n",
       "4              3      0     83\n",
       "...          ...    ...    ...\n",
       "3564       28001      0      1\n",
       "3565       33037      0      1\n",
       "3566       34898      0      1\n",
       "3567       45448      0      1\n",
       "3568      101984      0      1\n",
       "\n",
       "[3569 rows x 3 columns]"
      ]
     },
     "execution_count": 13,
     "metadata": {},
     "output_type": "execute_result"
    }
   ],
   "source": [
    "df['word_count'] = df['email'].apply(lambda x: len(x.split()))\n",
    "count_of_words = df.groupby(['word_count', 'label']).size().reset_index(name='count')\n",
    "count_of_words"
   ]
  },
  {
   "cell_type": "markdown",
   "id": "b9851674",
   "metadata": {},
   "source": [
    "The variance of our dataset is very huge"
   ]
  },
  {
   "cell_type": "code",
   "execution_count": 14,
   "id": "6258c669",
   "metadata": {},
   "outputs": [
    {
     "data": {
      "text/html": [
       "<div>\n",
       "<style scoped>\n",
       "    .dataframe tbody tr th:only-of-type {\n",
       "        vertical-align: middle;\n",
       "    }\n",
       "\n",
       "    .dataframe tbody tr th {\n",
       "        vertical-align: top;\n",
       "    }\n",
       "\n",
       "    .dataframe thead th {\n",
       "        text-align: right;\n",
       "    }\n",
       "</style>\n",
       "<table border=\"1\" class=\"dataframe\">\n",
       "  <thead>\n",
       "    <tr style=\"text-align: right;\">\n",
       "      <th></th>\n",
       "      <th>word_count</th>\n",
       "      <th>label</th>\n",
       "      <th>count</th>\n",
       "    </tr>\n",
       "  </thead>\n",
       "  <tbody>\n",
       "    <tr>\n",
       "      <th>3549</th>\n",
       "      <td>15500</td>\n",
       "      <td>0</td>\n",
       "      <td>1</td>\n",
       "    </tr>\n",
       "    <tr>\n",
       "      <th>3550</th>\n",
       "      <td>15914</td>\n",
       "      <td>0</td>\n",
       "      <td>1</td>\n",
       "    </tr>\n",
       "    <tr>\n",
       "      <th>3551</th>\n",
       "      <td>15943</td>\n",
       "      <td>0</td>\n",
       "      <td>1</td>\n",
       "    </tr>\n",
       "    <tr>\n",
       "      <th>3552</th>\n",
       "      <td>16019</td>\n",
       "      <td>0</td>\n",
       "      <td>1</td>\n",
       "    </tr>\n",
       "    <tr>\n",
       "      <th>3553</th>\n",
       "      <td>16876</td>\n",
       "      <td>0</td>\n",
       "      <td>1</td>\n",
       "    </tr>\n",
       "    <tr>\n",
       "      <th>3554</th>\n",
       "      <td>17305</td>\n",
       "      <td>0</td>\n",
       "      <td>1</td>\n",
       "    </tr>\n",
       "    <tr>\n",
       "      <th>3555</th>\n",
       "      <td>17602</td>\n",
       "      <td>0</td>\n",
       "      <td>1</td>\n",
       "    </tr>\n",
       "    <tr>\n",
       "      <th>3556</th>\n",
       "      <td>17952</td>\n",
       "      <td>0</td>\n",
       "      <td>1</td>\n",
       "    </tr>\n",
       "    <tr>\n",
       "      <th>3557</th>\n",
       "      <td>18963</td>\n",
       "      <td>0</td>\n",
       "      <td>1</td>\n",
       "    </tr>\n",
       "    <tr>\n",
       "      <th>3558</th>\n",
       "      <td>20002</td>\n",
       "      <td>0</td>\n",
       "      <td>1</td>\n",
       "    </tr>\n",
       "    <tr>\n",
       "      <th>3559</th>\n",
       "      <td>21370</td>\n",
       "      <td>0</td>\n",
       "      <td>1</td>\n",
       "    </tr>\n",
       "    <tr>\n",
       "      <th>3560</th>\n",
       "      <td>22465</td>\n",
       "      <td>0</td>\n",
       "      <td>1</td>\n",
       "    </tr>\n",
       "    <tr>\n",
       "      <th>3561</th>\n",
       "      <td>24895</td>\n",
       "      <td>1</td>\n",
       "      <td>1</td>\n",
       "    </tr>\n",
       "    <tr>\n",
       "      <th>3562</th>\n",
       "      <td>25393</td>\n",
       "      <td>1</td>\n",
       "      <td>1</td>\n",
       "    </tr>\n",
       "    <tr>\n",
       "      <th>3563</th>\n",
       "      <td>26322</td>\n",
       "      <td>0</td>\n",
       "      <td>1</td>\n",
       "    </tr>\n",
       "    <tr>\n",
       "      <th>3564</th>\n",
       "      <td>28001</td>\n",
       "      <td>0</td>\n",
       "      <td>1</td>\n",
       "    </tr>\n",
       "    <tr>\n",
       "      <th>3565</th>\n",
       "      <td>33037</td>\n",
       "      <td>0</td>\n",
       "      <td>1</td>\n",
       "    </tr>\n",
       "    <tr>\n",
       "      <th>3566</th>\n",
       "      <td>34898</td>\n",
       "      <td>0</td>\n",
       "      <td>1</td>\n",
       "    </tr>\n",
       "    <tr>\n",
       "      <th>3567</th>\n",
       "      <td>45448</td>\n",
       "      <td>0</td>\n",
       "      <td>1</td>\n",
       "    </tr>\n",
       "    <tr>\n",
       "      <th>3568</th>\n",
       "      <td>101984</td>\n",
       "      <td>0</td>\n",
       "      <td>1</td>\n",
       "    </tr>\n",
       "  </tbody>\n",
       "</table>\n",
       "</div>"
      ],
      "text/plain": [
       "      word_count  label  count\n",
       "3549       15500      0      1\n",
       "3550       15914      0      1\n",
       "3551       15943      0      1\n",
       "3552       16019      0      1\n",
       "3553       16876      0      1\n",
       "3554       17305      0      1\n",
       "3555       17602      0      1\n",
       "3556       17952      0      1\n",
       "3557       18963      0      1\n",
       "3558       20002      0      1\n",
       "3559       21370      0      1\n",
       "3560       22465      0      1\n",
       "3561       24895      1      1\n",
       "3562       25393      1      1\n",
       "3563       26322      0      1\n",
       "3564       28001      0      1\n",
       "3565       33037      0      1\n",
       "3566       34898      0      1\n",
       "3567       45448      0      1\n",
       "3568      101984      0      1"
      ]
     },
     "execution_count": 14,
     "metadata": {},
     "output_type": "execute_result"
    }
   ],
   "source": [
    "count_of_words.tail(20)"
   ]
  },
  {
   "cell_type": "code",
   "execution_count": 15,
   "id": "31c91a00",
   "metadata": {},
   "outputs": [
    {
     "name": "stderr",
     "output_type": "stream",
     "text": [
      "/tmp/ipykernel_45170/1670958476.py:1: FutureWarning: \n",
      "\n",
      "Passing `palette` without assigning `hue` is deprecated and will be removed in v0.14.0. Assign the `x` variable to `hue` and set `legend=False` for the same effect.\n",
      "\n",
      "  sns.boxplot(data=count_of_words, x='label', y='word_count', palette=\"viridis\")\n"
     ]
    },
    {
     "data": {
      "image/png": "[encoded data removed]",
      "text/plain": [
       "<Figure size 640x480 with 1 Axes>"
      ]
     },
     "metadata": {},
     "output_type": "display_data"
    }
   ],
   "source": [
    "sns.boxplot(data=count_of_words, x='label', y='word_count', palette=\"viridis\")\n",
    "\n",
    "plt.xticks(ticks=[0, 1], labels=[\"Ham (0)\", \"Spam (1)\"])\n",
    "plt.title(\"Word Count Distribution by Label\")\n",
    "plt.xlabel(\"Label\")\n",
    "plt.ylabel(\"Word Count\")\n",
    "plt.show()\n"
   ]
  },
  {
   "cell_type": "markdown",
   "id": "74a06012",
   "metadata": {},
   "source": [
    "The variance of the ham emails is higher than in the spam emails. That could be an indicative of the emails would have a higher probability to be ham...\n",
    "\n",
    "------------------------\n",
    "Let's remove some outliers "
   ]
  },
  {
   "cell_type": "code",
   "execution_count": 16,
   "id": "08b825fe",
   "metadata": {},
   "outputs": [
    {
     "data": {
      "image/png": "[encoded data removed]",
      "text/plain": [
       "<Figure size 640x480 with 1 Axes>"
      ]
     },
     "metadata": {},
     "output_type": "display_data"
    }
   ],
   "source": [
    "lower_percentile = count_of_words['word_count'].quantile(0.05)\n",
    "upper_percentile = count_of_words['word_count'].quantile(0.95)\n",
    "filtered_data = count_of_words[\n",
    "    (count_of_words['word_count'] >= lower_percentile) & \n",
    "    (count_of_words['word_count'] <= upper_percentile)\n",
    "]\n",
    "sns.boxplot(data=filtered_data, x='label', hue = 'label', y='word_count', palette=\"viridis\")\n",
    "plt.xticks(ticks=[0, 1], labels=[\"Ham (0)\", \"Spam (1)\"])\n",
    "plt.title(\"Word Count Distribution by Label (Filtered Percentiles)\")\n",
    "plt.xlabel(\"Label\")\n",
    "plt.ylabel(\"Word Count\")\n",
    "plt.grid()\n",
    "plt.show()\n"
   ]
  },
  {
   "cell_type": "markdown",
   "id": "45f72938",
   "metadata": {},
   "source": [
    "The median shows us that amount of words used in the ham emails tends to be higher than in spam messages. \n",
    "\n",
    "The 75% of the ham emails are below 3300 words meanwhile the same percentage in spam emails tends to be lower ene though there are a lot of outliers in both classes. "
   ]
  },
  {
   "cell_type": "markdown",
   "id": "43d317e2",
   "metadata": {},
   "source": [
    "## Char count distribution\n",
    "\n",
    "What is the distribution of the character count?\n"
   ]
  },
  {
   "cell_type": "code",
   "execution_count": 17,
   "id": "9c8e5859",
   "metadata": {},
   "outputs": [
    {
     "data": {
      "text/html": [
       "<div>\n",
       "<style scoped>\n",
       "    .dataframe tbody tr th:only-of-type {\n",
       "        vertical-align: middle;\n",
       "    }\n",
       "\n",
       "    .dataframe tbody tr th {\n",
       "        vertical-align: top;\n",
       "    }\n",
       "\n",
       "    .dataframe thead th {\n",
       "        text-align: right;\n",
       "    }\n",
       "</style>\n",
       "<table border=\"1\" class=\"dataframe\">\n",
       "  <thead>\n",
       "    <tr style=\"text-align: right;\">\n",
       "      <th></th>\n",
       "      <th>char_count</th>\n",
       "      <th>label</th>\n",
       "      <th>count</th>\n",
       "    </tr>\n",
       "  </thead>\n",
       "  <tbody>\n",
       "    <tr>\n",
       "      <th>0</th>\n",
       "      <td>1</td>\n",
       "      <td>0</td>\n",
       "      <td>1</td>\n",
       "    </tr>\n",
       "    <tr>\n",
       "      <th>1</th>\n",
       "      <td>1</td>\n",
       "      <td>1</td>\n",
       "      <td>1</td>\n",
       "    </tr>\n",
       "    <tr>\n",
       "      <th>2</th>\n",
       "      <td>2</td>\n",
       "      <td>0</td>\n",
       "      <td>7</td>\n",
       "    </tr>\n",
       "    <tr>\n",
       "      <th>3</th>\n",
       "      <td>2</td>\n",
       "      <td>1</td>\n",
       "      <td>4</td>\n",
       "    </tr>\n",
       "    <tr>\n",
       "      <th>4</th>\n",
       "      <td>3</td>\n",
       "      <td>0</td>\n",
       "      <td>8</td>\n",
       "    </tr>\n",
       "    <tr>\n",
       "      <th>...</th>\n",
       "      <td>...</td>\n",
       "      <td>...</td>\n",
       "      <td>...</td>\n",
       "    </tr>\n",
       "    <tr>\n",
       "      <th>11506</th>\n",
       "      <td>156208</td>\n",
       "      <td>0</td>\n",
       "      <td>1</td>\n",
       "    </tr>\n",
       "    <tr>\n",
       "      <th>11507</th>\n",
       "      <td>165933</td>\n",
       "      <td>0</td>\n",
       "      <td>1</td>\n",
       "    </tr>\n",
       "    <tr>\n",
       "      <th>11508</th>\n",
       "      <td>178837</td>\n",
       "      <td>0</td>\n",
       "      <td>1</td>\n",
       "    </tr>\n",
       "    <tr>\n",
       "      <th>11509</th>\n",
       "      <td>228353</td>\n",
       "      <td>0</td>\n",
       "      <td>1</td>\n",
       "    </tr>\n",
       "    <tr>\n",
       "      <th>11510</th>\n",
       "      <td>598705</td>\n",
       "      <td>0</td>\n",
       "      <td>1</td>\n",
       "    </tr>\n",
       "  </tbody>\n",
       "</table>\n",
       "<p>11511 rows × 3 columns</p>\n",
       "</div>"
      ],
      "text/plain": [
       "       char_count  label  count\n",
       "0               1      0      1\n",
       "1               1      1      1\n",
       "2               2      0      7\n",
       "3               2      1      4\n",
       "4               3      0      8\n",
       "...           ...    ...    ...\n",
       "11506      156208      0      1\n",
       "11507      165933      0      1\n",
       "11508      178837      0      1\n",
       "11509      228353      0      1\n",
       "11510      598705      0      1\n",
       "\n",
       "[11511 rows x 3 columns]"
      ]
     },
     "execution_count": 17,
     "metadata": {},
     "output_type": "execute_result"
    }
   ],
   "source": [
    "df['char_count'] = df['email'].apply(len)\n",
    "\n",
    "count_of_chars = df.groupby(['char_count', 'label']).size().reset_index(name='count')\n",
    "count_of_chars\n",
    "\n"
   ]
  },
  {
   "cell_type": "code",
   "execution_count": 18,
   "id": "ba0cee10",
   "metadata": {},
   "outputs": [
    {
     "data": {
      "text/html": [
       "<div>\n",
       "<style scoped>\n",
       "    .dataframe tbody tr th:only-of-type {\n",
       "        vertical-align: middle;\n",
       "    }\n",
       "\n",
       "    .dataframe tbody tr th {\n",
       "        vertical-align: top;\n",
       "    }\n",
       "\n",
       "    .dataframe thead th {\n",
       "        text-align: right;\n",
       "    }\n",
       "</style>\n",
       "<table border=\"1\" class=\"dataframe\">\n",
       "  <thead>\n",
       "    <tr style=\"text-align: right;\">\n",
       "      <th></th>\n",
       "      <th>char_count</th>\n",
       "      <th>label</th>\n",
       "      <th>count</th>\n",
       "    </tr>\n",
       "  </thead>\n",
       "  <tbody>\n",
       "    <tr>\n",
       "      <th>11491</th>\n",
       "      <td>90176</td>\n",
       "      <td>0</td>\n",
       "      <td>1</td>\n",
       "    </tr>\n",
       "    <tr>\n",
       "      <th>11492</th>\n",
       "      <td>90616</td>\n",
       "      <td>0</td>\n",
       "      <td>1</td>\n",
       "    </tr>\n",
       "    <tr>\n",
       "      <th>11493</th>\n",
       "      <td>92756</td>\n",
       "      <td>0</td>\n",
       "      <td>1</td>\n",
       "    </tr>\n",
       "    <tr>\n",
       "      <th>11494</th>\n",
       "      <td>97546</td>\n",
       "      <td>0</td>\n",
       "      <td>1</td>\n",
       "    </tr>\n",
       "    <tr>\n",
       "      <th>11495</th>\n",
       "      <td>102796</td>\n",
       "      <td>0</td>\n",
       "      <td>1</td>\n",
       "    </tr>\n",
       "    <tr>\n",
       "      <th>11496</th>\n",
       "      <td>103422</td>\n",
       "      <td>0</td>\n",
       "      <td>1</td>\n",
       "    </tr>\n",
       "    <tr>\n",
       "      <th>11497</th>\n",
       "      <td>103773</td>\n",
       "      <td>0</td>\n",
       "      <td>1</td>\n",
       "    </tr>\n",
       "    <tr>\n",
       "      <th>11498</th>\n",
       "      <td>103878</td>\n",
       "      <td>0</td>\n",
       "      <td>1</td>\n",
       "    </tr>\n",
       "    <tr>\n",
       "      <th>11499</th>\n",
       "      <td>106960</td>\n",
       "      <td>0</td>\n",
       "      <td>1</td>\n",
       "    </tr>\n",
       "    <tr>\n",
       "      <th>11500</th>\n",
       "      <td>113525</td>\n",
       "      <td>0</td>\n",
       "      <td>1</td>\n",
       "    </tr>\n",
       "    <tr>\n",
       "      <th>11501</th>\n",
       "      <td>115767</td>\n",
       "      <td>0</td>\n",
       "      <td>1</td>\n",
       "    </tr>\n",
       "    <tr>\n",
       "      <th>11502</th>\n",
       "      <td>134332</td>\n",
       "      <td>0</td>\n",
       "      <td>1</td>\n",
       "    </tr>\n",
       "    <tr>\n",
       "      <th>11503</th>\n",
       "      <td>141261</td>\n",
       "      <td>1</td>\n",
       "      <td>1</td>\n",
       "    </tr>\n",
       "    <tr>\n",
       "      <th>11504</th>\n",
       "      <td>141870</td>\n",
       "      <td>0</td>\n",
       "      <td>1</td>\n",
       "    </tr>\n",
       "    <tr>\n",
       "      <th>11505</th>\n",
       "      <td>144087</td>\n",
       "      <td>1</td>\n",
       "      <td>1</td>\n",
       "    </tr>\n",
       "    <tr>\n",
       "      <th>11506</th>\n",
       "      <td>156208</td>\n",
       "      <td>0</td>\n",
       "      <td>1</td>\n",
       "    </tr>\n",
       "    <tr>\n",
       "      <th>11507</th>\n",
       "      <td>165933</td>\n",
       "      <td>0</td>\n",
       "      <td>1</td>\n",
       "    </tr>\n",
       "    <tr>\n",
       "      <th>11508</th>\n",
       "      <td>178837</td>\n",
       "      <td>0</td>\n",
       "      <td>1</td>\n",
       "    </tr>\n",
       "    <tr>\n",
       "      <th>11509</th>\n",
       "      <td>228353</td>\n",
       "      <td>0</td>\n",
       "      <td>1</td>\n",
       "    </tr>\n",
       "    <tr>\n",
       "      <th>11510</th>\n",
       "      <td>598705</td>\n",
       "      <td>0</td>\n",
       "      <td>1</td>\n",
       "    </tr>\n",
       "  </tbody>\n",
       "</table>\n",
       "</div>"
      ],
      "text/plain": [
       "       char_count  label  count\n",
       "11491       90176      0      1\n",
       "11492       90616      0      1\n",
       "11493       92756      0      1\n",
       "11494       97546      0      1\n",
       "11495      102796      0      1\n",
       "11496      103422      0      1\n",
       "11497      103773      0      1\n",
       "11498      103878      0      1\n",
       "11499      106960      0      1\n",
       "11500      113525      0      1\n",
       "11501      115767      0      1\n",
       "11502      134332      0      1\n",
       "11503      141261      1      1\n",
       "11504      141870      0      1\n",
       "11505      144087      1      1\n",
       "11506      156208      0      1\n",
       "11507      165933      0      1\n",
       "11508      178837      0      1\n",
       "11509      228353      0      1\n",
       "11510      598705      0      1"
      ]
     },
     "execution_count": 18,
     "metadata": {},
     "output_type": "execute_result"
    }
   ],
   "source": [
    "count_of_chars.tail(20)"
   ]
  },
  {
   "cell_type": "code",
   "execution_count": 19,
   "id": "01f1470f",
   "metadata": {},
   "outputs": [
    {
     "data": {
      "image/png": "[encoded data removed]",
      "text/plain": [
       "<Figure size 640x480 with 1 Axes>"
      ]
     },
     "metadata": {},
     "output_type": "display_data"
    }
   ],
   "source": [
    "sns.boxplot(data=count_of_chars, x='label', y='char_count', hue = 'label', palette=\"viridis\")\n",
    "\n",
    "plt.xticks(ticks=[0, 1], labels=[\"Ham (0)\", \"Spam (1)\"])\n",
    "plt.title(\"Character Count Distribution by Label\")\n",
    "plt.xlabel(\"Label\")\n",
    "plt.ylabel(\"Character Count\")\n",
    "plt.show()\n"
   ]
  },
  {
   "cell_type": "markdown",
   "id": "0c28da20",
   "metadata": {},
   "source": [
    "Same behaviour as with word counts, the variance in the ham emails is higher than in spam emails. Why that can be? Maybe the ham messages tend to use a more formal vocabulary? Spam messages use more slang? This would be a good path to follow for further research.\n",
    "\n",
    "-----------\n",
    "\n",
    "Let's remove some outliers here too "
   ]
  },
  {
   "cell_type": "code",
   "execution_count": 20,
   "id": "72e4af61",
   "metadata": {},
   "outputs": [
    {
     "data": {
      "image/png": "[encoded data removed]",
      "text/plain": [
       "<Figure size 640x480 with 1 Axes>"
      ]
     },
     "metadata": {},
     "output_type": "display_data"
    }
   ],
   "source": [
    "lower_percentile = count_of_chars['char_count'].quantile(0.05)\n",
    "upper_percentile = count_of_chars['char_count'].quantile(0.95)\n",
    "filtered_data = count_of_chars[\n",
    "    (count_of_chars['char_count'] >= lower_percentile) & \n",
    "    (count_of_chars['char_count'] <= upper_percentile)\n",
    "]\n",
    "sns.boxplot(data=filtered_data, x='label', hue = 'label', y='char_count', palette=\"viridis\")\n",
    "plt.xticks(ticks=[0, 1], labels=[\"Ham (0)\", \"Spam (1)\"])\n",
    "plt.title(\"Character Count Distribution by Label (Filtered Percentiles)\")\n",
    "plt.xlabel(\"Label\")\n",
    "plt.ylabel(\"Character Count\")\n",
    "plt.grid()\n",
    "plt.show()\n"
   ]
  },
  {
   "cell_type": "markdown",
   "id": "ce5fa9a4",
   "metadata": {},
   "source": [
    "It's very curious. There must be something to do with the type of vocabulary that is used. Maybe abbreviations are used for spam? Maybe we could check the spelling so the abbreviations can help us in this. "
   ]
  },
  {
   "cell_type": "markdown",
   "id": "8bf70218",
   "metadata": {},
   "source": [
    "## Most common words in each class"
   ]
  },
  {
   "cell_type": "markdown",
   "id": "626fad4b",
   "metadata": {},
   "source": [
    "I used special_chars_analysis notebook to perform a first analysis of characters that could be cleaned or transformed along with the removal of the stopwords"
   ]
  },
  {
   "cell_type": "code",
   "execution_count": 21,
   "id": "d65e559b",
   "metadata": {},
   "outputs": [
    {
     "data": {
      "text/html": [
       "<div>\n",
       "<style scoped>\n",
       "    .dataframe tbody tr th:only-of-type {\n",
       "        vertical-align: middle;\n",
       "    }\n",
       "\n",
       "    .dataframe tbody tr th {\n",
       "        vertical-align: top;\n",
       "    }\n",
       "\n",
       "    .dataframe thead th {\n",
       "        text-align: right;\n",
       "    }\n",
       "</style>\n",
       "<table border=\"1\" class=\"dataframe\">\n",
       "  <thead>\n",
       "    <tr style=\"text-align: right;\">\n",
       "      <th></th>\n",
       "      <th>email</th>\n",
       "      <th>label</th>\n",
       "      <th>word_count</th>\n",
       "      <th>char_count</th>\n",
       "      <th>message_tokenized</th>\n",
       "      <th>message_clean</th>\n",
       "    </tr>\n",
       "  </thead>\n",
       "  <tbody>\n",
       "    <tr>\n",
       "      <th>0</th>\n",
       "      <td>get up to escapenumber escapenumber emergency ...</td>\n",
       "      <td>1</td>\n",
       "      <td>26</td>\n",
       "      <td>180</td>\n",
       "      <td>[get, up, to, escapenumber, escapenumber, emer...</td>\n",
       "      <td>get escapenumber escapenumber emergency cash e...</td>\n",
       "    </tr>\n",
       "    <tr>\n",
       "      <th>1</th>\n",
       "      <td>dear customer the pharmacy you shop at got too...</td>\n",
       "      <td>1</td>\n",
       "      <td>94</td>\n",
       "      <td>591</td>\n",
       "      <td>[dear, customer, the, pharmacy, you, shop, at,...</td>\n",
       "      <td>dear customer pharmacy shop got eemojiensive s...</td>\n",
       "    </tr>\n",
       "    <tr>\n",
       "      <th>2</th>\n",
       "      <td>please find below the gtv project status updat...</td>\n",
       "      <td>0</td>\n",
       "      <td>184</td>\n",
       "      <td>933</td>\n",
       "      <td>[please, find, below, the, gtv, project, statu...</td>\n",
       "      <td>please find gtv project status update week ple...</td>\n",
       "    </tr>\n",
       "    <tr>\n",
       "      <th>3</th>\n",
       "      <td>fuller harder erectionsthe same as the one fro...</td>\n",
       "      <td>1</td>\n",
       "      <td>39</td>\n",
       "      <td>229</td>\n",
       "      <td>[fuller, harder, erectionsthe, same, as, the, ...</td>\n",
       "      <td>fuller harder erectionsthe one pfizercheaper e...</td>\n",
       "    </tr>\n",
       "    <tr>\n",
       "      <th>4</th>\n",
       "      <td>thinking of breathing new life into your busin...</td>\n",
       "      <td>1</td>\n",
       "      <td>90</td>\n",
       "      <td>484</td>\n",
       "      <td>[thinking, of, breathing, new, life, into, you...</td>\n",
       "      <td>thinking breathing new life business start rev...</td>\n",
       "    </tr>\n",
       "    <tr>\n",
       "      <th>...</th>\n",
       "      <td>...</td>\n",
       "      <td>...</td>\n",
       "      <td>...</td>\n",
       "      <td>...</td>\n",
       "      <td>...</td>\n",
       "      <td>...</td>\n",
       "    </tr>\n",
       "    <tr>\n",
       "      <th>75936</th>\n",
       "      <td>we are grateful to all our devoted customers a...</td>\n",
       "      <td>1</td>\n",
       "      <td>96</td>\n",
       "      <td>612</td>\n",
       "      <td>[we, are, grateful, to, all, our, devoted, cus...</td>\n",
       "      <td>grateful devoted customers show appreciation c...</td>\n",
       "    </tr>\n",
       "    <tr>\n",
       "      <th>75937</th>\n",
       "      <td>you have registered sinco as payee log in at i...</td>\n",
       "      <td>0</td>\n",
       "      <td>27</td>\n",
       "      <td>155</td>\n",
       "      <td>[you, have, registered, sinco, as, payee, log,...</td>\n",
       "      <td>registered sinco payee log icicibankcom enter ...</td>\n",
       "    </tr>\n",
       "    <tr>\n",
       "      <th>75938</th>\n",
       "      <td>seize the opportunity escapenumber anatrim esc...</td>\n",
       "      <td>1</td>\n",
       "      <td>268</td>\n",
       "      <td>1630</td>\n",
       "      <td>[seize, the, opportunity, escapenumber, anatri...</td>\n",
       "      <td>seize opportunity escapenumber anatrim escapen...</td>\n",
       "    </tr>\n",
       "    <tr>\n",
       "      <th>75939</th>\n",
       "      <td>hi all attached is a patch that minimally enab...</td>\n",
       "      <td>0</td>\n",
       "      <td>109</td>\n",
       "      <td>659</td>\n",
       "      <td>[hi, all, attached, is, a, patch, that, minima...</td>\n",
       "      <td>hi attached patch minimally enables named stre...</td>\n",
       "    </tr>\n",
       "    <tr>\n",
       "      <th>75940</th>\n",
       "      <td>hi i am working on conjoint analysis how i can...</td>\n",
       "      <td>0</td>\n",
       "      <td>85</td>\n",
       "      <td>474</td>\n",
       "      <td>[hi, i, am, working, on, conjoint, analysis, h...</td>\n",
       "      <td>hi working conjoint analysis install homals ps...</td>\n",
       "    </tr>\n",
       "  </tbody>\n",
       "</table>\n",
       "<p>75941 rows × 6 columns</p>\n",
       "</div>"
      ],
      "text/plain": [
       "                                                   email  label  word_count  \\\n",
       "0      get up to escapenumber escapenumber emergency ...      1          26   \n",
       "1      dear customer the pharmacy you shop at got too...      1          94   \n",
       "2      please find below the gtv project status updat...      0         184   \n",
       "3      fuller harder erectionsthe same as the one fro...      1          39   \n",
       "4      thinking of breathing new life into your busin...      1          90   \n",
       "...                                                  ...    ...         ...   \n",
       "75936  we are grateful to all our devoted customers a...      1          96   \n",
       "75937  you have registered sinco as payee log in at i...      0          27   \n",
       "75938  seize the opportunity escapenumber anatrim esc...      1         268   \n",
       "75939  hi all attached is a patch that minimally enab...      0         109   \n",
       "75940  hi i am working on conjoint analysis how i can...      0          85   \n",
       "\n",
       "       char_count                                  message_tokenized  \\\n",
       "0             180  [get, up, to, escapenumber, escapenumber, emer...   \n",
       "1             591  [dear, customer, the, pharmacy, you, shop, at,...   \n",
       "2             933  [please, find, below, the, gtv, project, statu...   \n",
       "3             229  [fuller, harder, erectionsthe, same, as, the, ...   \n",
       "4             484  [thinking, of, breathing, new, life, into, you...   \n",
       "...           ...                                                ...   \n",
       "75936         612  [we, are, grateful, to, all, our, devoted, cus...   \n",
       "75937         155  [you, have, registered, sinco, as, payee, log,...   \n",
       "75938        1630  [seize, the, opportunity, escapenumber, anatri...   \n",
       "75939         659  [hi, all, attached, is, a, patch, that, minima...   \n",
       "75940         474  [hi, i, am, working, on, conjoint, analysis, h...   \n",
       "\n",
       "                                           message_clean  \n",
       "0      get escapenumber escapenumber emergency cash e...  \n",
       "1      dear customer pharmacy shop got eemojiensive s...  \n",
       "2      please find gtv project status update week ple...  \n",
       "3      fuller harder erectionsthe one pfizercheaper e...  \n",
       "4      thinking breathing new life business start rev...  \n",
       "...                                                  ...  \n",
       "75936  grateful devoted customers show appreciation c...  \n",
       "75937  registered sinco payee log icicibankcom enter ...  \n",
       "75938  seize opportunity escapenumber anatrim escapen...  \n",
       "75939  hi attached patch minimally enables named stre...  \n",
       "75940  hi working conjoint analysis install homals ps...  \n",
       "\n",
       "[75941 rows x 6 columns]"
      ]
     },
     "execution_count": 21,
     "metadata": {},
     "output_type": "execute_result"
    }
   ],
   "source": [
    "from nltk.tokenize import word_tokenize\n",
    "from nltk.corpus import stopwords\n",
    "stop_words = set(stopwords.words('english'))\n",
    "import re\n",
    "from string import punctuation\n",
    "\n",
    "def clean_text(text):\n",
    "    special_replacements = {\n",
    "        r\"£\": \"pound\",\n",
    "        r\"$\": \"dollar\",\n",
    "        r\"€\": \"euro\",\n",
    "        r\"%\": \"percentage\",\n",
    "        r\"♣\": \"clover\", \n",
    "        r\"®\": \"registered trademark\",\n",
    "        r\"©\": \"copyright\",\n",
    "        r\"☺\": \"emoji\",\n",
    "        r\"™\": \"trademark\",\n",
    "        }\n",
    "    \n",
    "    emoticon_pattern = re.compile(r\"\"\"\n",
    "    [:;=Xx]           \n",
    "    [-~]?             \n",
    "    [\\)\\]\\(\\[dDpP/]   \n",
    "    \"\"\", re.VERBOSE)\n",
    "    \n",
    "    for pattern, replacement in special_replacements.items():\n",
    "        text = re.sub(pattern, replacement, text)\n",
    "    text = re.sub(emoticon_pattern, 'emoji', text)\n",
    "    text = text.lower()\n",
    "    text = re.sub('<[^<>]+>', ' ', text)\n",
    "    text = re.sub(r'http\\S+|www.\\S+', '', text)\n",
    "    text = re.sub('[0-9]+', 'number', text)\n",
    "    text = re.sub('[^\\s]+@[^\\s]+', 'emailaddr', text)\n",
    "    text = text.translate(str.maketrans('', '', punctuation))\n",
    "    text = re.sub(r'[^a-zA-Z\\s]', '', text)\n",
    "    text = re.sub(r'\\s+', ' ', text).strip()\n",
    "    return text\n",
    "\n",
    "df_cleaned = df.copy()\n",
    "df_cleaned['email']=df_cleaned['email'].apply(clean_text)\n",
    "df_cleaned['message_tokenized'] = df_cleaned['email'].apply(word_tokenize)\n",
    "\n",
    "def remove_stopwords(tokens):\n",
    "    filtered_tokens = [word for word in tokens if word.lower() not in stop_words]\n",
    "    return ' '.join(filtered_tokens)\n",
    "\n",
    "\n",
    "df_cleaned['message_clean'] = df_cleaned['message_tokenized'].apply(remove_stopwords)\n",
    "df_cleaned"
   ]
  },
  {
   "cell_type": "code",
   "execution_count": 22,
   "id": "967a36cd",
   "metadata": {},
   "outputs": [
    {
     "name": "stdout",
     "output_type": "stream",
     "text": [
      "'I'm' is not a stopword.\n"
     ]
    }
   ],
   "source": [
    "word = \"I'm\"\n",
    "\n",
    "if word in stop_words:\n",
    "    print(f\"'{word}' is a stopword.\")\n",
    "else:\n",
    "    print(f\"'{word}' is not a stopword.\")\n"
   ]
  },
  {
   "cell_type": "code",
   "execution_count": 23,
   "id": "d6c98c7b",
   "metadata": {},
   "outputs": [
    {
     "data": {
      "image/png": "[encoded data removed]",
      "text/plain": [
       "<Figure size 1200x600 with 1 Axes>"
      ]
     },
     "metadata": {},
     "output_type": "display_data"
    },
    {
     "data": {
      "image/png": "[encoded data removed]",
      "text/plain": [
       "<Figure size 1200x600 with 1 Axes>"
      ]
     },
     "metadata": {},
     "output_type": "display_data"
    }
   ],
   "source": [
    "from collections import Counter\n",
    "\n",
    "ham_data = df_cleaned[df_cleaned['label'] == 0]\n",
    "spam_data = df_cleaned[df_cleaned['label'] == 1]\n",
    "\n",
    "ham_words = Counter(\" \".join(ham_data[\"message_clean\"]).split()).most_common(20)\n",
    "spam_words = Counter(\" \".join(spam_data[\"message_clean\"]).split()).most_common(20)\n",
    "\n",
    "ham_words_list, ham_counts = zip(*ham_words)\n",
    "spam_words_list, spam_counts = zip(*spam_words)\n",
    "\n",
    "plt.figure(figsize=(12, 6))\n",
    "plt.barh(ham_words_list, ham_counts, color=\"darkgreen\")\n",
    "plt.xlabel('Frequency')\n",
    "plt.title('Top 20 most common words for HAM')\n",
    "plt.tight_layout()\n",
    "\n",
    "plt.figure(figsize=(12, 6))\n",
    "plt.barh(spam_words_list, spam_counts, color=\"darkblue\")\n",
    "plt.xlabel('Frequency')\n",
    "plt.title('Top 20 most common words for SPAM')\n",
    "plt.tight_layout()\n",
    "\n",
    "plt.show()\n"
   ]
  },
  {
   "cell_type": "markdown",
   "id": "c55f2863",
   "metadata": {},
   "source": [
    "Most common words in each class are different. That will help the model to differentiate between types of emails.\n",
    "\n",
    "There is a lot of misspelling in both HAM and SPAM e-mails (u, ur, ill, etc), grammatical errors (poundnumber, numberp) and abbreviations (x, ect? what does that even mean?) \n",
    "\n",
    "Finding a spelling corrector and/or create a dictionary with misspellings would be a nice idea.\n"
   ]
  },
  {
   "cell_type": "code",
   "execution_count": 24,
   "id": "3e22c814",
   "metadata": {},
   "outputs": [
    {
     "data": {
      "text/plain": [
       "5    can you return a phone call could you do it if...\n",
       "Name: email, dtype: object"
      ]
     },
     "execution_count": 24,
     "metadata": {},
     "output_type": "execute_result"
    }
   ],
   "source": [
    "com = df_cleaned[df_cleaned['message_tokenized'].apply(lambda x: 'com' in x)]\n",
    "# pd.set_option('display.max_colwidth', None)\n",
    "com['email'].head(1)"
   ]
  },
  {
   "cell_type": "code",
   "execution_count": 30,
   "id": "c0667465",
   "metadata": {},
   "outputs": [
    {
     "name": "stdout",
     "output_type": "stream",
     "text": [
      "<class 'pandas.core.frame.DataFrame'>\n",
      "RangeIndex: 75941 entries, 0 to 75940\n",
      "Data columns (total 6 columns):\n",
      " #   Column             Non-Null Count  Dtype \n",
      "---  ------             --------------  ----- \n",
      " 0   email              75941 non-null  object\n",
      " 1   label              75941 non-null  int64 \n",
      " 2   word_count         75941 non-null  int64 \n",
      " 3   char_count         75941 non-null  int64 \n",
      " 4   message_tokenized  75941 non-null  object\n",
      " 5   message_clean      75941 non-null  object\n",
      "dtypes: int64(3), object(3)\n",
      "memory usage: 3.5+ MB\n"
     ]
    }
   ],
   "source": [
    "df_cleaned.info()"
   ]
  },
  {
   "cell_type": "code",
   "execution_count": 31,
   "id": "d17ac0bc",
   "metadata": {},
   "outputs": [
    {
     "data": {
      "text/html": [
       "<div>\n",
       "<style scoped>\n",
       "    .dataframe tbody tr th:only-of-type {\n",
       "        vertical-align: middle;\n",
       "    }\n",
       "\n",
       "    .dataframe tbody tr th {\n",
       "        vertical-align: top;\n",
       "    }\n",
       "\n",
       "    .dataframe thead th {\n",
       "        text-align: right;\n",
       "    }\n",
       "</style>\n",
       "<table border=\"1\" class=\"dataframe\">\n",
       "  <thead>\n",
       "    <tr style=\"text-align: right;\">\n",
       "      <th></th>\n",
       "      <th>label</th>\n",
       "      <th>word_count</th>\n",
       "      <th>char_count</th>\n",
       "    </tr>\n",
       "  </thead>\n",
       "  <tbody>\n",
       "    <tr>\n",
       "      <th>label</th>\n",
       "      <td>1.000000</td>\n",
       "      <td>-0.084767</td>\n",
       "      <td>-0.077936</td>\n",
       "    </tr>\n",
       "    <tr>\n",
       "      <th>word_count</th>\n",
       "      <td>-0.084767</td>\n",
       "      <td>1.000000</td>\n",
       "      <td>0.983524</td>\n",
       "    </tr>\n",
       "    <tr>\n",
       "      <th>char_count</th>\n",
       "      <td>-0.077936</td>\n",
       "      <td>0.983524</td>\n",
       "      <td>1.000000</td>\n",
       "    </tr>\n",
       "  </tbody>\n",
       "</table>\n",
       "</div>"
      ],
      "text/plain": [
       "               label  word_count  char_count\n",
       "label       1.000000   -0.084767   -0.077936\n",
       "word_count -0.084767    1.000000    0.983524\n",
       "char_count -0.077936    0.983524    1.000000"
      ]
     },
     "execution_count": 31,
     "metadata": {},
     "output_type": "execute_result"
    }
   ],
   "source": [
    "df_numeric = df_cleaned.select_dtypes(include=[int, float])\n",
    "\n",
    "df_numeric.corr()\n"
   ]
  },
  {
   "cell_type": "markdown",
   "id": "5314bfe2",
   "metadata": {},
   "source": [
    "Ouch, very irrelevant..."
   ]
  },
  {
   "cell_type": "markdown",
   "id": "aa1c9bd6",
   "metadata": {},
   "source": [
    "# ideas for future iterations:\n",
    "\n",
    "- check if all these steps can be optimized by data found on the test and validation tests that doesn't create overfitting (like a random emoji that is only appearing there but it's used)\n",
    "\n",
    "- find a good dictionary and a verbal conjugation set for verbs in english, pass it to the dataset and extract the words that are not on it. Then try to figure out where they come from (spelling errors, slang, etc.)\n",
    "\n",
    "- analyse punctuation\n",
    "\n",
    "- study chat-words \n",
    "\n",
    "- check if there are other languages in the dataset that are not english. \n",
    "\n",
    "- analyse bi-grams and tri-grams for each label\n",
    "\n",
    "- emojis have been cleaned as emoji, try to create more categories related to feelings\n",
    "\n",
    "\n"
   ]
  },
  {
   "cell_type": "markdown",
   "id": "1f1954d2",
   "metadata": {},
   "source": []
  }
 ],
 "metadata": {
  "kernelspec": {
   "display_name": "spam-detector-P2ybB3t6-py3.10",
   "language": "python",
   "name": "python3"
  },
  "language_info": {
   "codemirror_mode": {
    "name": "ipython",
    "version": 3
   },
   "file_extension": ".py",
   "mimetype": "text/x-python",
   "name": "python",
   "nbconvert_exporter": "python",
   "pygments_lexer": "ipython3",
   "version": "3.10.12"
  }
 },
 "nbformat": 4,
 "nbformat_minor": 5
}
