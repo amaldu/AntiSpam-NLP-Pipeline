{
 "cells": [
  {
   "cell_type": "markdown",
   "metadata": {},
   "source": [
    "The objective of this notebook is to explore and experiment with different oversampling techniques to balance our dataset.\n",
    "\n",
    "Approach: \n",
    "\n",
    "1. Calculate for each isolated technique, results of BOW and MNB for each OVERSAMPLE_FACTORS = [1.25, 1.5, 2.0] of the minority class.\n",
    "\n",
    "Techniques are found in the file utils/textaug_techniques.py and explained in the EXPERIMENTS_GUIDELINE.md"
   ]
  },
  {
   "cell_type": "markdown",
   "metadata": {},
   "source": [
    "## Datasets"
   ]
  },
  {
   "cell_type": "code",
   "execution_count": 44,
   "metadata": {},
   "outputs": [
    {
     "name": "stdout",
     "output_type": "stream",
     "text": [
      "The autoreload extension is already loaded. To reload it, use:\n",
      "  %reload_ext autoreload\n"
     ]
    }
   ],
   "source": [
    "%load_ext autoreload\n",
    "%autoreload 2"
   ]
  },
  {
   "cell_type": "code",
   "execution_count": 45,
   "metadata": {},
   "outputs": [],
   "source": [
    "import pandas as pd\n",
    "import sys\n",
    "from mlflow.models import infer_signature\n",
    "import logging\n",
    "logging.basicConfig(level=logging.INFO, format='%(asctime)s - %(levelname)s - %(message)s', stream=sys.stdout)\n",
    "import warnings\n",
    "warnings.filterwarnings('ignore')\n",
    "\n",
    "train = pd.read_csv(\"../../data/gold/train.csv\")\n",
    "test = pd.read_csv(\"../../data/gold/test.csv\")\n",
    "val = pd.read_csv(\"../../data/gold/validation.csv\")\n",
    "\n",
    "X_train = train['features']\n",
    "y_train = train['target']\n",
    "X_test = test['features']\n",
    "y_test = test['target']\n",
    "\n",
    "\n"
   ]
  },
  {
   "cell_type": "code",
   "execution_count": 46,
   "metadata": {},
   "outputs": [
    {
     "data": {
      "text/plain": [
       "dtype('O')"
      ]
     },
     "execution_count": 46,
     "metadata": {},
     "output_type": "execute_result"
    }
   ],
   "source": [
    "X_train.dtype"
   ]
  },
  {
   "cell_type": "markdown",
   "metadata": {},
   "source": [
    "## Oversampling "
   ]
  },
  {
   "cell_type": "code",
   "execution_count": 47,
   "metadata": {},
   "outputs": [
    {
     "data": {
      "text/plain": [
       "target\n",
       "0    3606\n",
       "1     517\n",
       "Name: count, dtype: int64"
      ]
     },
     "execution_count": 47,
     "metadata": {},
     "output_type": "execute_result"
    }
   ],
   "source": [
    "y_train.value_counts()\n"
   ]
  },
  {
   "cell_type": "code",
   "execution_count": 48,
   "metadata": {},
   "outputs": [
    {
     "data": {
      "text/plain": [
       "target\n",
       "0    0.874606\n",
       "1    0.125394\n",
       "Name: proportion, dtype: float64"
      ]
     },
     "execution_count": 48,
     "metadata": {},
     "output_type": "execute_result"
    }
   ],
   "source": [
    "y_train.value_counts(normalize=True)"
   ]
  },
  {
   "cell_type": "markdown",
   "metadata": {},
   "source": [
    "## nlpAug techniques"
   ]
  },
  {
   "cell_type": "code",
   "execution_count": 49,
   "metadata": {},
   "outputs": [],
   "source": [
    "import sys  \n",
    "import os\n",
    "sys.path.append(os.path.abspath(\"../utils\"))\n",
    "\n",
    "from textaug_techniques import TextAugmentation"
   ]
  },
  {
   "cell_type": "code",
   "execution_count": 50,
   "metadata": {},
   "outputs": [],
   "source": [
    "OVERSAMPLE_FACTORS = [1.25, 1.5, 2.0] "
   ]
  },
  {
   "cell_type": "code",
   "execution_count": 51,
   "metadata": {},
   "outputs": [
    {
     "name": "stdout",
     "output_type": "stream",
     "text": [
      "Running augmentation for factor 1.25x...\n",
      "2024-12-30 14:41:36,142 - INFO - Dataset '1.25x' created with 4252 samples.\n",
      "Running augmentation for factor 1.5x...\n",
      "2024-12-30 14:41:36,144 - INFO - Dataset '1.5x' created with 4381 samples.\n",
      "Running augmentation for factor 2.0x...\n",
      "2024-12-30 14:41:36,145 - INFO - Dataset '2.0x' created with 4640 samples.\n",
      "Dataset 'X_train_1comma25':\n",
      "0      hey next sun number there basic yoga course bu...\n",
      "1                    dhoni luck win big titleso winemoji\n",
      "2                                     really hows master\n",
      "3                               see cup coffee animation\n",
      "4                           pain couldnt come worse time\n",
      "                             ...                        \n",
      "124    qw_augmented_dear voucher holder number claim ...\n",
      "125               qw_augmented_filthy story girl waiting\n",
      "126    qw_augmented_freemsg today day ready im horny ...\n",
      "127    qw_augmented_please call number immediately ur...\n",
      "128    qw_augmented_urgent please call number landlin...\n",
      "Name: features, Length: 4252, dtype: object\n",
      "0      0\n",
      "1      0\n",
      "2      0\n",
      "3      0\n",
      "4      0\n",
      "      ..\n",
      "124    1\n",
      "125    1\n",
      "126    1\n",
      "127    1\n",
      "128    1\n",
      "Length: 4252, dtype: int64\n",
      "Dataset 'X_train_1comma5':\n",
      "0      hey next sun number there basic yoga course bu...\n",
      "1                    dhoni luck win big titleso winemoji\n",
      "2                                     really hows master\n",
      "3                               see cup coffee animation\n",
      "4                           pain couldnt come worse time\n",
      "                             ...                        \n",
      "253         qw_augmented_freemsgfav xmas tonesreply real\n",
      "254    qw_augmented_urgent please call number landlin...\n",
      "255    qw_augmented_thanks ringtone order reference n...\n",
      "256    qw_augmented_freeringtone reply real poly eg r...\n",
      "257    qw_augmented_romcapspam everyone around respon...\n",
      "Name: features, Length: 4381, dtype: object\n",
      "0      0\n",
      "1      0\n",
      "2      0\n",
      "3      0\n",
      "4      0\n",
      "      ..\n",
      "253    1\n",
      "254    1\n",
      "255    1\n",
      "256    1\n",
      "257    1\n",
      "Length: 4381, dtype: int64\n",
      "Dataset 'X_train_2comma0':\n",
      "0      hey next sun number there basic yoga course bu...\n",
      "1                    dhoni luck win big titleso winemoji\n",
      "2                                     really hows master\n",
      "3                               see cup coffee animation\n",
      "4                           pain couldnt come worse time\n",
      "                             ...                        \n",
      "512      qw_augmented_unique enough find numberth august\n",
      "513    qw_augmented_number nokia tone number ur mob e...\n",
      "514    qw_augmented_textnumber get ringtones logo gam...\n",
      "515    qw_augmented_ever thought living good life per...\n",
      "516    qw_augmented_want number get laid tonight want...\n",
      "Name: features, Length: 4640, dtype: object\n",
      "0      0\n",
      "1      0\n",
      "2      0\n",
      "3      0\n",
      "4      0\n",
      "      ..\n",
      "512    1\n",
      "513    1\n",
      "514    1\n",
      "515    1\n",
      "516    1\n",
      "Length: 4640, dtype: int64\n"
     ]
    }
   ],
   "source": [
    "\n",
    "\n",
    "augmenter = TextAugmentation(qw=1, aa=0, cwea=0, sa=0, bta=0, wea=0)\n",
    "\n",
    "for factor in OVERSAMPLE_FACTORS:\n",
    "    print(f\"Running augmentation for factor {factor}x...\")\n",
    "    datasets = augmenter.augment(X_train, y_train, factor)\n",
    "    \n",
    "    if datasets:\n",
    "        for label, (aug_X, aug_y) in datasets.items():\n",
    "            factor_name = str(factor).replace('.', 'comma')\n",
    "            globals()[f\"X_train_{factor_name}\"] = aug_X\n",
    "            globals()[f\"y_train_{factor_name}\"] = aug_y\n",
    "\n",
    "# for factor in OVERSAMPLE_FACTORS:\n",
    "#     factor_name = str(factor).replace('.', 'comma')\n",
    "#     print(f\"Dataset 'X_train_{factor_name}':\")\n",
    "#     print(globals()[f\"X_train_{factor_name}\"])\n",
    "#     print(globals()[f\"y_train_{factor_name}\"])\n",
    "\n"
   ]
  },
  {
   "cell_type": "markdown",
   "metadata": {},
   "source": [
    "## Pipeline pattern"
   ]
  },
  {
   "cell_type": "code",
   "execution_count": 52,
   "metadata": {},
   "outputs": [],
   "source": [
    "import matplotlib.pyplot as plt\n",
    "from sklearn.feature_extraction.text import CountVectorizer\n",
    "from sklearn.naive_bayes import MultinomialNB\n",
    "from sklearn.pipeline import Pipeline\n",
    "from sklearn.metrics import (\n",
    "    fbeta_score,\n",
    "    classification_report,\n",
    "    confusion_matrix,\n",
    "    ConfusionMatrixDisplay,\n",
    "    precision_recall_curve,\n",
    "    auc,\n",
    "    balanced_accuracy_score,\n",
    "    roc_curve\n",
    ")\n",
    "\n",
    "\n",
    "pipeline = Pipeline([\n",
    "        ('vectorizer', CountVectorizer(ngram_range=(1, 1), max_features=None)),\n",
    "        ('classifier', MultinomialNB())\n",
    "    ])\n",
    "    \n",
    "\n",
    "\n",
    "\n"
   ]
  },
  {
   "cell_type": "markdown",
   "metadata": {},
   "source": [
    "## Pipeline 1.25x"
   ]
  },
  {
   "cell_type": "code",
   "execution_count": 53,
   "metadata": {},
   "outputs": [],
   "source": [
    "pipeline.fit(X_train_1comma25, y_train_1comma25)\n",
    "y_train_pred = pipeline.predict(X_train_1comma25)\n",
    "y_test_pred = pipeline.predict(X_test)\n",
    "\n"
   ]
  },
  {
   "cell_type": "code",
   "execution_count": null,
   "metadata": {},
   "outputs": [],
   "source": [
    "X_train_1comma25_df = pd.DataFrame(X_train_1comma25)\n",
    "y_train_1comma25_df = pd.DataFrame(y_train_1comma25)\n",
    "X_test_df = pd.DataFrame(X_test)\n",
    "y_test_df = pd.DataFrame(y_test)\n",
    "\n",
    "# Save them as CSV files\n",
    "X_train_1comma25_df.to_csv(\"X_train_1comma25.csv\", index=False)\n",
    "y_train_1comma25_df.to_csv(\"y_train_1comma25.csv\", index=False)\n",
    "X_test_df.to_csv(\"X_test.csv\", index=False)\n",
    "y_test_df.to_csv(\"y_test.csv\", index=False)"
   ]
  },
  {
   "cell_type": "markdown",
   "metadata": {},
   "source": [
    "## Metrics 1.25x"
   ]
  },
  {
   "cell_type": "code",
   "execution_count": 54,
   "metadata": {},
   "outputs": [
    {
     "name": "stdout",
     "output_type": "stream",
     "text": [
      "Classification Report (Train Data):\n",
      "              precision    recall  f1-score   support\n",
      "\n",
      "         ham      0.995     0.996     0.995      3606\n",
      "        spam      0.977     0.972     0.974       646\n",
      "\n",
      "    accuracy                          0.992      4252\n",
      "   macro avg      0.986     0.984     0.985      4252\n",
      "weighted avg      0.992     0.992     0.992      4252\n",
      "\n",
      "Classification Report (Test Data):\n",
      "              precision    recall  f1-score   support\n",
      "\n",
      "         ham      0.993     0.978     0.986       453\n",
      "        spam      0.857     0.952     0.902        63\n",
      "\n",
      "    accuracy                          0.975       516\n",
      "   macro avg      0.925     0.965     0.944       516\n",
      "weighted avg      0.977     0.975     0.975       516\n",
      "\n"
     ]
    }
   ],
   "source": [
    "from experiments_utils import print_classification_reports\n",
    "\n",
    "print_classification_reports(y_train_1comma25, y_train_pred, y_test, y_test_pred)\n"
   ]
  },
  {
   "cell_type": "code",
   "execution_count": 55,
   "metadata": {},
   "outputs": [
    {
     "data": {
      "image/png": "[encoded data removed]",
      "text/plain": [
       "<Figure size 500x500 with 1 Axes>"
      ]
     },
     "metadata": {},
     "output_type": "display_data"
    }
   ],
   "source": [
    "from experiments_utils import plot_roc_curve\n",
    "\n",
    "plot_roc_curve(pipeline, X_train_1comma25, y_train_1comma25, X_test, y_test)\n"
   ]
  },
  {
   "cell_type": "markdown",
   "metadata": {},
   "source": [
    "Notes:"
   ]
  },
  {
   "cell_type": "code",
   "execution_count": 56,
   "metadata": {},
   "outputs": [
    {
     "name": "stdout",
     "output_type": "stream",
     "text": [
      "Balanced Test Accuracy: 0.965\n",
      "F0.5-Score: 0.875\n"
     ]
    }
   ],
   "source": [
    "balanced_accuracy = balanced_accuracy_score(y_test, y_test_pred)\n",
    "print(f\"Balanced Test Accuracy: {balanced_accuracy:.3f}\")\n",
    "\n",
    "f0_5_score = fbeta_score(y_test, y_test_pred, beta=0.5)\n",
    "print(f\"F0.5-Score: {f0_5_score:.3f}\")\n",
    "    "
   ]
  },
  {
   "cell_type": "markdown",
   "metadata": {},
   "source": [
    "Notes:"
   ]
  },
  {
   "cell_type": "code",
   "execution_count": 65,
   "metadata": {},
   "outputs": [
    {
     "data": {
      "image/png": "[encoded data removed]",
      "text/plain": [
       "<Figure size 500x500 with 2 Axes>"
      ]
     },
     "metadata": {},
     "output_type": "display_data"
    }
   ],
   "source": [
    "from experiments_utils import plot_confusion_matrix\n",
    "\n",
    "matrix_fig = plot_confusion_matrix(y_test, y_test_pred)\n"
   ]
  },
  {
   "cell_type": "markdown",
   "metadata": {},
   "source": [
    "Notes"
   ]
  },
  {
   "cell_type": "code",
   "execution_count": 64,
   "metadata": {},
   "outputs": [
    {
     "data": {
      "image/png": "[encoded data removed]",
      "text/plain": [
       "<Figure size 500x500 with 1 Axes>"
      ]
     },
     "metadata": {},
     "output_type": "display_data"
    }
   ],
   "source": [
    "from experiments_utils import plot_precision_recall_curve\n",
    "\n",
    "pr_fig = plot_precision_recall_curve(pipeline, X_test, y_test)"
   ]
  },
  {
   "cell_type": "markdown",
   "metadata": {},
   "source": [
    "Notes:"
   ]
  },
  {
   "cell_type": "markdown",
   "metadata": {},
   "source": [
    "## MLFlow config"
   ]
  },
  {
   "cell_type": "code",
   "execution_count": 60,
   "metadata": {},
   "outputs": [],
   "source": [
    "# # for testing \n",
    "# from dotenv import load_dotenv\n",
    "# import os\n",
    "# import mlflow\n",
    "\n",
    "# load_dotenv()\n",
    "# mlflow_tracking_uri = os.getenv(\"MLFLOW_TRACKING_URI\")\n",
    "# aws_access_key_id = os.getenv(\"AWS_ACCESS_KEY_ID\")\n",
    "# aws_secret_access_key = os.getenv(\"AWS_SECRET_ACCESS_KEY\")\n",
    "# aws_default_region = os.getenv(\"AWS_DEFAULT_REGION\")\n",
    "\n",
    "# mlflow.set_tracking_uri(os.getenv(\"MLFLOW_TRACKING_URI\"))\n",
    "\n",
    "\n",
    "\n",
    "# sys.path.append(\"../utils\")\n",
    "# sys.stdout.flush()\n",
    "\n",
    "# from experiments_utils import experiment_status\n",
    "\n",
    "# experiment_name, _, _ = experiment_status()\n",
    "# mlflow.set_experiment(experiment_name)\n",
    "\n",
    "\n",
    "# import boto3\n",
    "# boto3.client('s3', aws_access_key_id=aws_access_key_id, aws_secret_access_key=aws_secret_access_key, region_name=aws_default_region)"
   ]
  },
  {
   "cell_type": "code",
   "execution_count": 61,
   "metadata": {},
   "outputs": [
    {
     "name": "stdout",
     "output_type": "stream",
     "text": [
      "2024-12-30 14:41:36,915 - INFO - Loading configuration from: /home/maldu/dscience/projects/spam_detector/research/utils/experiments_config.yaml\n",
      "2024-12-30 14:41:36,917 - INFO - Configuration successfully loaded.\n"
     ]
    },
    {
     "ename": "Exception",
     "evalue": "'/home/maldu/dscience/projects/spam_detector/research/03_text_augmentation/mlruns' does not exist.",
     "output_type": "error",
     "traceback": [
      "\u001b[0;31m---------------------------------------------------------------------------\u001b[0m",
      "\u001b[0;31mException\u001b[0m                                 Traceback (most recent call last)",
      "Cell \u001b[0;32mIn[61], line 13\u001b[0m\n\u001b[1;32m      8\u001b[0m mlflow\u001b[38;5;241m.\u001b[39mset_tracking_uri(mlflow_tracking_uri)\n\u001b[1;32m     12\u001b[0m experiment_name, _, _ \u001b[38;5;241m=\u001b[39m experiment_status()\n\u001b[0;32m---> 13\u001b[0m \u001b[43mmlflow\u001b[49m\u001b[38;5;241;43m.\u001b[39;49m\u001b[43mset_experiment\u001b[49m\u001b[43m(\u001b[49m\u001b[43mexperiment_name\u001b[49m\u001b[43m)\u001b[49m\n",
      "File \u001b[0;32m~/.cache/pypoetry/virtualenvs/spam-detector-P2ybB3t6-py3.10/lib/python3.10/site-packages/mlflow/tracking/fluent.py:157\u001b[0m, in \u001b[0;36mset_experiment\u001b[0;34m(experiment_name, experiment_id)\u001b[0m\n\u001b[1;32m    155\u001b[0m \u001b[38;5;28;01mwith\u001b[39;00m _experiment_lock:\n\u001b[1;32m    156\u001b[0m     \u001b[38;5;28;01mif\u001b[39;00m experiment_id \u001b[38;5;129;01mis\u001b[39;00m \u001b[38;5;28;01mNone\u001b[39;00m:\n\u001b[0;32m--> 157\u001b[0m         experiment \u001b[38;5;241m=\u001b[39m \u001b[43mclient\u001b[49m\u001b[38;5;241;43m.\u001b[39;49m\u001b[43mget_experiment_by_name\u001b[49m\u001b[43m(\u001b[49m\u001b[43mexperiment_name\u001b[49m\u001b[43m)\u001b[49m\n\u001b[1;32m    158\u001b[0m         \u001b[38;5;28;01mif\u001b[39;00m \u001b[38;5;129;01mnot\u001b[39;00m experiment:\n\u001b[1;32m    159\u001b[0m             \u001b[38;5;28;01mtry\u001b[39;00m:\n",
      "File \u001b[0;32m~/.cache/pypoetry/virtualenvs/spam-detector-P2ybB3t6-py3.10/lib/python3.10/site-packages/mlflow/tracking/client.py:1256\u001b[0m, in \u001b[0;36mMlflowClient.get_experiment_by_name\u001b[0;34m(self, name)\u001b[0m\n\u001b[1;32m   1224\u001b[0m \u001b[38;5;28;01mdef\u001b[39;00m \u001b[38;5;21mget_experiment_by_name\u001b[39m(\u001b[38;5;28mself\u001b[39m, name: \u001b[38;5;28mstr\u001b[39m) \u001b[38;5;241m-\u001b[39m\u001b[38;5;241m>\u001b[39m Optional[Experiment]:\n\u001b[1;32m   1225\u001b[0m \u001b[38;5;250m    \u001b[39m\u001b[38;5;124;03m\"\"\"Retrieve an experiment by experiment name from the backend store\u001b[39;00m\n\u001b[1;32m   1226\u001b[0m \n\u001b[1;32m   1227\u001b[0m \u001b[38;5;124;03m    Args:\u001b[39;00m\n\u001b[0;32m   (...)\u001b[0m\n\u001b[1;32m   1254\u001b[0m \u001b[38;5;124;03m        Lifecycle_stage: active\u001b[39;00m\n\u001b[1;32m   1255\u001b[0m \u001b[38;5;124;03m    \"\"\"\u001b[39;00m\n\u001b[0;32m-> 1256\u001b[0m     \u001b[38;5;28;01mreturn\u001b[39;00m \u001b[38;5;28;43mself\u001b[39;49m\u001b[38;5;241;43m.\u001b[39;49m\u001b[43m_tracking_client\u001b[49m\u001b[38;5;241;43m.\u001b[39;49m\u001b[43mget_experiment_by_name\u001b[49m\u001b[43m(\u001b[49m\u001b[43mname\u001b[49m\u001b[43m)\u001b[49m\n",
      "File \u001b[0;32m~/.cache/pypoetry/virtualenvs/spam-detector-P2ybB3t6-py3.10/lib/python3.10/site-packages/mlflow/tracking/_tracking_service/client.py:502\u001b[0m, in \u001b[0;36mTrackingServiceClient.get_experiment_by_name\u001b[0;34m(self, name)\u001b[0m\n\u001b[1;32m    494\u001b[0m \u001b[38;5;28;01mdef\u001b[39;00m \u001b[38;5;21mget_experiment_by_name\u001b[39m(\u001b[38;5;28mself\u001b[39m, name):\n\u001b[1;32m    495\u001b[0m \u001b[38;5;250m    \u001b[39m\u001b[38;5;124;03m\"\"\"\u001b[39;00m\n\u001b[1;32m    496\u001b[0m \u001b[38;5;124;03m    Args:\u001b[39;00m\n\u001b[1;32m    497\u001b[0m \u001b[38;5;124;03m        name: The experiment name.\u001b[39;00m\n\u001b[0;32m   (...)\u001b[0m\n\u001b[1;32m    500\u001b[0m \u001b[38;5;124;03m        :py:class:`mlflow.entities.Experiment`\u001b[39;00m\n\u001b[1;32m    501\u001b[0m \u001b[38;5;124;03m    \"\"\"\u001b[39;00m\n\u001b[0;32m--> 502\u001b[0m     \u001b[38;5;28;01mreturn\u001b[39;00m \u001b[38;5;28;43mself\u001b[39;49m\u001b[38;5;241;43m.\u001b[39;49m\u001b[43mstore\u001b[49m\u001b[38;5;241;43m.\u001b[39;49m\u001b[43mget_experiment_by_name\u001b[49m\u001b[43m(\u001b[49m\u001b[43mname\u001b[49m\u001b[43m)\u001b[49m\n",
      "File \u001b[0;32m~/.cache/pypoetry/virtualenvs/spam-detector-P2ybB3t6-py3.10/lib/python3.10/site-packages/mlflow/store/tracking/file_store.py:354\u001b[0m, in \u001b[0;36mFileStore.get_experiment_by_name\u001b[0;34m(self, experiment_name)\u001b[0m\n\u001b[1;32m    346\u001b[0m \u001b[38;5;28;01mdef\u001b[39;00m \u001b[38;5;21mpagination_wrapper_func\u001b[39m(number_to_get, next_page_token):\n\u001b[1;32m    347\u001b[0m     \u001b[38;5;28;01mreturn\u001b[39;00m \u001b[38;5;28mself\u001b[39m\u001b[38;5;241m.\u001b[39msearch_experiments(\n\u001b[1;32m    348\u001b[0m         view_type\u001b[38;5;241m=\u001b[39mViewType\u001b[38;5;241m.\u001b[39mALL,\n\u001b[1;32m    349\u001b[0m         max_results\u001b[38;5;241m=\u001b[39mnumber_to_get,\n\u001b[1;32m    350\u001b[0m         filter_string\u001b[38;5;241m=\u001b[39m\u001b[38;5;124mf\u001b[39m\u001b[38;5;124m\"\u001b[39m\u001b[38;5;124mname = \u001b[39m\u001b[38;5;124m'\u001b[39m\u001b[38;5;132;01m{\u001b[39;00mexperiment_name\u001b[38;5;132;01m}\u001b[39;00m\u001b[38;5;124m'\u001b[39m\u001b[38;5;124m\"\u001b[39m,\n\u001b[1;32m    351\u001b[0m         page_token\u001b[38;5;241m=\u001b[39mnext_page_token,\n\u001b[1;32m    352\u001b[0m     )\n\u001b[0;32m--> 354\u001b[0m experiments \u001b[38;5;241m=\u001b[39m \u001b[43mget_results_from_paginated_fn\u001b[49m\u001b[43m(\u001b[49m\n\u001b[1;32m    355\u001b[0m \u001b[43m    \u001b[49m\u001b[43mpaginated_fn\u001b[49m\u001b[38;5;241;43m=\u001b[39;49m\u001b[43mpagination_wrapper_func\u001b[49m\u001b[43m,\u001b[49m\n\u001b[1;32m    356\u001b[0m \u001b[43m    \u001b[49m\u001b[43mmax_results_per_page\u001b[49m\u001b[38;5;241;43m=\u001b[39;49m\u001b[43mSEARCH_MAX_RESULTS_THRESHOLD\u001b[49m\u001b[43m,\u001b[49m\n\u001b[1;32m    357\u001b[0m \u001b[43m    \u001b[49m\u001b[43mmax_results\u001b[49m\u001b[38;5;241;43m=\u001b[39;49m\u001b[38;5;28;43;01mNone\u001b[39;49;00m\u001b[43m,\u001b[49m\n\u001b[1;32m    358\u001b[0m \u001b[43m\u001b[49m\u001b[43m)\u001b[49m\n\u001b[1;32m    359\u001b[0m \u001b[38;5;28;01mreturn\u001b[39;00m experiments[\u001b[38;5;241m0\u001b[39m] \u001b[38;5;28;01mif\u001b[39;00m \u001b[38;5;28mlen\u001b[39m(experiments) \u001b[38;5;241m>\u001b[39m \u001b[38;5;241m0\u001b[39m \u001b[38;5;28;01melse\u001b[39;00m \u001b[38;5;28;01mNone\u001b[39;00m\n",
      "File \u001b[0;32m~/.cache/pypoetry/virtualenvs/spam-detector-P2ybB3t6-py3.10/lib/python3.10/site-packages/mlflow/utils/__init__.py:238\u001b[0m, in \u001b[0;36mget_results_from_paginated_fn\u001b[0;34m(paginated_fn, max_results_per_page, max_results)\u001b[0m\n\u001b[1;32m    236\u001b[0m     page_results \u001b[38;5;241m=\u001b[39m paginated_fn(num_to_get, next_page_token)\n\u001b[1;32m    237\u001b[0m \u001b[38;5;28;01melse\u001b[39;00m:\n\u001b[0;32m--> 238\u001b[0m     page_results \u001b[38;5;241m=\u001b[39m \u001b[43mpaginated_fn\u001b[49m\u001b[43m(\u001b[49m\u001b[43mmax_results_per_page\u001b[49m\u001b[43m,\u001b[49m\u001b[43m \u001b[49m\u001b[43mnext_page_token\u001b[49m\u001b[43m)\u001b[49m\n\u001b[1;32m    239\u001b[0m all_results\u001b[38;5;241m.\u001b[39mextend(page_results)\n\u001b[1;32m    240\u001b[0m \u001b[38;5;28;01mif\u001b[39;00m \u001b[38;5;28mhasattr\u001b[39m(page_results, \u001b[38;5;124m\"\u001b[39m\u001b[38;5;124mtoken\u001b[39m\u001b[38;5;124m\"\u001b[39m) \u001b[38;5;129;01mand\u001b[39;00m page_results\u001b[38;5;241m.\u001b[39mtoken:\n",
      "File \u001b[0;32m~/.cache/pypoetry/virtualenvs/spam-detector-P2ybB3t6-py3.10/lib/python3.10/site-packages/mlflow/store/tracking/file_store.py:347\u001b[0m, in \u001b[0;36mFileStore.get_experiment_by_name.<locals>.pagination_wrapper_func\u001b[0;34m(number_to_get, next_page_token)\u001b[0m\n\u001b[1;32m    346\u001b[0m \u001b[38;5;28;01mdef\u001b[39;00m \u001b[38;5;21mpagination_wrapper_func\u001b[39m(number_to_get, next_page_token):\n\u001b[0;32m--> 347\u001b[0m     \u001b[38;5;28;01mreturn\u001b[39;00m \u001b[38;5;28;43mself\u001b[39;49m\u001b[38;5;241;43m.\u001b[39;49m\u001b[43msearch_experiments\u001b[49m\u001b[43m(\u001b[49m\n\u001b[1;32m    348\u001b[0m \u001b[43m        \u001b[49m\u001b[43mview_type\u001b[49m\u001b[38;5;241;43m=\u001b[39;49m\u001b[43mViewType\u001b[49m\u001b[38;5;241;43m.\u001b[39;49m\u001b[43mALL\u001b[49m\u001b[43m,\u001b[49m\n\u001b[1;32m    349\u001b[0m \u001b[43m        \u001b[49m\u001b[43mmax_results\u001b[49m\u001b[38;5;241;43m=\u001b[39;49m\u001b[43mnumber_to_get\u001b[49m\u001b[43m,\u001b[49m\n\u001b[1;32m    350\u001b[0m \u001b[43m        \u001b[49m\u001b[43mfilter_string\u001b[49m\u001b[38;5;241;43m=\u001b[39;49m\u001b[38;5;124;43mf\u001b[39;49m\u001b[38;5;124;43m\"\u001b[39;49m\u001b[38;5;124;43mname = \u001b[39;49m\u001b[38;5;124;43m'\u001b[39;49m\u001b[38;5;132;43;01m{\u001b[39;49;00m\u001b[43mexperiment_name\u001b[49m\u001b[38;5;132;43;01m}\u001b[39;49;00m\u001b[38;5;124;43m'\u001b[39;49m\u001b[38;5;124;43m\"\u001b[39;49m\u001b[43m,\u001b[49m\n\u001b[1;32m    351\u001b[0m \u001b[43m        \u001b[49m\u001b[43mpage_token\u001b[49m\u001b[38;5;241;43m=\u001b[39;49m\u001b[43mnext_page_token\u001b[49m\u001b[43m,\u001b[49m\n\u001b[1;32m    352\u001b[0m \u001b[43m    \u001b[49m\u001b[43m)\u001b[49m\n",
      "File \u001b[0;32m~/.cache/pypoetry/virtualenvs/spam-detector-P2ybB3t6-py3.10/lib/python3.10/site-packages/mlflow/store/tracking/file_store.py:317\u001b[0m, in \u001b[0;36mFileStore.search_experiments\u001b[0;34m(self, view_type, max_results, filter_string, order_by, page_token)\u001b[0m\n\u001b[1;32m    310\u001b[0m \u001b[38;5;28;01mif\u001b[39;00m max_results \u001b[38;5;241m>\u001b[39m SEARCH_MAX_RESULTS_THRESHOLD:\n\u001b[1;32m    311\u001b[0m     \u001b[38;5;28;01mraise\u001b[39;00m MlflowException(\n\u001b[1;32m    312\u001b[0m         \u001b[38;5;124mf\u001b[39m\u001b[38;5;124m\"\u001b[39m\u001b[38;5;124mInvalid value \u001b[39m\u001b[38;5;132;01m{\u001b[39;00mmax_results\u001b[38;5;132;01m}\u001b[39;00m\u001b[38;5;124m for parameter \u001b[39m\u001b[38;5;124m'\u001b[39m\u001b[38;5;124mmax_results\u001b[39m\u001b[38;5;124m'\u001b[39m\u001b[38;5;124m supplied. It must be at \u001b[39m\u001b[38;5;124m\"\u001b[39m\n\u001b[1;32m    313\u001b[0m         \u001b[38;5;124mf\u001b[39m\u001b[38;5;124m\"\u001b[39m\u001b[38;5;124mmost \u001b[39m\u001b[38;5;132;01m{\u001b[39;00mSEARCH_MAX_RESULTS_THRESHOLD\u001b[38;5;132;01m}\u001b[39;00m\u001b[38;5;124m\"\u001b[39m,\n\u001b[1;32m    314\u001b[0m         INVALID_PARAMETER_VALUE,\n\u001b[1;32m    315\u001b[0m     )\n\u001b[0;32m--> 317\u001b[0m \u001b[38;5;28;43mself\u001b[39;49m\u001b[38;5;241;43m.\u001b[39;49m\u001b[43m_check_root_dir\u001b[49m\u001b[43m(\u001b[49m\u001b[43m)\u001b[49m\n\u001b[1;32m    318\u001b[0m experiment_ids \u001b[38;5;241m=\u001b[39m []\n\u001b[1;32m    319\u001b[0m \u001b[38;5;28;01mif\u001b[39;00m view_type \u001b[38;5;241m==\u001b[39m ViewType\u001b[38;5;241m.\u001b[39mACTIVE_ONLY \u001b[38;5;129;01mor\u001b[39;00m view_type \u001b[38;5;241m==\u001b[39m ViewType\u001b[38;5;241m.\u001b[39mALL:\n",
      "File \u001b[0;32m~/.cache/pypoetry/virtualenvs/spam-detector-P2ybB3t6-py3.10/lib/python3.10/site-packages/mlflow/store/tracking/file_store.py:211\u001b[0m, in \u001b[0;36mFileStore._check_root_dir\u001b[0;34m(self)\u001b[0m\n\u001b[1;32m    207\u001b[0m \u001b[38;5;250m\u001b[39m\u001b[38;5;124;03m\"\"\"\u001b[39;00m\n\u001b[1;32m    208\u001b[0m \u001b[38;5;124;03mRun checks before running directory operations.\u001b[39;00m\n\u001b[1;32m    209\u001b[0m \u001b[38;5;124;03m\"\"\"\u001b[39;00m\n\u001b[1;32m    210\u001b[0m \u001b[38;5;28;01mif\u001b[39;00m \u001b[38;5;129;01mnot\u001b[39;00m exists(\u001b[38;5;28mself\u001b[39m\u001b[38;5;241m.\u001b[39mroot_directory):\n\u001b[0;32m--> 211\u001b[0m     \u001b[38;5;28;01mraise\u001b[39;00m \u001b[38;5;167;01mException\u001b[39;00m(\u001b[38;5;124mf\u001b[39m\u001b[38;5;124m\"\u001b[39m\u001b[38;5;124m'\u001b[39m\u001b[38;5;132;01m{\u001b[39;00m\u001b[38;5;28mself\u001b[39m\u001b[38;5;241m.\u001b[39mroot_directory\u001b[38;5;132;01m}\u001b[39;00m\u001b[38;5;124m'\u001b[39m\u001b[38;5;124m does not exist.\u001b[39m\u001b[38;5;124m\"\u001b[39m)\n\u001b[1;32m    212\u001b[0m \u001b[38;5;28;01mif\u001b[39;00m \u001b[38;5;129;01mnot\u001b[39;00m is_directory(\u001b[38;5;28mself\u001b[39m\u001b[38;5;241m.\u001b[39mroot_directory):\n\u001b[1;32m    213\u001b[0m     \u001b[38;5;28;01mraise\u001b[39;00m \u001b[38;5;167;01mException\u001b[39;00m(\u001b[38;5;124mf\u001b[39m\u001b[38;5;124m\"\u001b[39m\u001b[38;5;124m'\u001b[39m\u001b[38;5;132;01m{\u001b[39;00m\u001b[38;5;28mself\u001b[39m\u001b[38;5;241m.\u001b[39mroot_directory\u001b[38;5;132;01m}\u001b[39;00m\u001b[38;5;124m'\u001b[39m\u001b[38;5;124m is not a directory.\u001b[39m\u001b[38;5;124m\"\u001b[39m)\n",
      "\u001b[0;31mException\u001b[0m: '/home/maldu/dscience/projects/spam_detector/research/03_text_augmentation/mlruns' does not exist."
     ]
    }
   ],
   "source": [
    "sys.path.append(\"../utils\")\n",
    "sys.stdout.flush()\n",
    "import os\n",
    "import mlflow\n",
    "from experiments_utils import experiment_status\n",
    "\n",
    "mlflow_tracking_uri = os.getenv(\"MLFLOW_TRACKING_URI\")\n",
    "mlflow.set_tracking_uri(mlflow_tracking_uri)\n",
    "\n",
    "\n",
    "\n",
    "experiment_name, _, _ = experiment_status()\n",
    "mlflow.set_experiment(experiment_name)"
   ]
  },
  {
   "cell_type": "code",
   "execution_count": 40,
   "metadata": {},
   "outputs": [],
   "source": [
    "signature = infer_signature(X_train, y_train)"
   ]
  },
  {
   "cell_type": "markdown",
   "metadata": {},
   "source": [
    "## MLFlow tracking"
   ]
  },
  {
   "cell_type": "code",
   "execution_count": null,
   "metadata": {},
   "outputs": [],
   "source": [
    "logging.info('Initializing experiment...')\n",
    "\n",
    "try: \n",
    "    \n",
    "    with mlflow.start_run(run_name=\"baseline-model\", log_system_metrics=True) as run:\n",
    "        logging.info('Setting tags on MLFlow...')\n",
    "        # Tags\n",
    "        mlflow.set_tag(\"dataset\", \"Spam detection\")\n",
    "        mlflow.set_tag(\"task\", \"classification\")\n",
    "        mlflow.set_tag(\"vectorizer\", \"CountVectorizer\")\n",
    "        mlflow.set_tag(\"model_type\", \"Multinomial Naive Bayes\")\n",
    "        mlflow.set_tag(\"framework\", \"Scikit-learn\")\n",
    "        mlflow.set_tag(\"language\", \"Python\")\n",
    "        mlflow.set_tag(\"environment\", \"Local\")\n",
    "        mlflow.set_tag(\"dataset_version\", \"1.0.0\")\n",
    "        mlflow.set_tag(\"preprocessing_version\", \"1.0.0\")\n",
    "        mlflow.set_tag(\"model_version\", \"0.0.1\")\n",
    "        mlflow.set_tag(\"developer\", \"Mldu\")\n",
    "        mlflow.set_tag(\"project_stage\", \"testing\")\n",
    "\n",
    "        logging.info('Logging inputs on MLFlow...')\n",
    "        #Datasets\n",
    "        mlflow.set_tag(\"augmentation\", \"1.25\")\n",
    "        mlflow.log_artifact(\"X_train_1comma25.csv\")\n",
    "        mlflow.log_artifact(\"y_train_1comma25.csv\")\n",
    "        mlflow.log_artifact(\"X_test.csv\")\n",
    "        mlflow.log_artifact(\"y_test.csv\")\n",
    "\n",
    "\n",
    "        logging.info('Logging params on MLFlow...')\n",
    "        #BOW and model\n",
    "        mlflow.log_param(\"vectorizer_type\", \"CountVectorizer\")\n",
    "        mlflow.log_param(\"model_type\", \"MultinomialNB\")\n",
    "        \n",
    "        logging.info('Logging metrics on MLFlow...')\n",
    "        # Metrics\n",
    "        mlflow.log_metric(\"balanced_accuracy\", balanced_accuracy)\n",
    "        mlflow.log_metric(\"f0_5_score\", f0_5_score)\n",
    "        cr = classification_report(y_test, y_test_pred, output_dict=True)\n",
    "        mlflow.log_metric(\"accuracy\", cr.pop(\"accuracy\"))\n",
    "        for class_or_avg, metrics_dict in cr.items():\n",
    "            for metric, value in metrics_dict.items():\n",
    "                mlflow.log_metric(class_or_avg + '_' + metric,value)\n",
    "                \n",
    "        logging.info('Logging figures on MLFlow...')\n",
    "        # Figures\n",
    "        mlflow.log_figure(matrix_fig, \"confusion-matrix.png\")\n",
    "        mlflow.log_figure(pr_fig, \"precision-recall-curve.png\")\n",
    "        \n",
    "        \n",
    "        logging.info('Logging pipeline on MLFlow...')\n",
    "        # CountVectorizer and MNB\n",
    "        mlflow.sklearn.log_model(pipeline, \"pipeline\",signature=signature)\n",
    "\n",
    "\n",
    "except Exception as e:\n",
    "    logging.error(f'Error executing MLflow commands {e}')\n",
    "\n",
    "logging.info('MlFlow run terminated')"
   ]
  },
  {
   "cell_type": "code",
   "execution_count": null,
   "metadata": {},
   "outputs": [],
   "source": []
  }
 ],
 "metadata": {
  "kernelspec": {
   "display_name": "spam-detector-P2ybB3t6-py3.10",
   "language": "python",
   "name": "python3"
  },
  "language_info": {
   "codemirror_mode": {
    "name": "ipython",
    "version": 3
   },
   "file_extension": ".py",
   "mimetype": "text/x-python",
   "name": "python",
   "nbconvert_exporter": "python",
   "pygments_lexer": "ipython3",
   "version": "3.10.12"
  }
 },
 "nbformat": 4,
 "nbformat_minor": 2
}
