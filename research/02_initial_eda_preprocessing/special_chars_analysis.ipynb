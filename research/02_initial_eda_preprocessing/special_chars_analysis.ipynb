{
 "cells": [
  {
   "cell_type": "markdown",
   "metadata": {},
   "source": [
    "The objective of this notebook is to make a first approach to and analyze the punctuation and special characters of the messages from the dataset and how to handle them in each case."
   ]
  },
  {
   "cell_type": "code",
   "execution_count": null,
   "metadata": {},
   "outputs": [],
   "source": [
    "import pandas as pd\n",
    "import re\n",
    "from string import punctuation"
   ]
  },
  {
   "cell_type": "code",
   "execution_count": null,
   "metadata": {},
   "outputs": [],
   "source": [
    "df = pd.read_csv(\"../data/bronze/spam.csv\")"
   ]
  },
  {
   "cell_type": "markdown",
   "metadata": {},
   "source": [
    "### Special chars"
   ]
  },
  {
   "cell_type": "code",
   "execution_count": null,
   "metadata": {},
   "outputs": [],
   "source": [
    "def find_special_characters(text):\n",
    "    return re.findall(r'[^a-zA-Z0-9\\s]', text) \n",
    "\n",
    "all_special_characters = df['Message'].apply(find_special_characters).explode().dropna()\n",
    "\n",
    "\n",
    "unique_special_characters = all_special_characters.unique()\n",
    "unique_special_characters"
   ]
  },
  {
   "cell_type": "markdown",
   "metadata": {},
   "source": [
    "### Emojis"
   ]
  },
  {
   "cell_type": "code",
   "execution_count": null,
   "metadata": {},
   "outputs": [],
   "source": [
    "import emoji\n",
    "\n",
    "def extract_emojis(text):\n",
    "    if isinstance(text, str):  \n",
    "        return [char for char in text if char in emoji.EMOJI_DATA]\n",
    "    return []\n",
    "\n",
    "df['Extracted_Emojis'] = df['Message'].apply(extract_emojis)\n",
    "rows_with_emojis = df[df['Extracted_Emojis'].apply(len) > 0]\n",
    "rows_with_emojis"
   ]
  },
  {
   "cell_type": "code",
   "execution_count": 27,
   "metadata": {},
   "outputs": [
    {
     "data": {
      "text/plain": [
       "{':(',\n",
       " ':)',\n",
       " ':-(',\n",
       " ':-)',\n",
       " ':-/',\n",
       " ':-D',\n",
       " ':-P',\n",
       " ':/',\n",
       " ':D',\n",
       " ';)',\n",
       " ';-(',\n",
       " ';-)',\n",
       " ';D',\n",
       " '=)',\n",
       " '=/',\n",
       " '=D',\n",
       " 'XD',\n",
       " 'XP',\n",
       " 'x/',\n",
       " 'xd',\n",
       " 'xp'}"
      ]
     },
     "execution_count": 27,
     "metadata": {},
     "output_type": "execute_result"
    }
   ],
   "source": [
    "emoticon_pattern = re.compile(r\"\"\"\n",
    "    [:;=Xx]           \n",
    "    [-~]?             \n",
    "    [\\)\\]\\(\\[dDpP/]   \n",
    "\"\"\", re.VERBOSE)\n",
    "\n",
    "def extract_emoticons(text):\n",
    "    if isinstance(text, str):  \n",
    "        return emoticon_pattern.findall(text)\n",
    "    return []\n",
    "\n",
    "unique_emoticons = set([emoticon for sublist in df['Message'].apply(extract_emoticons) for emoticon in sublist])\n",
    "\n",
    "unique_emoticons "
   ]
  },
  {
   "cell_type": "markdown",
   "metadata": {},
   "source": [
    "### Rows with char"
   ]
  },
  {
   "cell_type": "code",
   "execution_count": null,
   "metadata": {},
   "outputs": [],
   "source": [
    "def row_with_char(char):\n",
    "    matching_rows = df[df['Message'].str.contains(re.escape(char))]\n",
    "    print(f\"Rows containing '{char}':\")\n",
    "    for index, row in matching_rows.iterrows():\n",
    "        print(f\"Row {index}: {row['Message']}\")\n"
   ]
  },
  {
   "cell_type": "code",
   "execution_count": null,
   "metadata": {},
   "outputs": [],
   "source": [
    "pd.set_option('display.max_colwidth', None)\n",
    "row_with_char(\"*\")"
   ]
  },
  {
   "cell_type": "markdown",
   "metadata": {},
   "source": []
  },
  {
   "cell_type": "code",
   "execution_count": null,
   "metadata": {},
   "outputs": [],
   "source": [
    "row_with_char(\">\")"
   ]
  },
  {
   "cell_type": "code",
   "execution_count": null,
   "metadata": {},
   "outputs": [],
   "source": [
    "row_with_char(\"/\")"
   ]
  },
  {
   "cell_type": "code",
   "execution_count": null,
   "metadata": {},
   "outputs": [],
   "source": [
    "row_with_char(\"@\")"
   ]
  },
  {
   "cell_type": "markdown",
   "metadata": {},
   "source": [
    "### First approach"
   ]
  },
  {
   "cell_type": "markdown",
   "metadata": {},
   "source": [
    "First approach:\n",
    "\n",
    "- ',', '.', '(', ')', '&': replace with space \n",
    "- \"'\": replace with empty string\n",
    "- '!','?': replace with space\n",
    "- '£': replace with \"pound\" and add other common currency names\n",
    "- '*': replace with space\n",
    "- '>': replace with space\n",
    "- '/', '+': replace with space\n",
    "- ':', '=': replace with space\n",
    "- '-': replace with space\n",
    "- 'ú': still don't know\n",
    "- '‘', 'ü':, ';': replace with space\n",
    "- '#', \n",
    "- '\"': replace with space\n",
    "- '@': they can belong to emails, ats...\n",
    "- '$': replace with dollar, \n",
    "- 'Ü':\n",
    "- '\\x91', '\\x92', '\\x93', '\\x94', '\\x96': replace with empty string\n",
    "- '~', '|', '_', '–', '<', '…', '\\\\', 'è', '^', , '“': replace with spaces\n",
    "- '%': replace with \"percetage\"\n",
    "- '[', ']', '’', , '»', '—', 'é', 'É', 'ì','鈥', '┾', '〨', '¡': replace with space\n",
    "\n",
    "keywords: cash, xxx\n",
    "websites\n"
   ]
  },
  {
   "cell_type": "markdown",
   "metadata": {},
   "source": [
    "###  Clean text function"
   ]
  },
  {
   "cell_type": "code",
   "execution_count": null,
   "metadata": {},
   "outputs": [],
   "source": [
    "\n",
    "def clean_text(text):\n",
    "    special_replacements = {\n",
    "        r\"£\": \"pound\",\n",
    "        r\"\\$\": \"dollar\",\n",
    "        r\"\\€\": \"euro\",\n",
    "        r\"%\": \"percentage\"}\n",
    "    \n",
    "    emoticon_pattern = re.compile(r\"\"\"\n",
    "    [:;=Xx]           \n",
    "    [-~]?             \n",
    "    [\\)\\]\\(\\[dDpP/]   \n",
    "    \"\"\", re.VERBOSE)\n",
    "    \n",
    "    for pattern, replacement in special_replacements.items():\n",
    "        text = re.sub(pattern, replacement, text)\n",
    "    text = re.sub(emoticon_pattern, 'emoji', text)\n",
    "    text = text.lower()\n",
    "    text = re.sub('<[^<>]+>', ' ', text)\n",
    "    text = re.sub(r'http\\S+|www.\\S+', '', text)\n",
    "    text = re.sub('[0-9]+', 'number', text)\n",
    "    text = re.sub('[^\\s]+@[^\\s]+', 'emailaddr', text)\n",
    "    text = text.translate(str.maketrans('', '', punctuation))\n",
    "    \n",
    "    # text = re.sub(r'(http\\S+|@\\S+|\\d+)', '', text)\n",
    "    # text = re.sub(r'[^a-zA-Z\\s]', '', text)\n",
    "    \n",
    "    # text = re.sub(r'\\s+', ' ', text).strip()\n",
    "    # text = re.sub(r'[\\x00-\\x1F\\x7F-\\x9F]', '', text)\n",
    "    # que elimine dos espacios o tres por uno\n",
    "    return text"
   ]
  },
  {
   "cell_type": "code",
   "execution_count": null,
   "metadata": {},
   "outputs": [],
   "source": [
    "df_cleaned = df.copy() \n",
    "\n",
    "df_cleaned['Message']=df_cleaned['Message'].apply(clean_text)"
   ]
  },
  {
   "cell_type": "code",
   "execution_count": null,
   "metadata": {},
   "outputs": [],
   "source": [
    "all_special_characters = df_cleaned['Message'].apply(find_special_characters).explode().dropna()\n",
    "\n",
    "unique_special_characters = all_special_characters.unique()\n",
    "unique_special_characters"
   ]
  },
  {
   "cell_type": "code",
   "execution_count": 28,
   "metadata": {},
   "outputs": [
    {
     "data": {
      "text/html": [
       "<div>\n",
       "<style scoped>\n",
       "    .dataframe tbody tr th:only-of-type {\n",
       "        vertical-align: middle;\n",
       "    }\n",
       "\n",
       "    .dataframe tbody tr th {\n",
       "        vertical-align: top;\n",
       "    }\n",
       "\n",
       "    .dataframe thead th {\n",
       "        text-align: right;\n",
       "    }\n",
       "</style>\n",
       "<table border=\"1\" class=\"dataframe\">\n",
       "  <thead>\n",
       "    <tr style=\"text-align: right;\">\n",
       "      <th></th>\n",
       "      <th>Category</th>\n",
       "      <th>Message</th>\n",
       "      <th>Extracted_Emojis</th>\n",
       "      <th>Extracted_Emoticons</th>\n",
       "      <th>Extracted_Emoticons_Text</th>\n",
       "    </tr>\n",
       "  </thead>\n",
       "  <tbody>\n",
       "    <tr>\n",
       "      <th>960</th>\n",
       "      <td>ham</td>\n",
       "      <td>where</td>\n",
       "      <td>[]</td>\n",
       "      <td>[]</td>\n",
       "      <td></td>\n",
       "    </tr>\n",
       "    <tr>\n",
       "      <th>2807</th>\n",
       "      <td>ham</td>\n",
       "      <td>can a not</td>\n",
       "      <td>[]</td>\n",
       "      <td>[]</td>\n",
       "      <td></td>\n",
       "    </tr>\n",
       "    <tr>\n",
       "      <th>3376</th>\n",
       "      <td>ham</td>\n",
       "      <td>emoji</td>\n",
       "      <td>[]</td>\n",
       "      <td>[:)]</td>\n",
       "      <td>:)</td>\n",
       "    </tr>\n",
       "    <tr>\n",
       "      <th>4575</th>\n",
       "      <td>ham</td>\n",
       "      <td>emoji but your not here</td>\n",
       "      <td>[]</td>\n",
       "      <td>[:(]</td>\n",
       "      <td>:(</td>\n",
       "    </tr>\n",
       "    <tr>\n",
       "      <th>4824</th>\n",
       "      <td>ham</td>\n",
       "      <td>emoji emoji</td>\n",
       "      <td>[]</td>\n",
       "      <td>[:-), :-)]</td>\n",
       "      <td>:-), :-)</td>\n",
       "    </tr>\n",
       "  </tbody>\n",
       "</table>\n",
       "</div>"
      ],
      "text/plain": [
       "     Category                  Message Extracted_Emojis Extracted_Emoticons  \\\n",
       "960       ham                   where                []                  []   \n",
       "2807      ham                can a not               []                  []   \n",
       "3376      ham                    emoji               []                [:)]   \n",
       "4575      ham  emoji but your not here               []                [:(]   \n",
       "4824      ham              emoji emoji               []          [:-), :-)]   \n",
       "\n",
       "     Extracted_Emoticons_Text  \n",
       "960                            \n",
       "2807                           \n",
       "3376                       :)  \n",
       "4575                       :(  \n",
       "4824                 :-), :-)  "
      ]
     },
     "execution_count": 28,
     "metadata": {},
     "output_type": "execute_result"
    }
   ],
   "source": [
    "indices = [960, 2807, 3376, 4575, 4824]\n",
    "rows = df_cleaned.loc[indices]\n",
    "rows"
   ]
  },
  {
   "cell_type": "code",
   "execution_count": null,
   "metadata": {},
   "outputs": [],
   "source": [
    "row_with_char(\"-\")"
   ]
  },
  {
   "cell_type": "code",
   "execution_count": null,
   "metadata": {},
   "outputs": [],
   "source": [
    "row_with_char(\"ü\")"
   ]
  },
  {
   "cell_type": "code",
   "execution_count": null,
   "metadata": {},
   "outputs": [],
   "source": [
    "row_with_char(\"è\")"
   ]
  },
  {
   "cell_type": "code",
   "execution_count": null,
   "metadata": {},
   "outputs": [],
   "source": [
    "row_with_char(\"ú\")"
   ]
  },
  {
   "cell_type": "code",
   "execution_count": null,
   "metadata": {},
   "outputs": [],
   "source": [
    "row_with_char(\"é\")"
   ]
  },
  {
   "cell_type": "code",
   "execution_count": null,
   "metadata": {},
   "outputs": [],
   "source": [
    "row_with_char(\"“\")"
   ]
  },
  {
   "cell_type": "code",
   "execution_count": null,
   "metadata": {},
   "outputs": [],
   "source": [
    "row_with_char(\"»\")"
   ]
  },
  {
   "cell_type": "code",
   "execution_count": null,
   "metadata": {},
   "outputs": [],
   "source": [
    "row_with_char('ì')"
   ]
  },
  {
   "cell_type": "markdown",
   "metadata": {},
   "source": [
    "- \"ü\": replace with you\n",
    "- \"è\": replace with empty string\n",
    "- \"ú\": replace with empty string\n",
    "- \"é\": replace with empty string\n",
    "- \"“\": replace with empty string\n",
    "- \"»\": replace with empty string\n",
    "- 'ì': replace with i\n",
    "- \"\\x91\", \"\\x92\", \"\\x93\", \"\\x96\": replace with empty string\n",
    "\n",
    "The rest replace with empty string"
   ]
  },
  {
   "cell_type": "code",
   "execution_count": null,
   "metadata": {},
   "outputs": [],
   "source": [
    "def clean_text_2(text):\n",
    "    special_replacements = {\n",
    "        r\"£\": \"pound\",\n",
    "        r\"\\$\": \"dollar\",\n",
    "        r\"\\€\": \"euro\",\n",
    "        r\"%\": \"percentage\", \n",
    "        r\"ì\": \"i\",\n",
    "        r\"ü\": \"you\",\n",
    "        }\n",
    "    \n",
    "    emoticon_pattern = re.compile(r\"\"\"\n",
    "    [:;=Xx]           \n",
    "    [-~]?             \n",
    "    [\\)\\]\\(\\[dDpP/]   \n",
    "    \"\"\", re.VERBOSE)\n",
    "    \n",
    "    for pattern, replacement in special_replacements.items():\n",
    "        text = re.sub(pattern, replacement, text)\n",
    "    text = re.sub(emoticon_pattern, 'emoji', text)\n",
    "    text = text.lower()\n",
    "    text = re.sub('<[^<>]+>', ' ', text)\n",
    "    text = re.sub(r'http\\S+|www.\\S+', '', text)\n",
    "    text = re.sub('[0-9]+', 'number', text)\n",
    "    text = re.sub('[^\\s]+@[^\\s]+', 'emailaddr', text)\n",
    "    text = text.translate(str.maketrans('', '', punctuation))\n",
    "    text = re.sub(r'[^a-zA-Z\\s]', '', text)\n",
    "    text = re.sub(r'\\s+', ' ', text).strip()\n",
    "    return text"
   ]
  },
  {
   "cell_type": "code",
   "execution_count": null,
   "metadata": {},
   "outputs": [],
   "source": [
    "df_cleaned_v2 = df.copy()\n",
    "\n",
    "df_cleaned_v2['Message']=df_cleaned_v2['Message'].apply(clean_text_2)\n",
    "df_cleaned_v2['Message']"
   ]
  },
  {
   "cell_type": "code",
   "execution_count": null,
   "metadata": {},
   "outputs": [],
   "source": [
    "all_special_characters = df_cleaned_v2['Message'].apply(find_special_characters).explode().dropna()\n",
    "\n",
    "\n",
    "unique_special_characters = all_special_characters.unique()\n",
    "unique_special_characters"
   ]
  },
  {
   "cell_type": "markdown",
   "metadata": {},
   "source": []
  }
 ],
 "metadata": {
  "kernelspec": {
   "display_name": "spam-detector-P2ybB3t6-py3.10",
   "language": "python",
   "name": "python3"
  },
  "language_info": {
   "codemirror_mode": {
    "name": "ipython",
    "version": 3
   },
   "file_extension": ".py",
   "mimetype": "text/x-python",
   "name": "python",
   "nbconvert_exporter": "python",
   "pygments_lexer": "ipython3",
   "version": "3.10.12"
  }
 },
 "nbformat": 4,
 "nbformat_minor": 2
}
