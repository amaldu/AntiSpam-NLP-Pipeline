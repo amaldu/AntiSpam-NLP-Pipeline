{
 "cells": [
  {
   "cell_type": "markdown",
   "id": "8495b5d4",
   "metadata": {},
   "source": [
    "The objective of this notebook is to do an basic exploratory analysis of the dataset and check its characteristics"
   ]
  },
  {
   "cell_type": "markdown",
   "id": "e158e213",
   "metadata": {},
   "source": [
    "## Libraries"
   ]
  },
  {
   "cell_type": "code",
   "execution_count": 1,
   "id": "c845b383",
   "metadata": {},
   "outputs": [],
   "source": [
    "%load_ext autoreload\n",
    "%autoreload 2"
   ]
  },
  {
   "cell_type": "code",
   "execution_count": 2,
   "id": "02f92a15",
   "metadata": {},
   "outputs": [],
   "source": [
    "import pandas as pd \n",
    "import matplotlib.pyplot as plt \n",
    "import seaborn as sns\n",
    "import numpy as np"
   ]
  },
  {
   "cell_type": "code",
   "execution_count": 3,
   "id": "c3d43590",
   "metadata": {},
   "outputs": [
    {
     "data": {
      "text/html": [
       "<div>\n",
       "<style scoped>\n",
       "    .dataframe tbody tr th:only-of-type {\n",
       "        vertical-align: middle;\n",
       "    }\n",
       "\n",
       "    .dataframe tbody tr th {\n",
       "        vertical-align: top;\n",
       "    }\n",
       "\n",
       "    .dataframe thead th {\n",
       "        text-align: right;\n",
       "    }\n",
       "</style>\n",
       "<table border=\"1\" class=\"dataframe\">\n",
       "  <thead>\n",
       "    <tr style=\"text-align: right;\">\n",
       "      <th></th>\n",
       "      <th>email</th>\n",
       "      <th>label</th>\n",
       "    </tr>\n",
       "  </thead>\n",
       "  <tbody>\n",
       "    <tr>\n",
       "      <th>0</th>\n",
       "      <td>we are happy to present you the canadianpharma...</td>\n",
       "      <td>spam</td>\n",
       "    </tr>\n",
       "    <tr>\n",
       "      <th>1</th>\n",
       "      <td>to view the color version of this message or ...</td>\n",
       "      <td>ham</td>\n",
       "    </tr>\n",
       "    <tr>\n",
       "      <th>2</th>\n",
       "      <td>begin pgp signed message hash shaescapenumber...</td>\n",
       "      <td>ham</td>\n",
       "    </tr>\n",
       "    <tr>\n",
       "      <th>3</th>\n",
       "      <td>start date : 12 / 30 / 01 ; hourahead hour : 3...</td>\n",
       "      <td>ham</td>\n",
       "    </tr>\n",
       "    <tr>\n",
       "      <th>4</th>\n",
       "      <td>we are glad to present you this online softwar...</td>\n",
       "      <td>spam</td>\n",
       "    </tr>\n",
       "    <tr>\n",
       "      <th>...</th>\n",
       "      <td>...</td>\n",
       "      <td>...</td>\n",
       "    </tr>\n",
       "    <tr>\n",
       "      <th>94922</th>\n",
       "      <td>cheap oem soft shipping worldwide  don ' t be ...</td>\n",
       "      <td>spam</td>\n",
       "    </tr>\n",
       "    <tr>\n",
       "      <th>94923</th>\n",
       "      <td>nomad international inc . ( ndin )\\na multi - ...</td>\n",
       "      <td>spam</td>\n",
       "    </tr>\n",
       "    <tr>\n",
       "      <th>94924</th>\n",
       "      <td>looks like the extra letter was actually suppo...</td>\n",
       "      <td>ham</td>\n",
       "    </tr>\n",
       "    <tr>\n",
       "      <th>94925</th>\n",
       "      <td>below is the weekly western issues update sent...</td>\n",
       "      <td>ham</td>\n",
       "    </tr>\n",
       "    <tr>\n",
       "      <th>94926</th>\n",
       "      <td>revno escapenumber revision id tridge samba o...</td>\n",
       "      <td>ham</td>\n",
       "    </tr>\n",
       "  </tbody>\n",
       "</table>\n",
       "<p>94927 rows × 2 columns</p>\n",
       "</div>"
      ],
      "text/plain": [
       "                                                   email label\n",
       "0      we are happy to present you the canadianpharma...  spam\n",
       "1       to view the color version of this message or ...   ham\n",
       "2       begin pgp signed message hash shaescapenumber...   ham\n",
       "3      start date : 12 / 30 / 01 ; hourahead hour : 3...   ham\n",
       "4      we are glad to present you this online softwar...  spam\n",
       "...                                                  ...   ...\n",
       "94922  cheap oem soft shipping worldwide  don ' t be ...  spam\n",
       "94923  nomad international inc . ( ndin )\\na multi - ...  spam\n",
       "94924  looks like the extra letter was actually suppo...   ham\n",
       "94925  below is the weekly western issues update sent...   ham\n",
       "94926   revno escapenumber revision id tridge samba o...   ham\n",
       "\n",
       "[94927 rows x 2 columns]"
      ]
     },
     "execution_count": 3,
     "metadata": {},
     "output_type": "execute_result"
    }
   ],
   "source": [
    "df = pd.read_csv(\"../../data/bronze/raw_dataset.csv\", )\n",
    "df"
   ]
  },
  {
   "cell_type": "code",
   "execution_count": 4,
   "id": "10519b87",
   "metadata": {},
   "outputs": [
    {
     "name": "stdout",
     "output_type": "stream",
     "text": [
      "<class 'pandas.core.frame.DataFrame'>\n",
      "RangeIndex: 94927 entries, 0 to 94926\n",
      "Data columns (total 2 columns):\n",
      " #   Column  Non-Null Count  Dtype \n",
      "---  ------  --------------  ----- \n",
      " 0   email   94927 non-null  object\n",
      " 1   label   94927 non-null  object\n",
      "dtypes: object(2)\n",
      "memory usage: 1.4+ MB\n"
     ]
    }
   ],
   "source": [
    "df.info()"
   ]
  },
  {
   "cell_type": "code",
   "execution_count": 5,
   "id": "f4a45340",
   "metadata": {},
   "outputs": [
    {
     "data": {
      "text/html": [
       "<div>\n",
       "<style scoped>\n",
       "    .dataframe tbody tr th:only-of-type {\n",
       "        vertical-align: middle;\n",
       "    }\n",
       "\n",
       "    .dataframe tbody tr th {\n",
       "        vertical-align: top;\n",
       "    }\n",
       "\n",
       "    .dataframe thead th {\n",
       "        text-align: right;\n",
       "    }\n",
       "</style>\n",
       "<table border=\"1\" class=\"dataframe\">\n",
       "  <thead>\n",
       "    <tr style=\"text-align: right;\">\n",
       "      <th></th>\n",
       "      <th>email</th>\n",
       "      <th>label</th>\n",
       "    </tr>\n",
       "  </thead>\n",
       "  <tbody>\n",
       "    <tr>\n",
       "      <th>count</th>\n",
       "      <td>94927</td>\n",
       "      <td>94927</td>\n",
       "    </tr>\n",
       "    <tr>\n",
       "      <th>unique</th>\n",
       "      <td>94447</td>\n",
       "      <td>2</td>\n",
       "    </tr>\n",
       "    <tr>\n",
       "      <th>top</th>\n",
       "      <td>Sorry, I'll call later</td>\n",
       "      <td>ham</td>\n",
       "    </tr>\n",
       "    <tr>\n",
       "      <th>freq</th>\n",
       "      <td>30</td>\n",
       "      <td>48823</td>\n",
       "    </tr>\n",
       "  </tbody>\n",
       "</table>\n",
       "</div>"
      ],
      "text/plain": [
       "                         email  label\n",
       "count                    94927  94927\n",
       "unique                   94447      2\n",
       "top     Sorry, I'll call later    ham\n",
       "freq                        30  48823"
      ]
     },
     "execution_count": 5,
     "metadata": {},
     "output_type": "execute_result"
    }
   ],
   "source": [
    "df.describe()\n"
   ]
  },
  {
   "cell_type": "markdown",
   "id": "c1adb1c1",
   "metadata": {},
   "source": [
    "- We have a dataset with total amount of 94927 rows\n",
    "- There are two unique categories: \"ham\" and \"spam\" and 94448 unique messages\n",
    "- The most common category is \"ham\" that appears 48823 times and the most common message is \"Sorry, I'll call later\", a total of 30 times? wow, this sounds like whatsapp!"
   ]
  },
  {
   "cell_type": "code",
   "execution_count": 6,
   "id": "40cc0096",
   "metadata": {},
   "outputs": [
    {
     "name": "stdout",
     "output_type": "stream",
     "text": [
      "<class 'pandas.core.frame.DataFrame'>\n",
      "RangeIndex: 94927 entries, 0 to 94926\n",
      "Data columns (total 2 columns):\n",
      " #   Column  Non-Null Count  Dtype \n",
      "---  ------  --------------  ----- \n",
      " 0   email   94927 non-null  object\n",
      " 1   label   94927 non-null  object\n",
      "dtypes: object(2)\n",
      "memory usage: 1.4+ MB\n"
     ]
    }
   ],
   "source": [
    "df.info()"
   ]
  },
  {
   "cell_type": "markdown",
   "id": "c27f02a8",
   "metadata": {},
   "source": [
    "## Change data types"
   ]
  },
  {
   "cell_type": "markdown",
   "id": "70a691da",
   "metadata": {},
   "source": [
    "More specific data types consume less memory and allow more efficient data manipulation, etc. email column type is worthless since pandas uses \"object\" for strings too"
   ]
  },
  {
   "cell_type": "code",
   "execution_count": null,
   "id": "a551a55b",
   "metadata": {},
   "outputs": [],
   "source": [
    "\n",
    "\n",
    "df['label'] = df['label'].map({\"ham\": 0, \"spam\": 1})\n",
    "df['label'] = df['label'].astype('int8')"
   ]
  },
  {
   "cell_type": "code",
   "execution_count": 8,
   "id": "60ab8ccc",
   "metadata": {},
   "outputs": [
    {
     "name": "stdout",
     "output_type": "stream",
     "text": [
      "<class 'pandas.core.frame.DataFrame'>\n",
      "RangeIndex: 94927 entries, 0 to 94926\n",
      "Data columns (total 2 columns):\n",
      " #   Column  Non-Null Count  Dtype \n",
      "---  ------  --------------  ----- \n",
      " 0   email   94927 non-null  object\n",
      " 1   label   94927 non-null  int8  \n",
      "dtypes: int8(1), object(1)\n",
      "memory usage: 834.4+ KB\n"
     ]
    }
   ],
   "source": [
    "df.info()"
   ]
  },
  {
   "cell_type": "markdown",
   "id": "a371f90a",
   "metadata": {},
   "source": [
    "## Duplicated rows analysis\n",
    "\n",
    "What is the amount of duplicated emails? And its percentage?"
   ]
  },
  {
   "cell_type": "code",
   "execution_count": 9,
   "id": "e27613ee",
   "metadata": {},
   "outputs": [
    {
     "data": {
      "text/html": [
       "<div>\n",
       "<style scoped>\n",
       "    .dataframe tbody tr th:only-of-type {\n",
       "        vertical-align: middle;\n",
       "    }\n",
       "\n",
       "    .dataframe tbody tr th {\n",
       "        vertical-align: top;\n",
       "    }\n",
       "\n",
       "    .dataframe thead th {\n",
       "        text-align: right;\n",
       "    }\n",
       "</style>\n",
       "<table border=\"1\" class=\"dataframe\">\n",
       "  <thead>\n",
       "    <tr style=\"text-align: right;\">\n",
       "      <th></th>\n",
       "      <th>label</th>\n",
       "      <th>duplicated_by_label</th>\n",
       "      <th>total_rows_label</th>\n",
       "      <th>total_rows_data</th>\n",
       "      <th>percent_duplicates_label</th>\n",
       "    </tr>\n",
       "  </thead>\n",
       "  <tbody>\n",
       "    <tr>\n",
       "      <th>0</th>\n",
       "      <td>0</td>\n",
       "      <td>569</td>\n",
       "      <td>48823</td>\n",
       "      <td>94927</td>\n",
       "      <td>0.60</td>\n",
       "    </tr>\n",
       "    <tr>\n",
       "      <th>1</th>\n",
       "      <td>1</td>\n",
       "      <td>258</td>\n",
       "      <td>46104</td>\n",
       "      <td>94927</td>\n",
       "      <td>0.27</td>\n",
       "    </tr>\n",
       "  </tbody>\n",
       "</table>\n",
       "</div>"
      ],
      "text/plain": [
       "   label  duplicated_by_label  total_rows_label  total_rows_data  \\\n",
       "0      0                  569             48823            94927   \n",
       "1      1                  258             46104            94927   \n",
       "\n",
       "   percent_duplicates_label  \n",
       "0                      0.60  \n",
       "1                      0.27  "
      ]
     },
     "execution_count": 9,
     "metadata": {},
     "output_type": "execute_result"
    }
   ],
   "source": [
    "# create a dataframe with the duplicated rows grouped by label\n",
    "duplicated_by_label = df[df.duplicated(keep=False)].groupby('label').size().rename(\"duplicated_by_label\").reset_index()\n",
    "\n",
    "# create a dataframe with the sum of rows of each label and change its name with total_rows\n",
    "category_counts = df['label'].value_counts().reset_index()\n",
    "category_counts.columns = ['label', 'total_rows_label']\n",
    "\n",
    "#merge both dataframes\n",
    "duplicated_by_label = duplicated_by_label.merge(category_counts, on='label')\n",
    "\n",
    "#add a column with the percentage of duplicated per class\n",
    "duplicated_by_label['total_rows_data'] = df.value_counts().sum()\n",
    "duplicated_by_label['percent_duplicates_label'] = round(duplicated_by_label['duplicated_by_label'] / duplicated_by_label['total_rows_data'] * 100, 2)\n",
    "\n",
    "duplicated_by_label"
   ]
  },
  {
   "cell_type": "markdown",
   "id": "9f526a9e",
   "metadata": {},
   "source": [
    "Oh wow, I expected the duplicates to be more present in the spam emails and the experience tells me that spam emails are generical and sent to everyone. This means that our dataset has been trimmed before published?\n",
    "\n",
    "It would be interesting to understand the way these datasets were created and which sources they use for further analysis.\n",
    "\n",
    "-----------\n",
    "\n",
    "Are there emails that belong to both categories? I assume they are mistakes but in case we have them, we should check what's their origin\n"
   ]
  },
  {
   "cell_type": "code",
   "execution_count": 10,
   "id": "6f15bb06",
   "metadata": {},
   "outputs": [
    {
     "data": {
      "text/html": [
       "<div>\n",
       "<style scoped>\n",
       "    .dataframe tbody tr th:only-of-type {\n",
       "        vertical-align: middle;\n",
       "    }\n",
       "\n",
       "    .dataframe tbody tr th {\n",
       "        vertical-align: top;\n",
       "    }\n",
       "\n",
       "    .dataframe thead th {\n",
       "        text-align: right;\n",
       "    }\n",
       "</style>\n",
       "<table border=\"1\" class=\"dataframe\">\n",
       "  <thead>\n",
       "    <tr style=\"text-align: right;\">\n",
       "      <th></th>\n",
       "      <th>email</th>\n",
       "      <th>label</th>\n",
       "    </tr>\n",
       "  </thead>\n",
       "  <tbody>\n",
       "  </tbody>\n",
       "</table>\n",
       "</div>"
      ],
      "text/plain": [
       "Empty DataFrame\n",
       "Columns: [email, label]\n",
       "Index: []"
      ]
     },
     "execution_count": 10,
     "metadata": {},
     "output_type": "execute_result"
    }
   ],
   "source": [
    "# create a dataframe with the duplicated emails grouped by email and filter them by unique value of label > 1, so one 0 label and one 1 label\n",
    "emails_with_conflicting_labels = df[df.duplicated(keep=False)].groupby('email').filter(lambda x: x['label'].nunique() > 1)\n",
    "emails_with_conflicting_labels"
   ]
  },
  {
   "cell_type": "markdown",
   "id": "73639597",
   "metadata": {},
   "source": [
    "There are none, that is a good symptom"
   ]
  },
  {
   "cell_type": "markdown",
   "id": "b82f1d6b",
   "metadata": {},
   "source": [
    "## Distribution of the target feature"
   ]
  },
  {
   "cell_type": "code",
   "execution_count": 11,
   "id": "eb7c06a8",
   "metadata": {},
   "outputs": [
    {
     "data": {
      "image/png": "[encoded data removed]",
      "text/plain": [
       "<Figure size 600x600 with 1 Axes>"
      ]
     },
     "metadata": {},
     "output_type": "display_data"
    }
   ],
   "source": [
    "category_labels = [\"Ham (0)\", \"Spam (1)\"]\n",
    "category_counts = df['label'].value_counts()\n",
    "\n",
    "viridis_colors = sns.color_palette(\"viridis\", len(category_counts))\n",
    "\n",
    "plt.figure(figsize=(6, 6))\n",
    "plt.pie(\n",
    "    category_counts,\n",
    "    labels=[f\"{label}: {count}\" for label, count in zip(category_labels, category_counts)], \n",
    "    autopct=lambda p: f\"{p:.2f}%\",  \n",
    "    colors=viridis_colors,  \n",
    "    startangle=90,  \n",
    ")\n",
    "plt.title(\"Class Distribution (Ham vs Spam)\")\n",
    "plt.show()\n"
   ]
  },
  {
   "cell_type": "markdown",
   "id": "bec56c67",
   "metadata": {},
   "source": [
    "The dataset is quite balanced with the target class only containing a 48.57% of the class \"SPAM\" "
   ]
  },
  {
   "cell_type": "markdown",
   "id": "29a8a039",
   "metadata": {},
   "source": [
    "## Word count distribution\n",
    "\n",
    "What is the distribution of the word count?"
   ]
  },
  {
   "cell_type": "code",
   "execution_count": null,
   "id": "86521d23",
   "metadata": {},
   "outputs": [],
   "source": [
    "df['word_count'] = df['email'].apply(lambda x: len(x.split()))\n",
    "count_of_words = df.groupby(['word_count', 'label']).size().reset_index(name='count')\n",
    "count_of_words"
   ]
  },
  {
   "cell_type": "code",
   "execution_count": null,
   "id": "42b4cf70",
   "metadata": {},
   "outputs": [],
   "source": [
    "count_of_words.tail(20)"
   ]
  },
  {
   "cell_type": "code",
   "execution_count": null,
   "id": "31c91a00",
   "metadata": {},
   "outputs": [],
   "source": [
    "sns.boxplot(data=count_of_words, x='label', y='word_count', palette=\"viridis\")\n",
    "\n",
    "plt.xticks(ticks=[0, 1], labels=[\"Ham (0)\", \"Spam (1)\"])\n",
    "plt.title(\"Word Count Distribution by Label\")\n",
    "plt.xlabel(\"Label\")\n",
    "plt.ylabel(\"Word Count\")\n",
    "plt.show()"
   ]
  },
  {
   "cell_type": "code",
   "execution_count": null,
   "id": "ba4aabf1",
   "metadata": {},
   "outputs": [],
   "source": [
    "lower_percentile = count_of_words['word_count'].quantile(0.05)\n",
    "upper_percentile = count_of_words['word_count'].quantile(0.95)\n",
    "filtered_data = count_of_words[\n",
    "    (count_of_words['word_count'] >= lower_percentile) & \n",
    "    (count_of_words['word_count'] <= upper_percentile)\n",
    "]\n",
    "sns.boxplot(data=filtered_data, x='label', y='word_count', palette=\"viridis\")\n",
    "plt.xticks(ticks=[0, 1], labels=[\"Ham (0)\", \"Spam (1)\"])\n",
    "plt.title(\"Word Count Distribution by Label (Filtered Percentiles)\")\n",
    "plt.xlabel(\"Label\")\n",
    "plt.ylabel(\"Word Count\")\n",
    "plt.show()\n"
   ]
  },
  {
   "cell_type": "markdown",
   "id": "43d317e2",
   "metadata": {},
   "source": [
    "## Char count distribution"
   ]
  },
  {
   "cell_type": "code",
   "execution_count": null,
   "id": "ae24f272",
   "metadata": {},
   "outputs": [],
   "source": [
    "df['char_count'] = df['email'].apply(len)\n",
    "df"
   ]
  },
  {
   "cell_type": "code",
   "execution_count": null,
   "id": "9c8e5859",
   "metadata": {},
   "outputs": [],
   "source": [
    "\n",
    "bins = np.arange(df['char_count'].min(), df['word_count'].max() + 20, 20)\n",
    "sns.histplot(data=df, x='char_count', hue='email', bins=bins, kde=True, palette=\"viridis\")\n",
    "plt.title(\"Char Count Distribution by email\")\n",
    "plt.xlabel(\"Char Count\")\n",
    "plt.ylabel(\"Frequency\")\n",
    "plt.show()"
   ]
  },
  {
   "cell_type": "markdown",
   "id": "fe846ab7",
   "metadata": {},
   "source": [
    "## High char count distribution"
   ]
  },
  {
   "cell_type": "code",
   "execution_count": null,
   "id": "d0514974",
   "metadata": {},
   "outputs": [],
   "source": [
    "df_filtered = df[df['char_count'] >= 180]\n",
    "\n",
    "bins = np.arange(df_filtered['char_count'].min(), df_filtered['char_count'].max() + 20, 20)\n",
    "sns.histplot(data=df_filtered, x='char_count', hue='Category', bins=bins, kde=True, palette=\"viridis\")\n",
    "plt.title(\"Word Count Distribution by Category (30+ words)\")\n",
    "plt.xlabel(\"Word Count\")\n",
    "plt.ylabel(\"Frequency\")\n",
    "plt.show()"
   ]
  },
  {
   "cell_type": "markdown",
   "id": "7216d7af",
   "metadata": {},
   "source": [
    "Observations:\n",
    "\n",
    "- The distribution of HAM messages per char count shows that there are a lot os messages with very few characters ( <100 chars)\n",
    "- The distribution of SPAM messages per char count shows that there are a lot of messages with more characters ( >100 chars)\n",
    "- The SPAM distribution goes dramatically down after 150 chars\n",
    "- There are no more SPAM messages when the count is higher than 223 chars\n",
    "- HAM messages have more variability in number of chars than SPAM messages "
   ]
  },
  {
   "cell_type": "markdown",
   "id": "8bf70218",
   "metadata": {},
   "source": [
    "## Most common words in each class"
   ]
  },
  {
   "cell_type": "markdown",
   "id": "626fad4b",
   "metadata": {},
   "source": [
    "For that I clean the text, tokenize and apply stopwords"
   ]
  },
  {
   "cell_type": "code",
   "execution_count": null,
   "id": "d65e559b",
   "metadata": {},
   "outputs": [],
   "source": [
    "from nltk.tokenize import word_tokenize\n",
    "from nltk.corpus import stopwords\n",
    "stop_words = set(stopwords.words('english'))\n",
    "import re\n",
    "from string import punctuation\n",
    "\n",
    "def clean_text(text):\n",
    "    special_replacements = {\n",
    "        r\"£\": \"pound\",\n",
    "        r\"\\$\": \"dollar\",\n",
    "        r\"\\€\": \"euro\",\n",
    "        r\"%\": \"percentage\", \n",
    "        r\"ì\": \"i\",\n",
    "        r\"ü\": \"you\",\n",
    "        }\n",
    "    \n",
    "    emoticon_pattern = re.compile(r\"\"\"\n",
    "    [:;=Xx]           \n",
    "    [-~]?             \n",
    "    [\\)\\]\\(\\[dDpP/]   \n",
    "    \"\"\", re.VERBOSE)\n",
    "    \n",
    "    for pattern, replacement in special_replacements.items():\n",
    "        text = re.sub(pattern, replacement, text)\n",
    "    text = re.sub(emoticon_pattern, 'emoji', text)\n",
    "    text = text.lower()\n",
    "    text = re.sub('<[^<>]+>', ' ', text)\n",
    "    text = re.sub(r'http\\S+|www.\\S+', '', text)\n",
    "    text = re.sub('[0-9]+', 'number', text)\n",
    "    text = re.sub('[^\\s]+@[^\\s]+', 'emailaddr', text)\n",
    "    text = text.translate(str.maketrans('', '', punctuation))\n",
    "    text = re.sub(r'[^a-zA-Z\\s]', '', text)\n",
    "    text = re.sub(r'\\s+', ' ', text).strip()\n",
    "    return text\n",
    "\n",
    "df_cleaned = df.copy()\n",
    "df_cleaned['Message']=df_cleaned['Message'].apply(clean_text)\n",
    "df_cleaned['message_tokenized'] = df_cleaned['Message'].apply(word_tokenize)\n",
    "\n",
    "def remove_stopwords(tokens):\n",
    "    filtered_tokens = [word for word in tokens if word.lower() not in stop_words]\n",
    "    return ' '.join(filtered_tokens)\n",
    "\n",
    "\n",
    "df_cleaned['message_clean'] = df_cleaned['message_tokenized'].apply(remove_stopwords)\n",
    "df_cleaned"
   ]
  },
  {
   "cell_type": "code",
   "execution_count": null,
   "id": "967a36cd",
   "metadata": {},
   "outputs": [],
   "source": [
    "word = \"I'm\"\n",
    "\n",
    "if word in stop_words:\n",
    "    print(f\"'{word}' is a stopword.\")\n",
    "else:\n",
    "    print(f\"'{word}' is not a stopword.\")\n"
   ]
  },
  {
   "cell_type": "code",
   "execution_count": null,
   "id": "0e282dfa",
   "metadata": {},
   "outputs": [],
   "source": [
    "from collections import Counter\n",
    "\n",
    "ham_data = df_cleaned[df_cleaned['Category'] == 0]\n",
    "spam_data = df_cleaned[df_cleaned['Category'] == 1]\n",
    "\n",
    "ham_words = Counter(\" \".join(ham_data[\"message_clean\"]).split()).most_common(20)\n",
    "spam_words = Counter(\" \".join(spam_data[\"message_clean\"]).split()).most_common(20)\n",
    "\n",
    "ham_words_list, ham_counts = zip(*ham_words)\n",
    "spam_words_list, spam_counts = zip(*spam_words)\n",
    "\n",
    "plt.figure(figsize=(12, 6))\n",
    "plt.barh(ham_words_list, ham_counts, color=\"darkgreen\")\n",
    "plt.xlabel('Frecuencia')\n",
    "plt.title('Top 20 most common words for HAM')\n",
    "plt.tight_layout()\n",
    "\n",
    "plt.figure(figsize=(12, 6))\n",
    "plt.barh(spam_words_list, spam_counts, color=\"darkblue\")\n",
    "plt.xlabel('Frecuencia')\n",
    "plt.title('Top 20 most common words for SPAM')\n",
    "plt.tight_layout()\n",
    "\n",
    "plt.show()\n"
   ]
  },
  {
   "cell_type": "markdown",
   "id": "c55f2863",
   "metadata": {},
   "source": [
    "Notes:\n",
    "Most common words in each class are different. That will help the model to differentiate between types of e-mails.\n",
    "\n",
    "There is a lot of misspelling in both HAM and SPAM e-mails (u, ur, ill, etc), grammatical errors (poundnumber, numberp) and abbreviations (txt, ltgt? what does that even mean?) \n",
    "\n",
    "\n",
    "For the curious ones what Google says about \"ltgt\":\n",
    "1. Long-Term Genistein Treatment in Biochemistry contexts.\n",
    "2. Long-Term Growth in economy or investing\n",
    "3. Less Than Greater Than in coding or math\n"
   ]
  },
  {
   "cell_type": "code",
   "execution_count": null,
   "id": "3e22c814",
   "metadata": {},
   "outputs": [],
   "source": [
    "# pd.set_option('max_colwidth', None)\n",
    "\n",
    "ltgt_means = df_cleaned[df_cleaned['message_tokenized'].apply(lambda x: 'ltgt' in x)]\n",
    "ltgt_means['Message']"
   ]
  },
  {
   "cell_type": "markdown",
   "id": "c7f26a90",
   "metadata": {},
   "source": [
    "Notes: \n",
    "\n",
    "Ok, some of these messages are perturbing. Are there some that belong to SPAM?"
   ]
  },
  {
   "cell_type": "code",
   "execution_count": null,
   "id": "aa1c9bd6",
   "metadata": {},
   "outputs": [],
   "source": [
    "ltgt_means['Category'].value_counts()\n"
   ]
  }
 ],
 "metadata": {
  "kernelspec": {
   "display_name": "spam-detector-P2ybB3t6-py3.10",
   "language": "python",
   "name": "python3"
  },
  "language_info": {
   "codemirror_mode": {
    "name": "ipython",
    "version": 3
   },
   "file_extension": ".py",
   "mimetype": "text/x-python",
   "name": "python",
   "nbconvert_exporter": "python",
   "pygments_lexer": "ipython3",
   "version": "3.10.12"
  }
 },
 "nbformat": 4,
 "nbformat_minor": 5
}
