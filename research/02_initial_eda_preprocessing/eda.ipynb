{
 "cells": [
  {
   "cell_type": "markdown",
   "id": "8495b5d4",
   "metadata": {},
   "source": [
    "The objective of this notebook is to do an basic exploratory analysis of the dataset and check its characteristics"
   ]
  },
  {
   "cell_type": "markdown",
   "id": "e158e213",
   "metadata": {},
   "source": [
    "## Libraries"
   ]
  },
  {
   "cell_type": "code",
   "execution_count": 1,
   "id": "c845b383",
   "metadata": {},
   "outputs": [],
   "source": [
    "%load_ext autoreload\n",
    "%autoreload 2"
   ]
  },
  {
   "cell_type": "code",
   "execution_count": 2,
   "id": "02f92a15",
   "metadata": {},
   "outputs": [],
   "source": [
    "import pandas as pd \n",
    "import matplotlib.pyplot as plt \n",
    "import seaborn as sns\n",
    "import numpy as np"
   ]
  },
  {
   "cell_type": "code",
   "execution_count": 3,
   "id": "c3d43590",
   "metadata": {},
   "outputs": [
    {
     "data": {
      "text/html": [
       "<div>\n",
       "<style scoped>\n",
       "    .dataframe tbody tr th:only-of-type {\n",
       "        vertical-align: middle;\n",
       "    }\n",
       "\n",
       "    .dataframe tbody tr th {\n",
       "        vertical-align: top;\n",
       "    }\n",
       "\n",
       "    .dataframe thead th {\n",
       "        text-align: right;\n",
       "    }\n",
       "</style>\n",
       "<table border=\"1\" class=\"dataframe\">\n",
       "  <thead>\n",
       "    <tr style=\"text-align: right;\">\n",
       "      <th></th>\n",
       "      <th>email</th>\n",
       "      <th>label</th>\n",
       "    </tr>\n",
       "  </thead>\n",
       "  <tbody>\n",
       "    <tr>\n",
       "      <th>0</th>\n",
       "      <td>ounce feather bowl hummingbird opec moment ala...</td>\n",
       "      <td>spam</td>\n",
       "    </tr>\n",
       "    <tr>\n",
       "      <th>1</th>\n",
       "      <td>wulvob get your medircations online qnb ikud v...</td>\n",
       "      <td>spam</td>\n",
       "    </tr>\n",
       "    <tr>\n",
       "      <th>2</th>\n",
       "      <td>computer connection from cnn com wednesday es...</td>\n",
       "      <td>ham</td>\n",
       "    </tr>\n",
       "    <tr>\n",
       "      <th>3</th>\n",
       "      <td>university degree obtain a prosperous future m...</td>\n",
       "      <td>spam</td>\n",
       "    </tr>\n",
       "    <tr>\n",
       "      <th>4</th>\n",
       "      <td>thanks for all your answers guys i know i shou...</td>\n",
       "      <td>ham</td>\n",
       "    </tr>\n",
       "    <tr>\n",
       "      <th>...</th>\n",
       "      <td>...</td>\n",
       "      <td>...</td>\n",
       "    </tr>\n",
       "    <tr>\n",
       "      <th>94922</th>\n",
       "      <td>This is the 2nd time we have tried 2 contact u...</td>\n",
       "      <td>spam</td>\n",
       "    </tr>\n",
       "    <tr>\n",
       "      <th>94923</th>\n",
       "      <td>Will ü b going to esplanade fr home?</td>\n",
       "      <td>ham</td>\n",
       "    </tr>\n",
       "    <tr>\n",
       "      <th>94924</th>\n",
       "      <td>Pity, * was in mood for that. So...any other s...</td>\n",
       "      <td>ham</td>\n",
       "    </tr>\n",
       "    <tr>\n",
       "      <th>94925</th>\n",
       "      <td>The guy did some bitching but I acted like i'd...</td>\n",
       "      <td>ham</td>\n",
       "    </tr>\n",
       "    <tr>\n",
       "      <th>94926</th>\n",
       "      <td>Rofl. Its true to its name</td>\n",
       "      <td>ham</td>\n",
       "    </tr>\n",
       "  </tbody>\n",
       "</table>\n",
       "<p>94927 rows × 2 columns</p>\n",
       "</div>"
      ],
      "text/plain": [
       "                                                   email label\n",
       "0      ounce feather bowl hummingbird opec moment ala...  spam\n",
       "1      wulvob get your medircations online qnb ikud v...  spam\n",
       "2       computer connection from cnn com wednesday es...   ham\n",
       "3      university degree obtain a prosperous future m...  spam\n",
       "4      thanks for all your answers guys i know i shou...   ham\n",
       "...                                                  ...   ...\n",
       "94922  This is the 2nd time we have tried 2 contact u...  spam\n",
       "94923               Will ü b going to esplanade fr home?   ham\n",
       "94924  Pity, * was in mood for that. So...any other s...   ham\n",
       "94925  The guy did some bitching but I acted like i'd...   ham\n",
       "94926                         Rofl. Its true to its name   ham\n",
       "\n",
       "[94927 rows x 2 columns]"
      ]
     },
     "execution_count": 3,
     "metadata": {},
     "output_type": "execute_result"
    }
   ],
   "source": [
    "df = pd.read_csv(\"../../data/bronze/raw_dataset.csv\", )\n",
    "df"
   ]
  },
  {
   "cell_type": "code",
   "execution_count": 4,
   "id": "f4a45340",
   "metadata": {},
   "outputs": [
    {
     "data": {
      "text/html": [
       "<div>\n",
       "<style scoped>\n",
       "    .dataframe tbody tr th:only-of-type {\n",
       "        vertical-align: middle;\n",
       "    }\n",
       "\n",
       "    .dataframe tbody tr th {\n",
       "        vertical-align: top;\n",
       "    }\n",
       "\n",
       "    .dataframe thead th {\n",
       "        text-align: right;\n",
       "    }\n",
       "</style>\n",
       "<table border=\"1\" class=\"dataframe\">\n",
       "  <thead>\n",
       "    <tr style=\"text-align: right;\">\n",
       "      <th></th>\n",
       "      <th>email</th>\n",
       "      <th>label</th>\n",
       "    </tr>\n",
       "  </thead>\n",
       "  <tbody>\n",
       "    <tr>\n",
       "      <th>count</th>\n",
       "      <td>94927</td>\n",
       "      <td>94927</td>\n",
       "    </tr>\n",
       "    <tr>\n",
       "      <th>unique</th>\n",
       "      <td>94448</td>\n",
       "      <td>2</td>\n",
       "    </tr>\n",
       "    <tr>\n",
       "      <th>top</th>\n",
       "      <td>Sorry, I'll call later</td>\n",
       "      <td>ham</td>\n",
       "    </tr>\n",
       "    <tr>\n",
       "      <th>freq</th>\n",
       "      <td>30</td>\n",
       "      <td>48823</td>\n",
       "    </tr>\n",
       "  </tbody>\n",
       "</table>\n",
       "</div>"
      ],
      "text/plain": [
       "                         email  label\n",
       "count                    94927  94927\n",
       "unique                   94448      2\n",
       "top     Sorry, I'll call later    ham\n",
       "freq                        30  48823"
      ]
     },
     "execution_count": 4,
     "metadata": {},
     "output_type": "execute_result"
    }
   ],
   "source": [
    "df.describe()\n"
   ]
  },
  {
   "cell_type": "markdown",
   "id": "c1adb1c1",
   "metadata": {},
   "source": [
    "- We have a dataset with total amount of 94927 rows\n",
    "- There are two unique categories: \"ham\" and \"spam\" and 94448 unique messages\n",
    "- The most common category is \"ham\" that appears 48823 times and the most common message is \"Sorry, I'll call later\", a total of 30 times? "
   ]
  },
  {
   "cell_type": "code",
   "execution_count": 5,
   "id": "40cc0096",
   "metadata": {},
   "outputs": [
    {
     "name": "stdout",
     "output_type": "stream",
     "text": [
      "<class 'pandas.core.frame.DataFrame'>\n",
      "RangeIndex: 94927 entries, 0 to 94926\n",
      "Data columns (total 2 columns):\n",
      " #   Column  Non-Null Count  Dtype \n",
      "---  ------  --------------  ----- \n",
      " 0   email   94927 non-null  object\n",
      " 1   label   94927 non-null  object\n",
      "dtypes: object(2)\n",
      "memory usage: 1.4+ MB\n"
     ]
    }
   ],
   "source": [
    "df.info()"
   ]
  },
  {
   "cell_type": "markdown",
   "id": "c27f02a8",
   "metadata": {},
   "source": [
    "## Change data types"
   ]
  },
  {
   "cell_type": "markdown",
   "id": "70a691da",
   "metadata": {},
   "source": [
    "More specific data types consume less memory and allow more efficient data manipulation, etc."
   ]
  },
  {
   "cell_type": "code",
   "execution_count": 6,
   "id": "a551a55b",
   "metadata": {},
   "outputs": [],
   "source": [
    "df['label'] = df['label'].map({\"ham\": 0, \"spam\": 1}).astype(int)\n",
    "df['email'] = df['email'].astype(str)"
   ]
  },
  {
   "cell_type": "markdown",
   "id": "a371f90a",
   "metadata": {},
   "source": [
    "## Duplicated rows analysis\n",
    "\n",
    "What is the amount of duplicated emails? And its percentage?"
   ]
  },
  {
   "cell_type": "code",
   "execution_count": 7,
   "id": "e27613ee",
   "metadata": {},
   "outputs": [
    {
     "data": {
      "text/html": [
       "<div>\n",
       "<style scoped>\n",
       "    .dataframe tbody tr th:only-of-type {\n",
       "        vertical-align: middle;\n",
       "    }\n",
       "\n",
       "    .dataframe tbody tr th {\n",
       "        vertical-align: top;\n",
       "    }\n",
       "\n",
       "    .dataframe thead th {\n",
       "        text-align: right;\n",
       "    }\n",
       "</style>\n",
       "<table border=\"1\" class=\"dataframe\">\n",
       "  <thead>\n",
       "    <tr style=\"text-align: right;\">\n",
       "      <th></th>\n",
       "      <th>label</th>\n",
       "      <th>duplicated_by_label</th>\n",
       "      <th>total_rows_label</th>\n",
       "      <th>total_rows_data</th>\n",
       "      <th>percent_duplicates_label</th>\n",
       "    </tr>\n",
       "  </thead>\n",
       "  <tbody>\n",
       "    <tr>\n",
       "      <th>0</th>\n",
       "      <td>0</td>\n",
       "      <td>569</td>\n",
       "      <td>48823</td>\n",
       "      <td>94927</td>\n",
       "      <td>0.60</td>\n",
       "    </tr>\n",
       "    <tr>\n",
       "      <th>1</th>\n",
       "      <td>1</td>\n",
       "      <td>256</td>\n",
       "      <td>46104</td>\n",
       "      <td>94927</td>\n",
       "      <td>0.27</td>\n",
       "    </tr>\n",
       "  </tbody>\n",
       "</table>\n",
       "</div>"
      ],
      "text/plain": [
       "   label  duplicated_by_label  total_rows_label  total_rows_data  \\\n",
       "0      0                  569             48823            94927   \n",
       "1      1                  256             46104            94927   \n",
       "\n",
       "   percent_duplicates_label  \n",
       "0                      0.60  \n",
       "1                      0.27  "
      ]
     },
     "execution_count": 7,
     "metadata": {},
     "output_type": "execute_result"
    }
   ],
   "source": [
    "# create a dataframe with the duplicated rows grouped by label\n",
    "duplicated_by_label = df[df.duplicated(keep=False)].groupby('label').size().rename(\"duplicated_by_label\").reset_index()\n",
    "\n",
    "# create a dataframe with the sum of rows of each label and change its name with total_rows\n",
    "category_counts = df['label'].value_counts().reset_index()\n",
    "category_counts.columns = ['label', 'total_rows_label']\n",
    "\n",
    "#merge both dataframes\n",
    "duplicated_by_label = duplicated_by_label.merge(category_counts, on='label')\n",
    "\n",
    "#add a column with the percentage of duplicated per class\n",
    "duplicated_by_label['total_rows_data'] = df.value_counts().sum()\n",
    "duplicated_by_label['percent_duplicates_label'] = round(duplicated_by_label['duplicated_by_label'] / duplicated_by_label['total_rows_data'] * 100, 2)\n",
    "\n",
    "duplicated_by_label"
   ]
  },
  {
   "cell_type": "markdown",
   "id": "9f526a9e",
   "metadata": {},
   "source": [
    "Oh wow, I expected the duplicates to be more present in the spam emails and the experience tells me that spam emails are generical and sent to everyone. This means that our dataset has been trimmed before published.\n",
    "\n",
    "It would be interesting to find those repeated emails or understand the way these datasets were created and which sources they use for further analysis.\n",
    "\n",
    "-----------\n",
    "\n",
    "Are there emails that belong to both categories? I assume they are mistakes but in case we have them, we should check what's their origin\n"
   ]
  },
  {
   "cell_type": "code",
   "execution_count": 8,
   "id": "6f15bb06",
   "metadata": {},
   "outputs": [
    {
     "data": {
      "text/html": [
       "<div>\n",
       "<style scoped>\n",
       "    .dataframe tbody tr th:only-of-type {\n",
       "        vertical-align: middle;\n",
       "    }\n",
       "\n",
       "    .dataframe tbody tr th {\n",
       "        vertical-align: top;\n",
       "    }\n",
       "\n",
       "    .dataframe thead th {\n",
       "        text-align: right;\n",
       "    }\n",
       "</style>\n",
       "<table border=\"1\" class=\"dataframe\">\n",
       "  <thead>\n",
       "    <tr style=\"text-align: right;\">\n",
       "      <th></th>\n",
       "      <th>email</th>\n",
       "      <th>label</th>\n",
       "    </tr>\n",
       "  </thead>\n",
       "  <tbody>\n",
       "  </tbody>\n",
       "</table>\n",
       "</div>"
      ],
      "text/plain": [
       "Empty DataFrame\n",
       "Columns: [email, label]\n",
       "Index: []"
      ]
     },
     "execution_count": 8,
     "metadata": {},
     "output_type": "execute_result"
    }
   ],
   "source": [
    "# create a dataframe with the duplicated emails grouped by email and filter them by unique value of label > 1, so one 0 label and one 1 label\n",
    "emails_with_conflicting_labels = df[df.duplicated(keep=False)].groupby('email').filter(lambda x: x['label'].nunique() > 1)\n",
    "emails_with_conflicting_labels"
   ]
  },
  {
   "cell_type": "markdown",
   "id": "73639597",
   "metadata": {},
   "source": [
    "There are none, that is a good symptom"
   ]
  },
  {
   "cell_type": "markdown",
   "id": "b82f1d6b",
   "metadata": {},
   "source": [
    "## Distribution of unique HAM VS. SPAM messages"
   ]
  },
  {
   "cell_type": "code",
   "execution_count": 50,
   "id": "eb7c06a8",
   "metadata": {},
   "outputs": [
    {
     "data": {
      "image/png": "[encoded data removed]",
      "text/plain": [
       "<Figure size 600x600 with 1 Axes>"
      ]
     },
     "metadata": {},
     "output_type": "display_data"
    }
   ],
   "source": [
    "category_counts = df['label'].value_counts()\n",
    "category_labels = [\"Ham (0)\", \"Spam (1)\"]\n",
    "\n",
    "viridis_colors = sns.color_palette(\"viridis\", len(category_counts))\n",
    "\n",
    "plt.figure(figsize=(6, 6))\n",
    "plt.pie(\n",
    "    category_counts,\n",
    "    labels=[f\"{label}: {count}\" for label, count in zip(category_labels, category_counts)], \n",
    "    autopct=lambda p: f\"{p:.2f}%\",  \n",
    "    colors=viridis_colors,  \n",
    "    startangle=90,  \n",
    ")\n",
    "plt.title(\"Class Distribution (Ham vs Spam)\")\n",
    "plt.show()\n"
   ]
  },
  {
   "cell_type": "markdown",
   "id": "bec56c67",
   "metadata": {},
   "source": [
    "The dataset is quite balanced with the target class only containing a 48.57% of the class \"SPAM\" "
   ]
  },
  {
   "cell_type": "markdown",
   "id": "29a8a039",
   "metadata": {},
   "source": [
    "## Word count distribution\n",
    "\n",
    "What is the distribution of the word count?"
   ]
  },
  {
   "cell_type": "code",
   "execution_count": 12,
   "id": "86521d23",
   "metadata": {},
   "outputs": [
    {
     "data": {
      "text/html": [
       "<div>\n",
       "<style scoped>\n",
       "    .dataframe tbody tr th:only-of-type {\n",
       "        vertical-align: middle;\n",
       "    }\n",
       "\n",
       "    .dataframe tbody tr th {\n",
       "        vertical-align: top;\n",
       "    }\n",
       "\n",
       "    .dataframe thead th {\n",
       "        text-align: right;\n",
       "    }\n",
       "</style>\n",
       "<table border=\"1\" class=\"dataframe\">\n",
       "  <thead>\n",
       "    <tr style=\"text-align: right;\">\n",
       "      <th></th>\n",
       "      <th>word_count</th>\n",
       "      <th>label</th>\n",
       "      <th>count</th>\n",
       "    </tr>\n",
       "  </thead>\n",
       "  <tbody>\n",
       "    <tr>\n",
       "      <th>0</th>\n",
       "      <td>1</td>\n",
       "      <td>ham</td>\n",
       "      <td>55</td>\n",
       "    </tr>\n",
       "    <tr>\n",
       "      <th>1</th>\n",
       "      <td>1</td>\n",
       "      <td>spam</td>\n",
       "      <td>71</td>\n",
       "    </tr>\n",
       "    <tr>\n",
       "      <th>2</th>\n",
       "      <td>2</td>\n",
       "      <td>ham</td>\n",
       "      <td>52</td>\n",
       "    </tr>\n",
       "    <tr>\n",
       "      <th>3</th>\n",
       "      <td>2</td>\n",
       "      <td>spam</td>\n",
       "      <td>35</td>\n",
       "    </tr>\n",
       "    <tr>\n",
       "      <th>4</th>\n",
       "      <td>3</td>\n",
       "      <td>ham</td>\n",
       "      <td>102</td>\n",
       "    </tr>\n",
       "    <tr>\n",
       "      <th>...</th>\n",
       "      <td>...</td>\n",
       "      <td>...</td>\n",
       "      <td>...</td>\n",
       "    </tr>\n",
       "    <tr>\n",
       "      <th>3890</th>\n",
       "      <td>28001</td>\n",
       "      <td>ham</td>\n",
       "      <td>1</td>\n",
       "    </tr>\n",
       "    <tr>\n",
       "      <th>3891</th>\n",
       "      <td>33037</td>\n",
       "      <td>ham</td>\n",
       "      <td>1</td>\n",
       "    </tr>\n",
       "    <tr>\n",
       "      <th>3892</th>\n",
       "      <td>34898</td>\n",
       "      <td>ham</td>\n",
       "      <td>1</td>\n",
       "    </tr>\n",
       "    <tr>\n",
       "      <th>3893</th>\n",
       "      <td>45448</td>\n",
       "      <td>ham</td>\n",
       "      <td>1</td>\n",
       "    </tr>\n",
       "    <tr>\n",
       "      <th>3894</th>\n",
       "      <td>101984</td>\n",
       "      <td>ham</td>\n",
       "      <td>1</td>\n",
       "    </tr>\n",
       "  </tbody>\n",
       "</table>\n",
       "<p>3895 rows × 3 columns</p>\n",
       "</div>"
      ],
      "text/plain": [
       "      word_count label  count\n",
       "0              1   ham     55\n",
       "1              1  spam     71\n",
       "2              2   ham     52\n",
       "3              2  spam     35\n",
       "4              3   ham    102\n",
       "...          ...   ...    ...\n",
       "3890       28001   ham      1\n",
       "3891       33037   ham      1\n",
       "3892       34898   ham      1\n",
       "3893       45448   ham      1\n",
       "3894      101984   ham      1\n",
       "\n",
       "[3895 rows x 3 columns]"
      ]
     },
     "execution_count": 12,
     "metadata": {},
     "output_type": "execute_result"
    }
   ],
   "source": [
    "df['word_count'] = df['email'].apply(lambda x: len(x.split()))\n",
    "count_of_words = df.groupby(['word_count', 'label']).size().reset_index(name='count')\n",
    "count_of_words"
   ]
  },
  {
   "cell_type": "code",
   "execution_count": 10,
   "id": "42b4cf70",
   "metadata": {},
   "outputs": [
    {
     "name": "stdout",
     "output_type": "stream",
     "text": [
      "<class 'pandas.core.frame.DataFrame'>\n"
     ]
    }
   ],
   "source": [
    "print(type(count_of_words))"
   ]
  },
  {
   "cell_type": "code",
   "execution_count": 16,
   "id": "31c91a00",
   "metadata": {},
   "outputs": [
    {
     "name": "stderr",
     "output_type": "stream",
     "text": [
      "/home/maldu/.cache/pypoetry/virtualenvs/spam-detector-P2ybB3t6-py3.10/lib/python3.10/site-packages/IPython/core/pylabtools.py:170: UserWarning: Creating legend with loc=\"best\" can be slow with large amounts of data.\n",
      "  fig.canvas.print_figure(bytes_io, **kw)\n"
     ]
    },
    {
     "data": {
      "image/png": "[encoded data removed]",
      "text/plain": [
       "<Figure size 640x480 with 1 Axes>"
      ]
     },
     "metadata": {},
     "output_type": "display_data"
    }
   ],
   "source": [
    "bins = np.arange(count_of_words['word_count'].min(), count_of_words['word_count'].max() + 5, 5)\n",
    "sns.histplot(data=count_of_words, x='word_count', hue ='label', bins=bins, kde=True, palette=\"viridis\")\n",
    "plt.title(\"Word Count Distribution by label\")\n",
    "plt.xlabel(\"Word Count\")\n",
    "plt.ylabel(\"Frequency\")\n",
    "max_frequency = count_of_words['word_count'].value_counts().max()\n",
    "plt.ylim(0, max_frequency + 50)\n",
    "plt.show()\n"
   ]
  },
  {
   "cell_type": "code",
   "execution_count": 15,
   "id": "5f606d91",
   "metadata": {},
   "outputs": [
    {
     "data": {
      "text/html": [
       "<div>\n",
       "<style scoped>\n",
       "    .dataframe tbody tr th:only-of-type {\n",
       "        vertical-align: middle;\n",
       "    }\n",
       "\n",
       "    .dataframe tbody tr th {\n",
       "        vertical-align: top;\n",
       "    }\n",
       "\n",
       "    .dataframe thead th {\n",
       "        text-align: right;\n",
       "    }\n",
       "</style>\n",
       "<table border=\"1\" class=\"dataframe\">\n",
       "  <thead>\n",
       "    <tr style=\"text-align: right;\">\n",
       "      <th></th>\n",
       "      <th>email</th>\n",
       "      <th>label</th>\n",
       "      <th>word_count</th>\n",
       "    </tr>\n",
       "  </thead>\n",
       "  <tbody>\n",
       "    <tr>\n",
       "      <th>52108</th>\n",
       "      <td>commit a snapshot of the generated prototype h...</td>\n",
       "      <td>ham</td>\n",
       "      <td>101984</td>\n",
       "    </tr>\n",
       "  </tbody>\n",
       "</table>\n",
       "</div>"
      ],
      "text/plain": [
       "                                                   email label  word_count\n",
       "52108  commit a snapshot of the generated prototype h...   ham      101984"
      ]
     },
     "execution_count": 15,
     "metadata": {},
     "output_type": "execute_result"
    }
   ],
   "source": [
    "import numpy as np\n",
    "import seaborn as sns\n",
    "import matplotlib.pyplot as plt\n",
    "\n",
    "# Crear los bins con escala logarítmica\n",
    "bins = np.logspace(np.log10(df['word_count'].min()), np.log10(df['word_count'].max()), 50)\n",
    "\n",
    "# Graficar el histograma con escala logarítmica\n",
    "sns.histplot(data=df, x='word_count', hue='label', bins=bins, kde=False, palette=\"viridis\")\n",
    "plt.xscale('log')\n",
    "plt.title(\"Word Count Distribution (Log Scale)\")\n",
    "plt.xlabel(\"Word Count (log scale)\")\n",
    "plt.ylabel(\"Frequency\")\n",
    "plt.show()\n"
   ]
  },
  {
   "cell_type": "markdown",
   "id": "b4eb40f2",
   "metadata": {},
   "source": [
    "## High word count distribution"
   ]
  },
  {
   "cell_type": "code",
   "execution_count": null,
   "id": "6febfdbb",
   "metadata": {},
   "outputs": [
    {
     "ename": "",
     "evalue": "",
     "output_type": "error",
     "traceback": [
      "\u001b[1;31mnotebook controller is DISPOSED. \n",
      "\u001b[1;31mView Jupyter <a href='command:jupyter.viewOutput'>log</a> for further details."
     ]
    }
   ],
   "source": [
    "df_filtered = df[df['word_count'] >= 30]\n",
    "\n",
    "bins = np.arange(df_filtered['word_count'].min(), df_filtered['word_count'].max() + 5, 5)\n",
    "sns.histplot(data=df_filtered, x='word_count', hue='Category', bins=bins, kde=True, palette=\"viridis\")\n",
    "plt.title(\"Word Count Distribution by Category (30+ words)\")\n",
    "plt.xlabel(\"Word Count\")\n",
    "plt.ylabel(\"Frequency\")\n",
    "plt.show()\n"
   ]
  },
  {
   "cell_type": "code",
   "execution_count": null,
   "id": "fb200bf2",
   "metadata": {},
   "outputs": [
    {
     "ename": "",
     "evalue": "",
     "output_type": "error",
     "traceback": [
      "\u001b[1;31mnotebook controller is DISPOSED. \n",
      "\u001b[1;31mView Jupyter <a href='command:jupyter.viewOutput'>log</a> for further details."
     ]
    }
   ],
   "source": [
    "spam_emails = df[df['Category'] == 1]\n",
    "\n",
    "max_words_idx = spam_emails['word_count'].idxmax()\n",
    "max_words_email = spam_emails.loc[max_words_idx, 'Message']\n",
    "\n",
    "print(f\"This is the SPAM e-mail with highest number of words ({spam_emails.loc[max_words_idx, 'word_count']} words):\\n\")\n",
    "print(max_words_email)"
   ]
  },
  {
   "cell_type": "markdown",
   "id": "91fff527",
   "metadata": {},
   "source": [
    "Observations: \n",
    "\n",
    "- Most HAM messages have between 0 and 25 words. The frequency falls dramatically when the word count increases. \n",
    "- Most SPAM messages are also short but they are more likely to have between 10 and 40 words. \n",
    "- There is a high superposition in the range of 20-35 words that could affect the classification.\n",
    "- There are no long SPAM messages (> 35 words)\n",
    "- HAM messages have higher variability than the SPAM messages (as per word count)\n",
    "\n"
   ]
  },
  {
   "cell_type": "markdown",
   "id": "43d317e2",
   "metadata": {},
   "source": [
    "## Char count distribution"
   ]
  },
  {
   "cell_type": "code",
   "execution_count": null,
   "id": "9c8e5859",
   "metadata": {},
   "outputs": [
    {
     "ename": "",
     "evalue": "",
     "output_type": "error",
     "traceback": [
      "\u001b[1;31mnotebook controller is DISPOSED. \n",
      "\u001b[1;31mView Jupyter <a href='command:jupyter.viewOutput'>log</a> for further details."
     ]
    }
   ],
   "source": [
    "df['char_count'] = df['Message'].apply(len)\n",
    "bins = np.arange(df['char_count'].min(), df['word_count'].max() + 20, 20)\n",
    "sns.histplot(data=df, x='char_count', hue='Category', bins=bins, kde=True, palette=\"viridis\")\n",
    "plt.title(\"Char Count Distribution by Category\")\n",
    "plt.xlabel(\"Char Count\")\n",
    "plt.ylabel(\"Frequency\")\n",
    "plt.show()"
   ]
  },
  {
   "cell_type": "markdown",
   "id": "fe846ab7",
   "metadata": {},
   "source": [
    "## High char count distribution"
   ]
  },
  {
   "cell_type": "code",
   "execution_count": null,
   "id": "d0514974",
   "metadata": {},
   "outputs": [
    {
     "ename": "",
     "evalue": "",
     "output_type": "error",
     "traceback": [
      "\u001b[1;31mnotebook controller is DISPOSED. \n",
      "\u001b[1;31mView Jupyter <a href='command:jupyter.viewOutput'>log</a> for further details."
     ]
    }
   ],
   "source": [
    "df_filtered = df[df['char_count'] >= 180]\n",
    "\n",
    "bins = np.arange(df_filtered['char_count'].min(), df_filtered['char_count'].max() + 20, 20)\n",
    "sns.histplot(data=df_filtered, x='char_count', hue='Category', bins=bins, kde=True, palette=\"viridis\")\n",
    "plt.title(\"Word Count Distribution by Category (30+ words)\")\n",
    "plt.xlabel(\"Word Count\")\n",
    "plt.ylabel(\"Frequency\")\n",
    "plt.show()"
   ]
  },
  {
   "cell_type": "markdown",
   "id": "7216d7af",
   "metadata": {},
   "source": [
    "Observations:\n",
    "\n",
    "- The distribution of HAM messages per char count shows that there are a lot os messages with very few characters ( <100 chars)\n",
    "- The distribution of SPAM messages per char count shows that there are a lot of messages with more characters ( >100 chars)\n",
    "- The SPAM distribution goes dramatically down after 150 chars\n",
    "- There are no more SPAM messages when the count is higher than 223 chars\n",
    "- HAM messages have more variability in number of chars than SPAM messages "
   ]
  },
  {
   "cell_type": "markdown",
   "id": "8bf70218",
   "metadata": {},
   "source": [
    "## Most common words in each class"
   ]
  },
  {
   "cell_type": "markdown",
   "id": "626fad4b",
   "metadata": {},
   "source": [
    "For that I clean the text, tokenize and apply stopwords"
   ]
  },
  {
   "cell_type": "code",
   "execution_count": null,
   "id": "d65e559b",
   "metadata": {},
   "outputs": [
    {
     "ename": "",
     "evalue": "",
     "output_type": "error",
     "traceback": [
      "\u001b[1;31mnotebook controller is DISPOSED. \n",
      "\u001b[1;31mView Jupyter <a href='command:jupyter.viewOutput'>log</a> for further details."
     ]
    }
   ],
   "source": [
    "from nltk.tokenize import word_tokenize\n",
    "from nltk.corpus import stopwords\n",
    "stop_words = set(stopwords.words('english'))\n",
    "import re\n",
    "from string import punctuation\n",
    "\n",
    "def clean_text(text):\n",
    "    special_replacements = {\n",
    "        r\"£\": \"pound\",\n",
    "        r\"\\$\": \"dollar\",\n",
    "        r\"\\€\": \"euro\",\n",
    "        r\"%\": \"percentage\", \n",
    "        r\"ì\": \"i\",\n",
    "        r\"ü\": \"you\",\n",
    "        }\n",
    "    \n",
    "    emoticon_pattern = re.compile(r\"\"\"\n",
    "    [:;=Xx]           \n",
    "    [-~]?             \n",
    "    [\\)\\]\\(\\[dDpP/]   \n",
    "    \"\"\", re.VERBOSE)\n",
    "    \n",
    "    for pattern, replacement in special_replacements.items():\n",
    "        text = re.sub(pattern, replacement, text)\n",
    "    text = re.sub(emoticon_pattern, 'emoji', text)\n",
    "    text = text.lower()\n",
    "    text = re.sub('<[^<>]+>', ' ', text)\n",
    "    text = re.sub(r'http\\S+|www.\\S+', '', text)\n",
    "    text = re.sub('[0-9]+', 'number', text)\n",
    "    text = re.sub('[^\\s]+@[^\\s]+', 'emailaddr', text)\n",
    "    text = text.translate(str.maketrans('', '', punctuation))\n",
    "    text = re.sub(r'[^a-zA-Z\\s]', '', text)\n",
    "    text = re.sub(r'\\s+', ' ', text).strip()\n",
    "    return text\n",
    "\n",
    "df_cleaned = df.copy()\n",
    "df_cleaned['Message']=df_cleaned['Message'].apply(clean_text)\n",
    "df_cleaned['message_tokenized'] = df_cleaned['Message'].apply(word_tokenize)\n",
    "\n",
    "def remove_stopwords(tokens):\n",
    "    filtered_tokens = [word for word in tokens if word.lower() not in stop_words]\n",
    "    return ' '.join(filtered_tokens)\n",
    "\n",
    "\n",
    "df_cleaned['message_clean'] = df_cleaned['message_tokenized'].apply(remove_stopwords)\n",
    "df_cleaned"
   ]
  },
  {
   "cell_type": "code",
   "execution_count": null,
   "id": "967a36cd",
   "metadata": {},
   "outputs": [
    {
     "ename": "",
     "evalue": "",
     "output_type": "error",
     "traceback": [
      "\u001b[1;31mnotebook controller is DISPOSED. \n",
      "\u001b[1;31mView Jupyter <a href='command:jupyter.viewOutput'>log</a> for further details."
     ]
    }
   ],
   "source": [
    "word = \"I'm\"\n",
    "\n",
    "if word in stop_words:\n",
    "    print(f\"'{word}' is a stopword.\")\n",
    "else:\n",
    "    print(f\"'{word}' is not a stopword.\")\n"
   ]
  },
  {
   "cell_type": "code",
   "execution_count": null,
   "id": "0e282dfa",
   "metadata": {},
   "outputs": [
    {
     "ename": "",
     "evalue": "",
     "output_type": "error",
     "traceback": [
      "\u001b[1;31mnotebook controller is DISPOSED. \n",
      "\u001b[1;31mView Jupyter <a href='command:jupyter.viewOutput'>log</a> for further details."
     ]
    }
   ],
   "source": [
    "from collections import Counter\n",
    "\n",
    "ham_data = df_cleaned[df_cleaned['Category'] == 0]\n",
    "spam_data = df_cleaned[df_cleaned['Category'] == 1]\n",
    "\n",
    "ham_words = Counter(\" \".join(ham_data[\"message_clean\"]).split()).most_common(20)\n",
    "spam_words = Counter(\" \".join(spam_data[\"message_clean\"]).split()).most_common(20)\n",
    "\n",
    "ham_words_list, ham_counts = zip(*ham_words)\n",
    "spam_words_list, spam_counts = zip(*spam_words)\n",
    "\n",
    "plt.figure(figsize=(12, 6))\n",
    "plt.barh(ham_words_list, ham_counts, color=\"darkgreen\")\n",
    "plt.xlabel('Frecuencia')\n",
    "plt.title('Top 20 most common words for HAM')\n",
    "plt.tight_layout()\n",
    "\n",
    "plt.figure(figsize=(12, 6))\n",
    "plt.barh(spam_words_list, spam_counts, color=\"darkblue\")\n",
    "plt.xlabel('Frecuencia')\n",
    "plt.title('Top 20 most common words for SPAM')\n",
    "plt.tight_layout()\n",
    "\n",
    "plt.show()\n"
   ]
  },
  {
   "cell_type": "markdown",
   "id": "c55f2863",
   "metadata": {},
   "source": [
    "Notes:\n",
    "Most common words in each class are different. That will help the model to differentiate between types of e-mails.\n",
    "\n",
    "There is a lot of misspelling in both HAM and SPAM e-mails (u, ur, ill, etc), grammatical errors (poundnumber, numberp) and abbreviations (txt, ltgt? what does that even mean?) \n",
    "\n",
    "\n",
    "For the curious ones what Google says about \"ltgt\":\n",
    "1. Long-Term Genistein Treatment in Biochemistry contexts.\n",
    "2. Long-Term Growth in economy or investing\n",
    "3. Less Than Greater Than in coding or math\n"
   ]
  },
  {
   "cell_type": "code",
   "execution_count": null,
   "id": "3e22c814",
   "metadata": {},
   "outputs": [
    {
     "ename": "",
     "evalue": "",
     "output_type": "error",
     "traceback": [
      "\u001b[1;31mnotebook controller is DISPOSED. \n",
      "\u001b[1;31mView Jupyter <a href='command:jupyter.viewOutput'>log</a> for further details."
     ]
    }
   ],
   "source": [
    "# pd.set_option('max_colwidth', None)\n",
    "\n",
    "ltgt_means = df_cleaned[df_cleaned['message_tokenized'].apply(lambda x: 'ltgt' in x)]\n",
    "ltgt_means['Message']"
   ]
  },
  {
   "cell_type": "markdown",
   "id": "c7f26a90",
   "metadata": {},
   "source": [
    "Notes: \n",
    "\n",
    "Ok, some of these messages are perturbing. Are there some that belong to SPAM?"
   ]
  },
  {
   "cell_type": "code",
   "execution_count": null,
   "id": "aa1c9bd6",
   "metadata": {},
   "outputs": [
    {
     "ename": "",
     "evalue": "",
     "output_type": "error",
     "traceback": [
      "\u001b[1;31mnotebook controller is DISPOSED. \n",
      "\u001b[1;31mView Jupyter <a href='command:jupyter.viewOutput'>log</a> for further details."
     ]
    }
   ],
   "source": [
    "ltgt_means['Category'].value_counts()\n"
   ]
  }
 ],
 "metadata": {
  "kernelspec": {
   "display_name": "spam-detector-P2ybB3t6-py3.10",
   "language": "python",
   "name": "python3"
  },
  "language_info": {
   "codemirror_mode": {
    "name": "ipython",
    "version": 3
   },
   "file_extension": ".py",
   "mimetype": "text/x-python",
   "name": "python",
   "nbconvert_exporter": "python",
   "pygments_lexer": "ipython3",
   "version": "3.10.12"
  }
 },
 "nbformat": 4,
 "nbformat_minor": 5
}
